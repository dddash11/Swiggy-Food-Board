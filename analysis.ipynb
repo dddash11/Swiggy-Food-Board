{
 "cells": [
  {
   "cell_type": "code",
   "execution_count": 1,
   "metadata": {},
   "outputs": [],
   "source": [
    "import pandas as pd\n",
    "import numpy as np\n",
    "import matplotlib.pyplot as plt\n",
    "import seaborn as sns\n",
    "import plotly.express as px"
   ]
  },
  {
   "cell_type": "code",
   "execution_count": 2,
   "metadata": {},
   "outputs": [],
   "source": [
    "df = pd.read_csv(\"swiggy_top_restaurant_foods_bengaluru.csv\")"
   ]
  },
  {
   "cell_type": "code",
   "execution_count": 3,
   "metadata": {},
   "outputs": [
    {
     "data": {
      "text/html": [
       "<div>\n",
       "<style scoped>\n",
       "    .dataframe tbody tr th:only-of-type {\n",
       "        vertical-align: middle;\n",
       "    }\n",
       "\n",
       "    .dataframe tbody tr th {\n",
       "        vertical-align: top;\n",
       "    }\n",
       "\n",
       "    .dataframe thead th {\n",
       "        text-align: right;\n",
       "    }\n",
       "</style>\n",
       "<table border=\"1\" class=\"dataframe\">\n",
       "  <thead>\n",
       "    <tr style=\"text-align: right;\">\n",
       "      <th></th>\n",
       "      <th>restaurant_name</th>\n",
       "      <th>area</th>\n",
       "      <th>ratings</th>\n",
       "      <th>no_of_ratings_greater_than_equal_to</th>\n",
       "      <th>item_name</th>\n",
       "      <th>item_category</th>\n",
       "      <th>item_price</th>\n",
       "      <th>item_description</th>\n",
       "      <th>bestseller_tag</th>\n",
       "    </tr>\n",
       "  </thead>\n",
       "  <tbody>\n",
       "    <tr>\n",
       "      <th>0</th>\n",
       "      <td>Burger King</td>\n",
       "      <td>Opposite To West Side, Shivaji Nagar</td>\n",
       "      <td>4.2</td>\n",
       "      <td>1000</td>\n",
       "      <td>Hashbrown</td>\n",
       "      <td>Recommended</td>\n",
       "      <td>29.0</td>\n",
       "      <td>What every potato wants to be.</td>\n",
       "      <td>0</td>\n",
       "    </tr>\n",
       "    <tr>\n",
       "      <th>1</th>\n",
       "      <td>Burger King</td>\n",
       "      <td>Opposite To West Side, Shivaji Nagar</td>\n",
       "      <td>4.2</td>\n",
       "      <td>1000</td>\n",
       "      <td>King Egg Burger</td>\n",
       "      <td>Recommended</td>\n",
       "      <td>60.0</td>\n",
       "      <td>No description available</td>\n",
       "      <td>0</td>\n",
       "    </tr>\n",
       "    <tr>\n",
       "      <th>2</th>\n",
       "      <td>Burger King</td>\n",
       "      <td>Opposite To West Side, Shivaji Nagar</td>\n",
       "      <td>4.2</td>\n",
       "      <td>1000</td>\n",
       "      <td>King Egg Double Patty Burger</td>\n",
       "      <td>Recommended</td>\n",
       "      <td>80.0</td>\n",
       "      <td>No description available</td>\n",
       "      <td>1</td>\n",
       "    </tr>\n",
       "    <tr>\n",
       "      <th>3</th>\n",
       "      <td>Burger King</td>\n",
       "      <td>Opposite To West Side, Shivaji Nagar</td>\n",
       "      <td>4.2</td>\n",
       "      <td>1000</td>\n",
       "      <td>King Egg with Cheese</td>\n",
       "      <td>Recommended</td>\n",
       "      <td>80.0</td>\n",
       "      <td>No description available</td>\n",
       "      <td>0</td>\n",
       "    </tr>\n",
       "    <tr>\n",
       "      <th>4</th>\n",
       "      <td>Burger King</td>\n",
       "      <td>Opposite To West Side, Shivaji Nagar</td>\n",
       "      <td>4.2</td>\n",
       "      <td>1000</td>\n",
       "      <td>King Egg Wrap</td>\n",
       "      <td>Recommended</td>\n",
       "      <td>80.0</td>\n",
       "      <td>A fresh and fluffy  egg patty loaded with juic...</td>\n",
       "      <td>0</td>\n",
       "    </tr>\n",
       "  </tbody>\n",
       "</table>\n",
       "</div>"
      ],
      "text/plain": [
       "  restaurant_name                                  area  ratings  \\\n",
       "0     Burger King  Opposite To West Side, Shivaji Nagar      4.2   \n",
       "1     Burger King  Opposite To West Side, Shivaji Nagar      4.2   \n",
       "2     Burger King  Opposite To West Side, Shivaji Nagar      4.2   \n",
       "3     Burger King  Opposite To West Side, Shivaji Nagar      4.2   \n",
       "4     Burger King  Opposite To West Side, Shivaji Nagar      4.2   \n",
       "\n",
       "   no_of_ratings_greater_than_equal_to                     item_name  \\\n",
       "0                                 1000                     Hashbrown   \n",
       "1                                 1000               King Egg Burger   \n",
       "2                                 1000  King Egg Double Patty Burger   \n",
       "3                                 1000          King Egg with Cheese   \n",
       "4                                 1000                 King Egg Wrap   \n",
       "\n",
       "  item_category  item_price  \\\n",
       "0   Recommended        29.0   \n",
       "1   Recommended        60.0   \n",
       "2   Recommended        80.0   \n",
       "3   Recommended        80.0   \n",
       "4   Recommended        80.0   \n",
       "\n",
       "                                    item_description  bestseller_tag  \n",
       "0                     What every potato wants to be.               0  \n",
       "1                           No description available               0  \n",
       "2                           No description available               1  \n",
       "3                           No description available               0  \n",
       "4  A fresh and fluffy  egg patty loaded with juic...               0  "
      ]
     },
     "execution_count": 3,
     "metadata": {},
     "output_type": "execute_result"
    }
   ],
   "source": [
    "df.head()"
   ]
  },
  {
   "cell_type": "code",
   "execution_count": 4,
   "metadata": {},
   "outputs": [
    {
     "data": {
      "text/html": [
       "<div>\n",
       "<style scoped>\n",
       "    .dataframe tbody tr th:only-of-type {\n",
       "        vertical-align: middle;\n",
       "    }\n",
       "\n",
       "    .dataframe tbody tr th {\n",
       "        vertical-align: top;\n",
       "    }\n",
       "\n",
       "    .dataframe thead th {\n",
       "        text-align: right;\n",
       "    }\n",
       "</style>\n",
       "<table border=\"1\" class=\"dataframe\">\n",
       "  <thead>\n",
       "    <tr style=\"text-align: right;\">\n",
       "      <th></th>\n",
       "      <th>ratings</th>\n",
       "      <th>no_of_ratings_greater_than_equal_to</th>\n",
       "      <th>item_price</th>\n",
       "      <th>bestseller_tag</th>\n",
       "    </tr>\n",
       "  </thead>\n",
       "  <tbody>\n",
       "    <tr>\n",
       "      <th>count</th>\n",
       "      <td>425.000000</td>\n",
       "      <td>425.000000</td>\n",
       "      <td>425.000000</td>\n",
       "      <td>425.000000</td>\n",
       "    </tr>\n",
       "    <tr>\n",
       "      <th>mean</th>\n",
       "      <td>4.350353</td>\n",
       "      <td>470.588235</td>\n",
       "      <td>233.462918</td>\n",
       "      <td>0.080000</td>\n",
       "    </tr>\n",
       "    <tr>\n",
       "      <th>std</th>\n",
       "      <td>0.131594</td>\n",
       "      <td>443.459686</td>\n",
       "      <td>179.980554</td>\n",
       "      <td>0.271613</td>\n",
       "    </tr>\n",
       "    <tr>\n",
       "      <th>min</th>\n",
       "      <td>4.200000</td>\n",
       "      <td>100.000000</td>\n",
       "      <td>0.000000</td>\n",
       "      <td>0.000000</td>\n",
       "    </tr>\n",
       "    <tr>\n",
       "      <th>25%</th>\n",
       "      <td>4.200000</td>\n",
       "      <td>100.000000</td>\n",
       "      <td>119.000000</td>\n",
       "      <td>0.000000</td>\n",
       "    </tr>\n",
       "    <tr>\n",
       "      <th>50%</th>\n",
       "      <td>4.400000</td>\n",
       "      <td>100.000000</td>\n",
       "      <td>165.710000</td>\n",
       "      <td>0.000000</td>\n",
       "    </tr>\n",
       "    <tr>\n",
       "      <th>75%</th>\n",
       "      <td>4.500000</td>\n",
       "      <td>1000.000000</td>\n",
       "      <td>299.000000</td>\n",
       "      <td>0.000000</td>\n",
       "    </tr>\n",
       "    <tr>\n",
       "      <th>max</th>\n",
       "      <td>4.500000</td>\n",
       "      <td>1000.000000</td>\n",
       "      <td>1012.000000</td>\n",
       "      <td>1.000000</td>\n",
       "    </tr>\n",
       "  </tbody>\n",
       "</table>\n",
       "</div>"
      ],
      "text/plain": [
       "          ratings  no_of_ratings_greater_than_equal_to   item_price  \\\n",
       "count  425.000000                           425.000000   425.000000   \n",
       "mean     4.350353                           470.588235   233.462918   \n",
       "std      0.131594                           443.459686   179.980554   \n",
       "min      4.200000                           100.000000     0.000000   \n",
       "25%      4.200000                           100.000000   119.000000   \n",
       "50%      4.400000                           100.000000   165.710000   \n",
       "75%      4.500000                          1000.000000   299.000000   \n",
       "max      4.500000                          1000.000000  1012.000000   \n",
       "\n",
       "       bestseller_tag  \n",
       "count      425.000000  \n",
       "mean         0.080000  \n",
       "std          0.271613  \n",
       "min          0.000000  \n",
       "25%          0.000000  \n",
       "50%          0.000000  \n",
       "75%          0.000000  \n",
       "max          1.000000  "
      ]
     },
     "execution_count": 4,
     "metadata": {},
     "output_type": "execute_result"
    }
   ],
   "source": [
    "df.describe()"
   ]
  },
  {
   "cell_type": "code",
   "execution_count": 5,
   "metadata": {},
   "outputs": [
    {
     "name": "stdout",
     "output_type": "stream",
     "text": [
      "<class 'pandas.core.frame.DataFrame'>\n",
      "RangeIndex: 425 entries, 0 to 424\n",
      "Data columns (total 9 columns):\n",
      " #   Column                               Non-Null Count  Dtype  \n",
      "---  ------                               --------------  -----  \n",
      " 0   restaurant_name                      425 non-null    object \n",
      " 1   area                                 425 non-null    object \n",
      " 2   ratings                              425 non-null    float64\n",
      " 3   no_of_ratings_greater_than_equal_to  425 non-null    int64  \n",
      " 4   item_name                            425 non-null    object \n",
      " 5   item_category                        425 non-null    object \n",
      " 6   item_price                           425 non-null    float64\n",
      " 7   item_description                     425 non-null    object \n",
      " 8   bestseller_tag                       425 non-null    int64  \n",
      "dtypes: float64(2), int64(2), object(5)\n",
      "memory usage: 30.0+ KB\n"
     ]
    }
   ],
   "source": [
    "df.info()"
   ]
  },
  {
   "cell_type": "markdown",
   "metadata": {},
   "source": [
    "## Costliest item per restaurant"
   ]
  },
  {
   "cell_type": "code",
   "execution_count": 6,
   "metadata": {},
   "outputs": [
    {
     "data": {
      "text/plain": [
       "restaurant_name\n",
       "Burger King               1012.00\n",
       "Polar Bear                 959.00\n",
       "The Belgian Waffle Co.     665.71\n",
       "Name: item_price, dtype: float64"
      ]
     },
     "execution_count": 6,
     "metadata": {},
     "output_type": "execute_result"
    }
   ],
   "source": [
    "df.groupby(by=\"restaurant_name\")[\"item_price\"].max()"
   ]
  },
  {
   "cell_type": "markdown",
   "metadata": {},
   "source": [
    "## Ratings per restaurant"
   ]
  },
  {
   "cell_type": "code",
   "execution_count": 7,
   "metadata": {},
   "outputs": [
    {
     "data": {
      "text/plain": [
       "restaurant_name\n",
       "Burger King               4.2\n",
       "Polar Bear                4.4\n",
       "The Belgian Waffle Co.    4.5\n",
       "Name: ratings, dtype: float64"
      ]
     },
     "execution_count": 7,
     "metadata": {},
     "output_type": "execute_result"
    }
   ],
   "source": [
    "df.groupby(by=\"restaurant_name\")[\"ratings\"].max()"
   ]
  },
  {
   "cell_type": "markdown",
   "metadata": {},
   "source": [
    "### Total number of ratings per restaurant"
   ]
  },
  {
   "cell_type": "code",
   "execution_count": 21,
   "metadata": {},
   "outputs": [
    {
     "data": {
      "text/plain": [
       "restaurant_name\n",
       "Burger King               1000\n",
       "Polar Bear                 100\n",
       "The Belgian Waffle Co.     100\n",
       "Name: no_of_ratings_greater_than_equal_to, dtype: int64"
      ]
     },
     "execution_count": 21,
     "metadata": {},
     "output_type": "execute_result"
    }
   ],
   "source": [
    "df.groupby(by=\"restaurant_name\")[\"no_of_ratings_greater_than_equal_to\"].max()"
   ]
  },
  {
   "cell_type": "markdown",
   "metadata": {},
   "source": [
    "## Number of bestsellers per restaurant"
   ]
  },
  {
   "cell_type": "code",
   "execution_count": 8,
   "metadata": {},
   "outputs": [
    {
     "data": {
      "text/plain": [
       "restaurant_name\n",
       "Burger King               12\n",
       "Polar Bear                 6\n",
       "The Belgian Waffle Co.    16\n",
       "Name: bestseller_tag, dtype: int64"
      ]
     },
     "execution_count": 8,
     "metadata": {},
     "output_type": "execute_result"
    }
   ],
   "source": [
    "df.groupby(by=\"restaurant_name\")[\"bestseller_tag\"].sum()"
   ]
  },
  {
   "cell_type": "markdown",
   "metadata": {},
   "source": [
    "## Restaurant by number of food items"
   ]
  },
  {
   "cell_type": "code",
   "execution_count": 38,
   "metadata": {},
   "outputs": [
    {
     "data": {
      "application/vnd.plotly.v1+json": {
       "config": {
        "plotlyServerURL": "https://plot.ly"
       },
       "data": [
        {
         "alignmentgroup": "True",
         "customdata": [
          [
           175,
           4.2,
           1000
          ],
          [
           111,
           4.4,
           100
          ],
          [
           139,
           4.5,
           100
          ]
         ],
         "hovertemplate": "restaurant_name=%{x}<br>Total number of items=%{customdata[0]}<br>ratings=%{customdata[1]}<br>no_of_people_rated=%{marker.color}<extra></extra>",
         "legendgroup": "",
         "marker": {
          "color": [
           1000,
           100,
           100
          ],
          "coloraxis": "coloraxis"
         },
         "name": "",
         "offsetgroup": "",
         "orientation": "v",
         "showlegend": false,
         "textposition": "auto",
         "type": "bar",
         "x": [
          "Burger King",
          "Polar Bear",
          "The Belgian Waffle Co."
         ],
         "xaxis": "x",
         "y": [
          175,
          111,
          139
         ],
         "yaxis": "y"
        }
       ],
       "layout": {
        "barmode": "relative",
        "coloraxis": {
         "colorbar": {
          "title": {
           "text": "no_of_people_rated"
          }
         },
         "colorscale": [
          [
           0,
           "#0d0887"
          ],
          [
           0.1111111111111111,
           "#46039f"
          ],
          [
           0.2222222222222222,
           "#7201a8"
          ],
          [
           0.3333333333333333,
           "#9c179e"
          ],
          [
           0.4444444444444444,
           "#bd3786"
          ],
          [
           0.5555555555555556,
           "#d8576b"
          ],
          [
           0.6666666666666666,
           "#ed7953"
          ],
          [
           0.7777777777777778,
           "#fb9f3a"
          ],
          [
           0.8888888888888888,
           "#fdca26"
          ],
          [
           1,
           "#f0f921"
          ]
         ]
        },
        "height": 550,
        "legend": {
         "tracegroupgap": 0
        },
        "template": {
         "data": {
          "bar": [
           {
            "error_x": {
             "color": "#2a3f5f"
            },
            "error_y": {
             "color": "#2a3f5f"
            },
            "marker": {
             "line": {
              "color": "#E5ECF6",
              "width": 0.5
             }
            },
            "type": "bar"
           }
          ],
          "barpolar": [
           {
            "marker": {
             "line": {
              "color": "#E5ECF6",
              "width": 0.5
             }
            },
            "type": "barpolar"
           }
          ],
          "carpet": [
           {
            "aaxis": {
             "endlinecolor": "#2a3f5f",
             "gridcolor": "white",
             "linecolor": "white",
             "minorgridcolor": "white",
             "startlinecolor": "#2a3f5f"
            },
            "baxis": {
             "endlinecolor": "#2a3f5f",
             "gridcolor": "white",
             "linecolor": "white",
             "minorgridcolor": "white",
             "startlinecolor": "#2a3f5f"
            },
            "type": "carpet"
           }
          ],
          "choropleth": [
           {
            "colorbar": {
             "outlinewidth": 0,
             "ticks": ""
            },
            "type": "choropleth"
           }
          ],
          "contour": [
           {
            "colorbar": {
             "outlinewidth": 0,
             "ticks": ""
            },
            "colorscale": [
             [
              0,
              "#0d0887"
             ],
             [
              0.1111111111111111,
              "#46039f"
             ],
             [
              0.2222222222222222,
              "#7201a8"
             ],
             [
              0.3333333333333333,
              "#9c179e"
             ],
             [
              0.4444444444444444,
              "#bd3786"
             ],
             [
              0.5555555555555556,
              "#d8576b"
             ],
             [
              0.6666666666666666,
              "#ed7953"
             ],
             [
              0.7777777777777778,
              "#fb9f3a"
             ],
             [
              0.8888888888888888,
              "#fdca26"
             ],
             [
              1,
              "#f0f921"
             ]
            ],
            "type": "contour"
           }
          ],
          "contourcarpet": [
           {
            "colorbar": {
             "outlinewidth": 0,
             "ticks": ""
            },
            "type": "contourcarpet"
           }
          ],
          "heatmap": [
           {
            "colorbar": {
             "outlinewidth": 0,
             "ticks": ""
            },
            "colorscale": [
             [
              0,
              "#0d0887"
             ],
             [
              0.1111111111111111,
              "#46039f"
             ],
             [
              0.2222222222222222,
              "#7201a8"
             ],
             [
              0.3333333333333333,
              "#9c179e"
             ],
             [
              0.4444444444444444,
              "#bd3786"
             ],
             [
              0.5555555555555556,
              "#d8576b"
             ],
             [
              0.6666666666666666,
              "#ed7953"
             ],
             [
              0.7777777777777778,
              "#fb9f3a"
             ],
             [
              0.8888888888888888,
              "#fdca26"
             ],
             [
              1,
              "#f0f921"
             ]
            ],
            "type": "heatmap"
           }
          ],
          "heatmapgl": [
           {
            "colorbar": {
             "outlinewidth": 0,
             "ticks": ""
            },
            "colorscale": [
             [
              0,
              "#0d0887"
             ],
             [
              0.1111111111111111,
              "#46039f"
             ],
             [
              0.2222222222222222,
              "#7201a8"
             ],
             [
              0.3333333333333333,
              "#9c179e"
             ],
             [
              0.4444444444444444,
              "#bd3786"
             ],
             [
              0.5555555555555556,
              "#d8576b"
             ],
             [
              0.6666666666666666,
              "#ed7953"
             ],
             [
              0.7777777777777778,
              "#fb9f3a"
             ],
             [
              0.8888888888888888,
              "#fdca26"
             ],
             [
              1,
              "#f0f921"
             ]
            ],
            "type": "heatmapgl"
           }
          ],
          "histogram": [
           {
            "marker": {
             "colorbar": {
              "outlinewidth": 0,
              "ticks": ""
             }
            },
            "type": "histogram"
           }
          ],
          "histogram2d": [
           {
            "colorbar": {
             "outlinewidth": 0,
             "ticks": ""
            },
            "colorscale": [
             [
              0,
              "#0d0887"
             ],
             [
              0.1111111111111111,
              "#46039f"
             ],
             [
              0.2222222222222222,
              "#7201a8"
             ],
             [
              0.3333333333333333,
              "#9c179e"
             ],
             [
              0.4444444444444444,
              "#bd3786"
             ],
             [
              0.5555555555555556,
              "#d8576b"
             ],
             [
              0.6666666666666666,
              "#ed7953"
             ],
             [
              0.7777777777777778,
              "#fb9f3a"
             ],
             [
              0.8888888888888888,
              "#fdca26"
             ],
             [
              1,
              "#f0f921"
             ]
            ],
            "type": "histogram2d"
           }
          ],
          "histogram2dcontour": [
           {
            "colorbar": {
             "outlinewidth": 0,
             "ticks": ""
            },
            "colorscale": [
             [
              0,
              "#0d0887"
             ],
             [
              0.1111111111111111,
              "#46039f"
             ],
             [
              0.2222222222222222,
              "#7201a8"
             ],
             [
              0.3333333333333333,
              "#9c179e"
             ],
             [
              0.4444444444444444,
              "#bd3786"
             ],
             [
              0.5555555555555556,
              "#d8576b"
             ],
             [
              0.6666666666666666,
              "#ed7953"
             ],
             [
              0.7777777777777778,
              "#fb9f3a"
             ],
             [
              0.8888888888888888,
              "#fdca26"
             ],
             [
              1,
              "#f0f921"
             ]
            ],
            "type": "histogram2dcontour"
           }
          ],
          "mesh3d": [
           {
            "colorbar": {
             "outlinewidth": 0,
             "ticks": ""
            },
            "type": "mesh3d"
           }
          ],
          "parcoords": [
           {
            "line": {
             "colorbar": {
              "outlinewidth": 0,
              "ticks": ""
             }
            },
            "type": "parcoords"
           }
          ],
          "pie": [
           {
            "automargin": true,
            "type": "pie"
           }
          ],
          "scatter": [
           {
            "marker": {
             "colorbar": {
              "outlinewidth": 0,
              "ticks": ""
             }
            },
            "type": "scatter"
           }
          ],
          "scatter3d": [
           {
            "line": {
             "colorbar": {
              "outlinewidth": 0,
              "ticks": ""
             }
            },
            "marker": {
             "colorbar": {
              "outlinewidth": 0,
              "ticks": ""
             }
            },
            "type": "scatter3d"
           }
          ],
          "scattercarpet": [
           {
            "marker": {
             "colorbar": {
              "outlinewidth": 0,
              "ticks": ""
             }
            },
            "type": "scattercarpet"
           }
          ],
          "scattergeo": [
           {
            "marker": {
             "colorbar": {
              "outlinewidth": 0,
              "ticks": ""
             }
            },
            "type": "scattergeo"
           }
          ],
          "scattergl": [
           {
            "marker": {
             "colorbar": {
              "outlinewidth": 0,
              "ticks": ""
             }
            },
            "type": "scattergl"
           }
          ],
          "scattermapbox": [
           {
            "marker": {
             "colorbar": {
              "outlinewidth": 0,
              "ticks": ""
             }
            },
            "type": "scattermapbox"
           }
          ],
          "scatterpolar": [
           {
            "marker": {
             "colorbar": {
              "outlinewidth": 0,
              "ticks": ""
             }
            },
            "type": "scatterpolar"
           }
          ],
          "scatterpolargl": [
           {
            "marker": {
             "colorbar": {
              "outlinewidth": 0,
              "ticks": ""
             }
            },
            "type": "scatterpolargl"
           }
          ],
          "scatterternary": [
           {
            "marker": {
             "colorbar": {
              "outlinewidth": 0,
              "ticks": ""
             }
            },
            "type": "scatterternary"
           }
          ],
          "surface": [
           {
            "colorbar": {
             "outlinewidth": 0,
             "ticks": ""
            },
            "colorscale": [
             [
              0,
              "#0d0887"
             ],
             [
              0.1111111111111111,
              "#46039f"
             ],
             [
              0.2222222222222222,
              "#7201a8"
             ],
             [
              0.3333333333333333,
              "#9c179e"
             ],
             [
              0.4444444444444444,
              "#bd3786"
             ],
             [
              0.5555555555555556,
              "#d8576b"
             ],
             [
              0.6666666666666666,
              "#ed7953"
             ],
             [
              0.7777777777777778,
              "#fb9f3a"
             ],
             [
              0.8888888888888888,
              "#fdca26"
             ],
             [
              1,
              "#f0f921"
             ]
            ],
            "type": "surface"
           }
          ],
          "table": [
           {
            "cells": {
             "fill": {
              "color": "#EBF0F8"
             },
             "line": {
              "color": "white"
             }
            },
            "header": {
             "fill": {
              "color": "#C8D4E3"
             },
             "line": {
              "color": "white"
             }
            },
            "type": "table"
           }
          ]
         },
         "layout": {
          "annotationdefaults": {
           "arrowcolor": "#2a3f5f",
           "arrowhead": 0,
           "arrowwidth": 1
          },
          "coloraxis": {
           "colorbar": {
            "outlinewidth": 0,
            "ticks": ""
           }
          },
          "colorscale": {
           "diverging": [
            [
             0,
             "#8e0152"
            ],
            [
             0.1,
             "#c51b7d"
            ],
            [
             0.2,
             "#de77ae"
            ],
            [
             0.3,
             "#f1b6da"
            ],
            [
             0.4,
             "#fde0ef"
            ],
            [
             0.5,
             "#f7f7f7"
            ],
            [
             0.6,
             "#e6f5d0"
            ],
            [
             0.7,
             "#b8e186"
            ],
            [
             0.8,
             "#7fbc41"
            ],
            [
             0.9,
             "#4d9221"
            ],
            [
             1,
             "#276419"
            ]
           ],
           "sequential": [
            [
             0,
             "#0d0887"
            ],
            [
             0.1111111111111111,
             "#46039f"
            ],
            [
             0.2222222222222222,
             "#7201a8"
            ],
            [
             0.3333333333333333,
             "#9c179e"
            ],
            [
             0.4444444444444444,
             "#bd3786"
            ],
            [
             0.5555555555555556,
             "#d8576b"
            ],
            [
             0.6666666666666666,
             "#ed7953"
            ],
            [
             0.7777777777777778,
             "#fb9f3a"
            ],
            [
             0.8888888888888888,
             "#fdca26"
            ],
            [
             1,
             "#f0f921"
            ]
           ],
           "sequentialminus": [
            [
             0,
             "#0d0887"
            ],
            [
             0.1111111111111111,
             "#46039f"
            ],
            [
             0.2222222222222222,
             "#7201a8"
            ],
            [
             0.3333333333333333,
             "#9c179e"
            ],
            [
             0.4444444444444444,
             "#bd3786"
            ],
            [
             0.5555555555555556,
             "#d8576b"
            ],
            [
             0.6666666666666666,
             "#ed7953"
            ],
            [
             0.7777777777777778,
             "#fb9f3a"
            ],
            [
             0.8888888888888888,
             "#fdca26"
            ],
            [
             1,
             "#f0f921"
            ]
           ]
          },
          "colorway": [
           "#636efa",
           "#EF553B",
           "#00cc96",
           "#ab63fa",
           "#FFA15A",
           "#19d3f3",
           "#FF6692",
           "#B6E880",
           "#FF97FF",
           "#FECB52"
          ],
          "font": {
           "color": "#2a3f5f"
          },
          "geo": {
           "bgcolor": "white",
           "lakecolor": "white",
           "landcolor": "#E5ECF6",
           "showlakes": true,
           "showland": true,
           "subunitcolor": "white"
          },
          "hoverlabel": {
           "align": "left"
          },
          "hovermode": "closest",
          "mapbox": {
           "style": "light"
          },
          "paper_bgcolor": "white",
          "plot_bgcolor": "#E5ECF6",
          "polar": {
           "angularaxis": {
            "gridcolor": "white",
            "linecolor": "white",
            "ticks": ""
           },
           "bgcolor": "#E5ECF6",
           "radialaxis": {
            "gridcolor": "white",
            "linecolor": "white",
            "ticks": ""
           }
          },
          "scene": {
           "xaxis": {
            "backgroundcolor": "#E5ECF6",
            "gridcolor": "white",
            "gridwidth": 2,
            "linecolor": "white",
            "showbackground": true,
            "ticks": "",
            "zerolinecolor": "white"
           },
           "yaxis": {
            "backgroundcolor": "#E5ECF6",
            "gridcolor": "white",
            "gridwidth": 2,
            "linecolor": "white",
            "showbackground": true,
            "ticks": "",
            "zerolinecolor": "white"
           },
           "zaxis": {
            "backgroundcolor": "#E5ECF6",
            "gridcolor": "white",
            "gridwidth": 2,
            "linecolor": "white",
            "showbackground": true,
            "ticks": "",
            "zerolinecolor": "white"
           }
          },
          "shapedefaults": {
           "line": {
            "color": "#2a3f5f"
           }
          },
          "ternary": {
           "aaxis": {
            "gridcolor": "white",
            "linecolor": "white",
            "ticks": ""
           },
           "baxis": {
            "gridcolor": "white",
            "linecolor": "white",
            "ticks": ""
           },
           "bgcolor": "#E5ECF6",
           "caxis": {
            "gridcolor": "white",
            "linecolor": "white",
            "ticks": ""
           }
          },
          "title": {
           "x": 0.05
          },
          "xaxis": {
           "automargin": true,
           "gridcolor": "white",
           "linecolor": "white",
           "ticks": "",
           "title": {
            "standoff": 15
           },
           "zerolinecolor": "white",
           "zerolinewidth": 2
          },
          "yaxis": {
           "automargin": true,
           "gridcolor": "white",
           "linecolor": "white",
           "ticks": "",
           "title": {
            "standoff": 15
           },
           "zerolinecolor": "white",
           "zerolinewidth": 2
          }
         }
        },
        "title": {
         "text": " Restaurant by number of food items colored by number of ratings received"
        },
        "xaxis": {
         "anchor": "y",
         "domain": [
          0,
          1
         ],
         "title": {
          "text": "restaurant_name"
         }
        },
        "yaxis": {
         "anchor": "x",
         "domain": [
          0,
          1
         ],
         "title": {
          "text": "Total number of items"
         }
        }
       }
      },
      "text/html": [
       "<div>\n",
       "        \n",
       "        \n",
       "            <div id=\"7b4d3919-f6b2-43f0-ace2-02c28c0256d0\" class=\"plotly-graph-div\" style=\"height:550px; width:100%;\"></div>\n",
       "            <script type=\"text/javascript\">\n",
       "                require([\"plotly\"], function(Plotly) {\n",
       "                    window.PLOTLYENV=window.PLOTLYENV || {};\n",
       "                    \n",
       "                if (document.getElementById(\"7b4d3919-f6b2-43f0-ace2-02c28c0256d0\")) {\n",
       "                    Plotly.newPlot(\n",
       "                        '7b4d3919-f6b2-43f0-ace2-02c28c0256d0',\n",
       "                        [{\"alignmentgroup\": \"True\", \"customdata\": [[175.0, 4.2, 1000.0], [111.0, 4.4, 100.0], [139.0, 4.5, 100.0]], \"hovertemplate\": \"restaurant_name=%{x}<br>Total number of items=%{customdata[0]}<br>ratings=%{customdata[1]}<br>no_of_people_rated=%{marker.color}<extra></extra>\", \"legendgroup\": \"\", \"marker\": {\"color\": [1000, 100, 100], \"coloraxis\": \"coloraxis\"}, \"name\": \"\", \"offsetgroup\": \"\", \"orientation\": \"v\", \"showlegend\": false, \"textposition\": \"auto\", \"type\": \"bar\", \"x\": [\"Burger King\", \"Polar Bear\", \"The Belgian Waffle Co.\"], \"xaxis\": \"x\", \"y\": [175, 111, 139], \"yaxis\": \"y\"}],\n",
       "                        {\"barmode\": \"relative\", \"coloraxis\": {\"colorbar\": {\"title\": {\"text\": \"no_of_people_rated\"}}, \"colorscale\": [[0.0, \"#0d0887\"], [0.1111111111111111, \"#46039f\"], [0.2222222222222222, \"#7201a8\"], [0.3333333333333333, \"#9c179e\"], [0.4444444444444444, \"#bd3786\"], [0.5555555555555556, \"#d8576b\"], [0.6666666666666666, \"#ed7953\"], [0.7777777777777778, \"#fb9f3a\"], [0.8888888888888888, \"#fdca26\"], [1.0, \"#f0f921\"]]}, \"height\": 550, \"legend\": {\"tracegroupgap\": 0}, \"template\": {\"data\": {\"bar\": [{\"error_x\": {\"color\": \"#2a3f5f\"}, \"error_y\": {\"color\": \"#2a3f5f\"}, \"marker\": {\"line\": {\"color\": \"#E5ECF6\", \"width\": 0.5}}, \"type\": \"bar\"}], \"barpolar\": [{\"marker\": {\"line\": {\"color\": \"#E5ECF6\", \"width\": 0.5}}, \"type\": \"barpolar\"}], \"carpet\": [{\"aaxis\": {\"endlinecolor\": \"#2a3f5f\", \"gridcolor\": \"white\", \"linecolor\": \"white\", \"minorgridcolor\": \"white\", \"startlinecolor\": \"#2a3f5f\"}, \"baxis\": {\"endlinecolor\": \"#2a3f5f\", \"gridcolor\": \"white\", \"linecolor\": \"white\", \"minorgridcolor\": \"white\", \"startlinecolor\": \"#2a3f5f\"}, \"type\": \"carpet\"}], \"choropleth\": [{\"colorbar\": {\"outlinewidth\": 0, \"ticks\": \"\"}, \"type\": \"choropleth\"}], \"contour\": [{\"colorbar\": {\"outlinewidth\": 0, \"ticks\": \"\"}, \"colorscale\": [[0.0, \"#0d0887\"], [0.1111111111111111, \"#46039f\"], [0.2222222222222222, \"#7201a8\"], [0.3333333333333333, \"#9c179e\"], [0.4444444444444444, \"#bd3786\"], [0.5555555555555556, \"#d8576b\"], [0.6666666666666666, \"#ed7953\"], [0.7777777777777778, \"#fb9f3a\"], [0.8888888888888888, \"#fdca26\"], [1.0, \"#f0f921\"]], \"type\": \"contour\"}], \"contourcarpet\": [{\"colorbar\": {\"outlinewidth\": 0, \"ticks\": \"\"}, \"type\": \"contourcarpet\"}], \"heatmap\": [{\"colorbar\": {\"outlinewidth\": 0, \"ticks\": \"\"}, \"colorscale\": [[0.0, \"#0d0887\"], [0.1111111111111111, \"#46039f\"], [0.2222222222222222, \"#7201a8\"], [0.3333333333333333, \"#9c179e\"], [0.4444444444444444, \"#bd3786\"], [0.5555555555555556, \"#d8576b\"], [0.6666666666666666, \"#ed7953\"], [0.7777777777777778, \"#fb9f3a\"], [0.8888888888888888, \"#fdca26\"], [1.0, \"#f0f921\"]], \"type\": \"heatmap\"}], \"heatmapgl\": [{\"colorbar\": {\"outlinewidth\": 0, \"ticks\": \"\"}, \"colorscale\": [[0.0, \"#0d0887\"], [0.1111111111111111, \"#46039f\"], [0.2222222222222222, \"#7201a8\"], [0.3333333333333333, \"#9c179e\"], [0.4444444444444444, \"#bd3786\"], [0.5555555555555556, \"#d8576b\"], [0.6666666666666666, \"#ed7953\"], [0.7777777777777778, \"#fb9f3a\"], [0.8888888888888888, \"#fdca26\"], [1.0, \"#f0f921\"]], \"type\": \"heatmapgl\"}], \"histogram\": [{\"marker\": {\"colorbar\": {\"outlinewidth\": 0, \"ticks\": \"\"}}, \"type\": \"histogram\"}], \"histogram2d\": [{\"colorbar\": {\"outlinewidth\": 0, \"ticks\": \"\"}, \"colorscale\": [[0.0, \"#0d0887\"], [0.1111111111111111, \"#46039f\"], [0.2222222222222222, \"#7201a8\"], [0.3333333333333333, \"#9c179e\"], [0.4444444444444444, \"#bd3786\"], [0.5555555555555556, \"#d8576b\"], [0.6666666666666666, \"#ed7953\"], [0.7777777777777778, \"#fb9f3a\"], [0.8888888888888888, \"#fdca26\"], [1.0, \"#f0f921\"]], \"type\": \"histogram2d\"}], \"histogram2dcontour\": [{\"colorbar\": {\"outlinewidth\": 0, \"ticks\": \"\"}, \"colorscale\": [[0.0, \"#0d0887\"], [0.1111111111111111, \"#46039f\"], [0.2222222222222222, \"#7201a8\"], [0.3333333333333333, \"#9c179e\"], [0.4444444444444444, \"#bd3786\"], [0.5555555555555556, \"#d8576b\"], [0.6666666666666666, \"#ed7953\"], [0.7777777777777778, \"#fb9f3a\"], [0.8888888888888888, \"#fdca26\"], [1.0, \"#f0f921\"]], \"type\": \"histogram2dcontour\"}], \"mesh3d\": [{\"colorbar\": {\"outlinewidth\": 0, \"ticks\": \"\"}, \"type\": \"mesh3d\"}], \"parcoords\": [{\"line\": {\"colorbar\": {\"outlinewidth\": 0, \"ticks\": \"\"}}, \"type\": \"parcoords\"}], \"pie\": [{\"automargin\": true, \"type\": \"pie\"}], \"scatter\": [{\"marker\": {\"colorbar\": {\"outlinewidth\": 0, \"ticks\": \"\"}}, \"type\": \"scatter\"}], \"scatter3d\": [{\"line\": {\"colorbar\": {\"outlinewidth\": 0, \"ticks\": \"\"}}, \"marker\": {\"colorbar\": {\"outlinewidth\": 0, \"ticks\": \"\"}}, \"type\": \"scatter3d\"}], \"scattercarpet\": [{\"marker\": {\"colorbar\": {\"outlinewidth\": 0, \"ticks\": \"\"}}, \"type\": \"scattercarpet\"}], \"scattergeo\": [{\"marker\": {\"colorbar\": {\"outlinewidth\": 0, \"ticks\": \"\"}}, \"type\": \"scattergeo\"}], \"scattergl\": [{\"marker\": {\"colorbar\": {\"outlinewidth\": 0, \"ticks\": \"\"}}, \"type\": \"scattergl\"}], \"scattermapbox\": [{\"marker\": {\"colorbar\": {\"outlinewidth\": 0, \"ticks\": \"\"}}, \"type\": \"scattermapbox\"}], \"scatterpolar\": [{\"marker\": {\"colorbar\": {\"outlinewidth\": 0, \"ticks\": \"\"}}, \"type\": \"scatterpolar\"}], \"scatterpolargl\": [{\"marker\": {\"colorbar\": {\"outlinewidth\": 0, \"ticks\": \"\"}}, \"type\": \"scatterpolargl\"}], \"scatterternary\": [{\"marker\": {\"colorbar\": {\"outlinewidth\": 0, \"ticks\": \"\"}}, \"type\": \"scatterternary\"}], \"surface\": [{\"colorbar\": {\"outlinewidth\": 0, \"ticks\": \"\"}, \"colorscale\": [[0.0, \"#0d0887\"], [0.1111111111111111, \"#46039f\"], [0.2222222222222222, \"#7201a8\"], [0.3333333333333333, \"#9c179e\"], [0.4444444444444444, \"#bd3786\"], [0.5555555555555556, \"#d8576b\"], [0.6666666666666666, \"#ed7953\"], [0.7777777777777778, \"#fb9f3a\"], [0.8888888888888888, \"#fdca26\"], [1.0, \"#f0f921\"]], \"type\": \"surface\"}], \"table\": [{\"cells\": {\"fill\": {\"color\": \"#EBF0F8\"}, \"line\": {\"color\": \"white\"}}, \"header\": {\"fill\": {\"color\": \"#C8D4E3\"}, \"line\": {\"color\": \"white\"}}, \"type\": \"table\"}]}, \"layout\": {\"annotationdefaults\": {\"arrowcolor\": \"#2a3f5f\", \"arrowhead\": 0, \"arrowwidth\": 1}, \"coloraxis\": {\"colorbar\": {\"outlinewidth\": 0, \"ticks\": \"\"}}, \"colorscale\": {\"diverging\": [[0, \"#8e0152\"], [0.1, \"#c51b7d\"], [0.2, \"#de77ae\"], [0.3, \"#f1b6da\"], [0.4, \"#fde0ef\"], [0.5, \"#f7f7f7\"], [0.6, \"#e6f5d0\"], [0.7, \"#b8e186\"], [0.8, \"#7fbc41\"], [0.9, \"#4d9221\"], [1, \"#276419\"]], \"sequential\": [[0.0, \"#0d0887\"], [0.1111111111111111, \"#46039f\"], [0.2222222222222222, \"#7201a8\"], [0.3333333333333333, \"#9c179e\"], [0.4444444444444444, \"#bd3786\"], [0.5555555555555556, \"#d8576b\"], [0.6666666666666666, \"#ed7953\"], [0.7777777777777778, \"#fb9f3a\"], [0.8888888888888888, \"#fdca26\"], [1.0, \"#f0f921\"]], \"sequentialminus\": [[0.0, \"#0d0887\"], [0.1111111111111111, \"#46039f\"], [0.2222222222222222, \"#7201a8\"], [0.3333333333333333, \"#9c179e\"], [0.4444444444444444, \"#bd3786\"], [0.5555555555555556, \"#d8576b\"], [0.6666666666666666, \"#ed7953\"], [0.7777777777777778, \"#fb9f3a\"], [0.8888888888888888, \"#fdca26\"], [1.0, \"#f0f921\"]]}, \"colorway\": [\"#636efa\", \"#EF553B\", \"#00cc96\", \"#ab63fa\", \"#FFA15A\", \"#19d3f3\", \"#FF6692\", \"#B6E880\", \"#FF97FF\", \"#FECB52\"], \"font\": {\"color\": \"#2a3f5f\"}, \"geo\": {\"bgcolor\": \"white\", \"lakecolor\": \"white\", \"landcolor\": \"#E5ECF6\", \"showlakes\": true, \"showland\": true, \"subunitcolor\": \"white\"}, \"hoverlabel\": {\"align\": \"left\"}, \"hovermode\": \"closest\", \"mapbox\": {\"style\": \"light\"}, \"paper_bgcolor\": \"white\", \"plot_bgcolor\": \"#E5ECF6\", \"polar\": {\"angularaxis\": {\"gridcolor\": \"white\", \"linecolor\": \"white\", \"ticks\": \"\"}, \"bgcolor\": \"#E5ECF6\", \"radialaxis\": {\"gridcolor\": \"white\", \"linecolor\": \"white\", \"ticks\": \"\"}}, \"scene\": {\"xaxis\": {\"backgroundcolor\": \"#E5ECF6\", \"gridcolor\": \"white\", \"gridwidth\": 2, \"linecolor\": \"white\", \"showbackground\": true, \"ticks\": \"\", \"zerolinecolor\": \"white\"}, \"yaxis\": {\"backgroundcolor\": \"#E5ECF6\", \"gridcolor\": \"white\", \"gridwidth\": 2, \"linecolor\": \"white\", \"showbackground\": true, \"ticks\": \"\", \"zerolinecolor\": \"white\"}, \"zaxis\": {\"backgroundcolor\": \"#E5ECF6\", \"gridcolor\": \"white\", \"gridwidth\": 2, \"linecolor\": \"white\", \"showbackground\": true, \"ticks\": \"\", \"zerolinecolor\": \"white\"}}, \"shapedefaults\": {\"line\": {\"color\": \"#2a3f5f\"}}, \"ternary\": {\"aaxis\": {\"gridcolor\": \"white\", \"linecolor\": \"white\", \"ticks\": \"\"}, \"baxis\": {\"gridcolor\": \"white\", \"linecolor\": \"white\", \"ticks\": \"\"}, \"bgcolor\": \"#E5ECF6\", \"caxis\": {\"gridcolor\": \"white\", \"linecolor\": \"white\", \"ticks\": \"\"}}, \"title\": {\"x\": 0.05}, \"xaxis\": {\"automargin\": true, \"gridcolor\": \"white\", \"linecolor\": \"white\", \"ticks\": \"\", \"title\": {\"standoff\": 15}, \"zerolinecolor\": \"white\", \"zerolinewidth\": 2}, \"yaxis\": {\"automargin\": true, \"gridcolor\": \"white\", \"linecolor\": \"white\", \"ticks\": \"\", \"title\": {\"standoff\": 15}, \"zerolinecolor\": \"white\", \"zerolinewidth\": 2}}}, \"title\": {\"text\": \" Restaurant by number of food items colored by number of ratings received\"}, \"xaxis\": {\"anchor\": \"y\", \"domain\": [0.0, 1.0], \"title\": {\"text\": \"restaurant_name\"}}, \"yaxis\": {\"anchor\": \"x\", \"domain\": [0.0, 1.0], \"title\": {\"text\": \"Total number of items\"}}},\n",
       "                        {\"responsive\": true}\n",
       "                    ).then(function(){\n",
       "                            \n",
       "var gd = document.getElementById('7b4d3919-f6b2-43f0-ace2-02c28c0256d0');\n",
       "var x = new MutationObserver(function (mutations, observer) {{\n",
       "        var display = window.getComputedStyle(gd).display;\n",
       "        if (!display || display === 'none') {{\n",
       "            console.log([gd, 'removed!']);\n",
       "            Plotly.purge(gd);\n",
       "            observer.disconnect();\n",
       "        }}\n",
       "}});\n",
       "\n",
       "// Listen for the removal of the full notebook cells\n",
       "var notebookContainer = gd.closest('#notebook-container');\n",
       "if (notebookContainer) {{\n",
       "    x.observe(notebookContainer, {childList: true});\n",
       "}}\n",
       "\n",
       "// Listen for the clearing of the current output cell\n",
       "var outputEl = gd.closest('.output');\n",
       "if (outputEl) {{\n",
       "    x.observe(outputEl, {childList: true});\n",
       "}}\n",
       "\n",
       "                        })\n",
       "                };\n",
       "                });\n",
       "            </script>\n",
       "        </div>"
      ]
     },
     "metadata": {},
     "output_type": "display_data"
    }
   ],
   "source": [
    "t = pd.DataFrame(df.groupby(by=['restaurant_name'])['item_name'].count())\n",
    "t['ratings'] = [4.2,4.4,4.5]\n",
    "t['no_of_people_rated'] = [1000,100,100]\n",
    "t.reset_index(inplace=True)\n",
    "t.rename(columns={'item_name': 'Total number of items'}, inplace=True)\n",
    "# sns.barplot(x=t.index, y=t[\"item_name\"], data=t)\n",
    "fig = px.bar(t, x=t['restaurant_name'], y=t['Total number of items'],\n",
    "             hover_data=['Total number of items', 'ratings','no_of_people_rated'], color='no_of_people_rated',\n",
    "             title=\" Restaurant by number of food items colored by number of ratings received\",\n",
    "             labels=dict(item_price=\"Item Price (INR)\", item_name=\"\"),\n",
    "             height=550)\n",
    "fig.show()"
   ]
  },
  {
   "cell_type": "markdown",
   "metadata": {},
   "source": [
    "#### Note --------"
   ]
  },
  {
   "cell_type": "markdown",
   "metadata": {},
   "source": [
    "* Burger King has 175 items and rated at 4.2\n",
    "* \n",
    "\n",
    "- Hypothesis : More number of food items might lead to more people buying"
   ]
  },
  {
   "cell_type": "code",
   "execution_count": null,
   "metadata": {},
   "outputs": [],
   "source": []
  },
  {
   "cell_type": "markdown",
   "metadata": {},
   "source": [
    "## Which food items sells most per restaurant?"
   ]
  },
  {
   "cell_type": "markdown",
   "metadata": {},
   "source": [
    "### Restaurant 1: Burger King"
   ]
  },
  {
   "cell_type": "code",
   "execution_count": 10,
   "metadata": {},
   "outputs": [],
   "source": [
    "r1 = df.groupby(by='restaurant_name').get_group('Burger King')"
   ]
  },
  {
   "cell_type": "code",
   "execution_count": 15,
   "metadata": {},
   "outputs": [
    {
     "data": {
      "application/vnd.plotly.v1+json": {
       "config": {
        "plotlyServerURL": "https://plot.ly"
       },
       "data": [
        {
         "alignmentgroup": "True",
         "customdata": [
          [
           "Hashbrown",
           29,
           "Recommended"
          ],
          [
           "King Egg Burger",
           60,
           "Recommended"
          ],
          [
           "King Egg Double Patty Burger",
           80,
           "Recommended"
          ],
          [
           "King Egg with Cheese",
           80,
           "Recommended"
          ],
          [
           "King Egg Wrap",
           80,
           "Recommended"
          ],
          [
           "Cheese Melt Down Burger",
           169,
           "Recommended"
          ],
          [
           "Fiery Chicken Burger",
           179,
           "Recommended"
          ],
          [
           "Anytime Combo (Veg)",
           476,
           "Recommended"
          ],
          [
           "Anytime Combo (Chicken)",
           594,
           "Recommended"
          ],
          [
           "WFH Combo (Veg)",
           694,
           "Recommended"
          ],
          [
           "Mini Treat Combo (Chicken)",
           673,
           "Recommended"
          ],
          [
           "Crispy Chicken Double Patty + Crispy Chicken Double Patty",
           238,
           "Recommended"
          ],
          [
           "Chicken Whopper + Chicken Whopper",
           358,
           "Recommended"
          ],
          [
           "2 Lite Whopper Jr Chicken + 1 King Fries+ 1 Chicken Fries",
           416,
           "Recommended"
          ],
          [
           "2 Crispy Chicken Double Patty + 1King Fries + 1 Chicken Fries",
           416,
           "Recommended"
          ],
          [
           "2 Crispy Veg Double Patty + 1King Fries + 1Veggie strips",
           298,
           "Recommended"
          ],
          [
           "2 Lite Whopper Jr Veg + 1 King Fries + 1 Veggie strips",
           366,
           "Recommended"
          ],
          [
           "Chocolate Mousse Cup",
           109,
           "Recommended"
          ],
          [
           "Hashbrown",
           29,
           "Recommended"
          ],
          [
           "Veggie Strips - 5 Pcs",
           49,
           "Recommended"
          ],
          [
           "King Fries",
           99,
           "Recommended"
          ],
          [
           "Cheesy Fries",
           109,
           "Recommended"
          ],
          [
           "Chocolate Thick Shake",
           149,
           "Recommended"
          ],
          [
           "Boneless Wings Large",
           249,
           "Recommended"
          ],
          [
           "Hashbrown",
           29,
           "Breakfast With BK"
          ],
          [
           "King Egg Burger",
           60,
           "Breakfast With BK"
          ],
          [
           "King Egg Double Patty Burger",
           80,
           "Breakfast With BK"
          ],
          [
           "King Egg with Cheese",
           80,
           "Breakfast With BK"
          ],
          [
           "King Egg Wrap",
           80,
           "Breakfast With BK"
          ],
          [
           "Chicken Tandoor Grill Burger",
           149,
           "New Kings Collection Burgers"
          ],
          [
           "Cheese Melt Down Burger",
           169,
           "New Kings Collection Burgers"
          ],
          [
           "Fiery Chicken Burger",
           179,
           "New Kings Collection Burgers"
          ],
          [
           "Paneer Overload Burger",
           179,
           "New Kings Collection Burgers"
          ],
          [
           "Anytime Combo (Veg)",
           476,
           "Home Delight Combos"
          ],
          [
           "Anytime Combo (Chicken)",
           594,
           "Home Delight Combos"
          ],
          [
           "WFH Combo (Veg)",
           694,
           "Home Delight Combos"
          ],
          [
           "2 Cheese Meltdown + 1King Fries + 2 Med Pepsi",
           595,
           "Home Delight Combos"
          ],
          [
           "2 Fiery Chicken + 1King Fries + 2 Med Pepsi",
           615,
           "Home Delight Combos"
          ],
          [
           "Mini Treat Combo (Veg)",
           606,
           "Home Delight Combos"
          ],
          [
           "Mini Treat Combo (Chicken)",
           673,
           "Home Delight Combos"
          ],
          [
           "Binge Combo ( Veg)",
           676,
           "Home Delight Combos"
          ],
          [
           "Binge Combo ( Chicken )",
           745,
           "Home Delight Combos"
          ],
          [
           "Chillax Combo (Veg)",
           773,
           "Home Delight Combos"
          ],
          [
           "2 Veg Whopper + 1Cheese Meltdown",
           467,
           "Friends & Family Combo"
          ],
          [
           "2 Cheese Meltdown + 1Classic Veg",
           417,
           "Friends & Family Combo"
          ],
          [
           "2 Chicken Whopper +1Fiery Chicken",
           537,
           "Friends & Family Combo"
          ],
          [
           "2 Fiery Chicken +1Classic Chicken",
           457,
           "Friends & Family Combo"
          ],
          [
           "BK Classic Chicken + BK Classic Chicken",
           198,
           "Friends & Family Combo"
          ],
          [
           "Chicken Makhani Burst + Lite Whopper Jr Chicken",
           199,
           "Friends & Family Combo"
          ],
          [
           "Crispy Chicken Double Patty + Crispy Chicken Double Patty",
           238,
           "Friends & Family Combo"
          ],
          [
           "Chicken Whopper + Chicken Whopper",
           358,
           "Friends & Family Combo"
          ],
          [
           "Twisted Whopper Veg + Twisted Whopper Veg",
           398,
           "Friends & Family Combo"
          ],
          [
           "Twisted Whopper Chicken + Twisted Whopper Chicken",
           438,
           "Friends & Family Combo"
          ],
          [
           "2 Chicken Whopper + 2 Crispy Chicken + 5pc- Chicken Sticks + 1 King Fries + 4 Pepsi",
           1012,
           "Friends & Family Combo"
          ],
          [
           "2 Veg Whopper + 2Crispy Veg + 5pc Veggie Strips + 1 King Fries + 4 Medium Pepsi",
           872,
           "Friends & Family Combo"
          ],
          [
           "1 Crispy Chicken + 1 Chocolate Thick Shake",
           218,
           "Friends & Family Combo"
          ],
          [
           "1 Chicken Whopper + 1 Chocolate Thick Shake",
           328,
           "Friends & Family Combo"
          ],
          [
           "1 Crispy Veg + 1 Chocolate Thick Shake",
           204,
           "Friends & Family Combo"
          ],
          [
           "1 Veg Whopper + 1 Chocolate Thick Shake",
           298,
           "Friends & Family Combo"
          ],
          [
           "1 Paneer Overload Burger + 1 Chocolate Thick Shake",
           328,
           "Friends & Family Combo"
          ],
          [
           "2 Lite Whopper Jr Chicken + 1 King Fries+ 1 Chicken Fries",
           416,
           "Friends & Family Combo"
          ],
          [
           "2 Crispy Chicken Double Patty + 1King Fries + 1 Chicken Fries",
           416,
           "Friends & Family Combo"
          ],
          [
           "2 Crispy Veg Double Patty + 1King Fries + 1Veggie strips",
           298,
           "Friends & Family Combo"
          ],
          [
           "2 Lite Whopper Jr Veg + 1 King Fries + 1 Veggie strips",
           366,
           "Friends & Family Combo"
          ],
          [
           "2 Crispy Veg Double Patty + 1 King Fries +1Chocolate mousse cup",
           358,
           "Friends & Family Combo"
          ],
          [
           "2 Crispy Chicken + 1 King Fries +1Chocolate mousse cup",
           368,
           "Friends & Family Combo"
          ],
          [
           "1 Cheese Meltdown + 1 Veggie Strips + 1  Chocolate Mousse cup",
           327,
           "Friends & Family Combo"
          ],
          [
           "1 Fiery Chicken +1  Chicken Fries + 1 Chocolate Mousse cup",
           367,
           "Friends & Family Combo"
          ],
          [
           "2Chicken Whopper + 2Pepsi + 1Cheesy fries + 2 Chocolate Chocolate Mousse Cup",
           823,
           "Friends & Family Combo"
          ],
          [
           "2Veg Whopper + 2Pepsi + 1Cheesy fries + 2 Chocolate Chocolate Mousse Cup",
           763,
           "Friends & Family Combo"
          ],
          [
           "Mutton Whopper",
           299,
           "Whopper"
          ],
          [
           "Twisted Whopper - Mutton",
           339,
           "Whopper"
          ],
          [
           "Mutton Whopper Double Patty",
           389,
           "Whopper"
          ],
          [
           "Chicken Whopper",
           179,
           "Whopper"
          ],
          [
           "Chicken Whopper with Cheese",
           199,
           "Whopper"
          ],
          [
           "Twisted Whopper - Chicken",
           219,
           "Whopper"
          ],
          [
           "Chicken Whopper Double Patty",
           239,
           "Whopper"
          ],
          [
           "Veg Whopper",
           149,
           "Whopper"
          ],
          [
           "Veg Whopper with Cheese",
           169,
           "Whopper"
          ],
          [
           "Veg Whopper Double Patty",
           199,
           "Whopper"
          ],
          [
           "Twisted Whopper - Veg",
           199,
           "Whopper"
          ],
          [
           "Mutton Whopper - Combo",
           428,
           "Meal Combos (Save Rs 35)"
          ],
          [
           "Mutton Twisted Whopper Combo",
           468,
           "Meal Combos (Save Rs 35)"
          ],
          [
           "Crispy Chicken Combo",
           209,
           "Meal Combos (Save Rs 35)"
          ],
          [
           "Spicy Grill Chicken Burger Meal Combo",
           228,
           "Meal Combos (Save Rs 35)"
          ],
          [
           "BK Classic Chicken Combo",
           228,
           "Meal Combos (Save Rs 35)"
          ],
          [
           "Lite Whopper Jr Chicken Combo",
           248,
           "Meal Combos (Save Rs 35)"
          ],
          [
           "Chicken Tandoor Grill - Combo",
           278,
           "Meal Combos (Save Rs 35)"
          ],
          [
           "Big Smoky Grill Chicken Burger Combo",
           288,
           "Meal Combos (Save Rs 35)"
          ],
          [
           "Chicken Whopper Combo",
           308,
           "Meal Combos (Save Rs 35)"
          ],
          [
           "Fiery Chicken - Combo",
           308,
           "Meal Combos (Save Rs 35)"
          ],
          [
           "Chicken Twisted Whopper Combo",
           348,
           "Meal Combos (Save Rs 35)"
          ],
          [
           "King Egg Combo",
           188,
           "Meal Combos (Save Rs 35)"
          ],
          [
           "Crispy Veg Combo",
           184,
           "Meal Combos (Save Rs 35)"
          ],
          [
           "BK Classic Veg Combo",
           208,
           "Meal Combos (Save Rs 35)"
          ],
          [
           "Lite Whopper Jr Veg Combo",
           238,
           "Meal Combos (Save Rs 35)"
          ],
          [
           "Veg Whopper  Combo",
           278,
           "Meal Combos (Save Rs 35)"
          ],
          [
           "Cheese Melt down combo",
           298,
           "Meal Combos (Save Rs 35)"
          ],
          [
           "Paneer Overload Combo",
           308,
           "Meal Combos (Save Rs 35)"
          ],
          [
           "Veg Twisted Whopper Combo",
           328,
           "Meal Combos (Save Rs 35)"
          ],
          [
           "Crispy Veg Burger",
           55,
           "Burgers & Wraps"
          ],
          [
           "Crispy Chicken Burger",
           80,
           "Burgers & Wraps"
          ],
          [
           "BK Classic Chicken Burger",
           99,
           "Burgers & Wraps"
          ],
          [
           "Spicy Grill Chicken Burger",
           99,
           "Burgers & Wraps"
          ],
          [
           "Crispy Chicken with Cheese Burger",
           100,
           "Burgers & Wraps"
          ],
          [
           "BK Classic Chicken with Cheese Burger",
           119,
           "Burgers & Wraps"
          ],
          [
           "Lite Whopper Jr Chicken",
           119,
           "Burgers & Wraps"
          ],
          [
           "Crispy Chicken Double Patty Burger",
           119,
           "Burgers & Wraps"
          ],
          [
           "Crispy Chicken Double Patty with Cheese",
           139,
           "Burgers & Wraps"
          ],
          [
           "Lite Whopper Jr Chicken with Cheese",
           139,
           "Burgers & Wraps"
          ],
          [
           "Big Smoky Grill Chicken Burger",
           159,
           "Burgers & Wraps"
          ],
          [
           "Lite Whopper Jr Chicken Double Patty",
           169,
           "Burgers & Wraps"
          ],
          [
           "Fiery Chicken with Cheese Burger",
           199,
           "Burgers & Wraps"
          ],
          [
           "Chicken Tandoor grill Double Patty",
           249,
           "Burgers & Wraps"
          ],
          [
           "King Egg Burger",
           60,
           "Burgers & Wraps"
          ],
          [
           "Crispy Veg Double Patty Burger",
           75,
           "Burgers & Wraps"
          ],
          [
           "Crispy Veg with Cheese Burger",
           75,
           "Burgers & Wraps"
          ],
          [
           "BK Classic Veg Burger",
           79,
           "Burgers & Wraps"
          ],
          [
           "King Egg with Cheese",
           80,
           "Burgers & Wraps"
          ],
          [
           "King Egg Double Patty Burger",
           80,
           "Burgers & Wraps"
          ],
          [
           "Crispy Veg Double Patty with Cheese",
           95,
           "Burgers & Wraps"
          ],
          [
           "Bk Classic Veg with cheese",
           99,
           "Burgers & Wraps"
          ],
          [
           "Lite Whopper Jr Veg",
           109,
           "Burgers & Wraps"
          ],
          [
           "Lite Whopper Jr Veg with Cheese",
           129,
           "Burgers & Wraps"
          ],
          [
           "Lite Whopper Jr Veg Double Patty",
           149,
           "Burgers & Wraps"
          ],
          [
           "Cheese Meltdown with Cheese Burger",
           189,
           "Burgers & Wraps"
          ],
          [
           "Paneer Overload with Cheese Burger",
           199,
           "Burgers & Wraps"
          ],
          [
           "Chicken Makhani Burst Burger",
           80,
           "What's New"
          ],
          [
           "Crispy Chicken Wrap",
           80,
           "What's New"
          ],
          [
           "Chicken Fries (5 Pcs) + 1 Dip",
           99,
           "What's New"
          ],
          [
           "2 Dips Combo Pack",
           40,
           "What's New"
          ],
          [
           "Crispy veg Wrap",
           60,
           "What's New"
          ],
          [
           "Chicken Makhani Burst Double Patty Burger",
           120,
           "What's New"
          ],
          [
           "Boneless Wings(Regular) + 1 Dip",
           169,
           "What's New"
          ],
          [
           "Boneless Wings(Large) + 1 Dip",
           269,
           "What's New"
          ],
          [
           "Veg Crunchy Volcano",
           60,
           "What's New"
          ],
          [
           "Tikki Twist Burger",
           60,
           "What's New"
          ],
          [
           "Veg Makhani Burst Burger",
           60,
           "What's New"
          ],
          [
           "Veggie Strips(5Pcs) + 1 Dip",
           69,
           "What's New"
          ],
          [
           "Crunchy Chicken Volcano",
           80,
           "What's New"
          ],
          [
           "King Egg Wrap",
           80,
           "What's New"
          ],
          [
           "Tikki Twist Double Patty Burger",
           80,
           "What's New"
          ],
          [
           "Veg Makhani Burst Double Patty Burger",
           80,
           "What's New"
          ],
          [
           "Chocolate Mousse Cup",
           109,
           "What's New"
          ],
          [
           "Fries + Veg Strips + 2 Dips",
           174,
           "What's New"
          ],
          [
           "My Fries & Dips Pack",
           200,
           "What's New"
          ],
          [
           "My Fries & Dips Pack - Non Veg",
           204,
           "What's New"
          ],
          [
           "Choco Lava Cup",
           109,
           "What's New"
          ],
          [
           "Fiery Hell Dip",
           20,
           "Sides"
          ],
          [
           "Sweet N Spice Dip",
           20,
           "Sides"
          ],
          [
           "Easy Cheesy Dip",
           20,
           "Sides"
          ],
          [
           "Hashbrown",
           29,
           "Sides"
          ],
          [
           "Veggie Strips - 5 Pcs",
           49,
           "Sides"
          ],
          [
           "Chicken Fries (5 Pcs)",
           79,
           "Sides"
          ],
          [
           "Medium Fries",
           85,
           "Sides"
          ],
          [
           "King Fries",
           99,
           "Sides"
          ],
          [
           "Medium Peri Peri Fries",
           105,
           "Sides"
          ],
          [
           "Cheesy Fries",
           109,
           "Sides"
          ],
          [
           "Creamy Italian  Fries",
           109,
           "Sides"
          ],
          [
           "King Peri Peri Fries",
           119,
           "Sides"
          ],
          [
           "Med Pepsi",
           79,
           "Beverages"
          ],
          [
           "King Pepsi 550 ml",
           89,
           "Beverages"
          ],
          [
           "Chocolate Thick Shake",
           149,
           "Beverages"
          ],
          [
           "Mango Thick Shake",
           149,
           "Beverages"
          ],
          [
           "Berry Blast Thick Shake",
           149,
           "Beverages"
          ],
          [
           "Choco Lava Cup",
           109,
           "Desserts"
          ],
          [
           "Chocolate Mousse Cup",
           109,
           "Desserts"
          ],
          [
           "Chicken Wings Grilled - Two Pieces",
           79,
           "Chicken Wings"
          ],
          [
           "Boneless Wings Regular",
           149,
           "Chicken Wings"
          ],
          [
           "Chicken Wings Grilled Four Pieces",
           149,
           "Chicken Wings"
          ],
          [
           "Boneless Wings Large",
           249,
           "Chicken Wings"
          ],
          [
           "Chicken Wings Grilled - Ten Pcs",
           349,
           "Chicken Wings"
          ],
          [
           "Chicken Wings Grilled - Fifteen Pcs",
           529,
           "Chicken Wings"
          ],
          [
           "Boneless Chicken Wings 10 pcs",
           369,
           "Chicken Wings"
          ],
          [
           "Boneless Chicken Wings 15 pcs",
           519,
           "Chicken Wings"
          ]
         ],
         "hovertemplate": "=%{customdata[0]}<br>Item Price (INR)=%{customdata[1]}<br>item_category=%{customdata[2]}<br>bestseller_tag=%{marker.color}<extra></extra>",
         "legendgroup": "",
         "marker": {
          "color": [
           0,
           0,
           1,
           0,
           0,
           0,
           1,
           0,
           0,
           0,
           0,
           0,
           0,
           0,
           0,
           0,
           0,
           0,
           0,
           0,
           0,
           0,
           0,
           0,
           0,
           0,
           1,
           0,
           0,
           0,
           0,
           1,
           0,
           0,
           0,
           0,
           0,
           0,
           0,
           0,
           0,
           0,
           0,
           0,
           0,
           0,
           0,
           0,
           0,
           0,
           0,
           0,
           0,
           0,
           0,
           0,
           0,
           0,
           0,
           0,
           0,
           0,
           0,
           0,
           0,
           0,
           0,
           0,
           0,
           0,
           0,
           0,
           0,
           1,
           0,
           0,
           0,
           0,
           0,
           0,
           0,
           0,
           0,
           0,
           0,
           0,
           0,
           0,
           0,
           0,
           0,
           0,
           0,
           0,
           0,
           0,
           0,
           0,
           0,
           0,
           1,
           1,
           0,
           0,
           0,
           0,
           0,
           1,
           0,
           0,
           0,
           0,
           0,
           0,
           0,
           1,
           0,
           0,
           0,
           0,
           0,
           0,
           0,
           0,
           0,
           0,
           0,
           0,
           0,
           0,
           0,
           0,
           0,
           0,
           0,
           0,
           0,
           0,
           0,
           0,
           0,
           0,
           0,
           0,
           0,
           0,
           0,
           0,
           0,
           0,
           0,
           0,
           0,
           1,
           1,
           0,
           1,
           0,
           0,
           0,
           0,
           0,
           0,
           0,
           0,
           0,
           0,
           0,
           0,
           0,
           0,
           0,
           0,
           0,
           0
          ],
          "coloraxis": "coloraxis"
         },
         "name": "",
         "offsetgroup": "",
         "orientation": "v",
         "showlegend": false,
         "textposition": "auto",
         "type": "bar",
         "x": [
          "Hashbrown",
          "King Egg Burger",
          "King Egg Double Patty Burger",
          "King Egg with Cheese",
          "King Egg Wrap",
          "Cheese Melt Down Burger",
          "Fiery Chicken Burger",
          "Anytime Combo (Veg)",
          "Anytime Combo (Chicken)",
          "WFH Combo (Veg)",
          "Mini Treat Combo (Chicken)",
          "Crispy Chicken Double Patty + Crispy Chicken Double Patty",
          "Chicken Whopper + Chicken Whopper",
          "2 Lite Whopper Jr Chicken + 1 King Fries+ 1 Chicken Fries",
          "2 Crispy Chicken Double Patty + 1King Fries + 1 Chicken Fries",
          "2 Crispy Veg Double Patty + 1King Fries + 1Veggie strips",
          "2 Lite Whopper Jr Veg + 1 King Fries + 1 Veggie strips",
          "Chocolate Mousse Cup",
          "Hashbrown",
          "Veggie Strips - 5 Pcs",
          "King Fries",
          "Cheesy Fries",
          "Chocolate Thick Shake",
          "Boneless Wings Large",
          "Hashbrown",
          "King Egg Burger",
          "King Egg Double Patty Burger",
          "King Egg with Cheese",
          "King Egg Wrap",
          "Chicken Tandoor Grill Burger",
          "Cheese Melt Down Burger",
          "Fiery Chicken Burger",
          "Paneer Overload Burger",
          "Anytime Combo (Veg)",
          "Anytime Combo (Chicken)",
          "WFH Combo (Veg)",
          "2 Cheese Meltdown + 1King Fries + 2 Med Pepsi",
          "2 Fiery Chicken + 1King Fries + 2 Med Pepsi",
          "Mini Treat Combo (Veg)",
          "Mini Treat Combo (Chicken)",
          "Binge Combo ( Veg)",
          "Binge Combo ( Chicken )",
          "Chillax Combo (Veg)",
          "2 Veg Whopper + 1Cheese Meltdown",
          "2 Cheese Meltdown + 1Classic Veg",
          "2 Chicken Whopper +1Fiery Chicken",
          "2 Fiery Chicken +1Classic Chicken",
          "BK Classic Chicken + BK Classic Chicken",
          "Chicken Makhani Burst + Lite Whopper Jr Chicken",
          "Crispy Chicken Double Patty + Crispy Chicken Double Patty",
          "Chicken Whopper + Chicken Whopper",
          "Twisted Whopper Veg + Twisted Whopper Veg",
          "Twisted Whopper Chicken + Twisted Whopper Chicken",
          "2 Chicken Whopper + 2 Crispy Chicken + 5pc- Chicken Sticks + 1 King Fries + 4 Pepsi",
          "2 Veg Whopper + 2Crispy Veg + 5pc Veggie Strips + 1 King Fries + 4 Medium Pepsi",
          "1 Crispy Chicken + 1 Chocolate Thick Shake",
          "1 Chicken Whopper + 1 Chocolate Thick Shake",
          "1 Crispy Veg + 1 Chocolate Thick Shake",
          "1 Veg Whopper + 1 Chocolate Thick Shake",
          "1 Paneer Overload Burger + 1 Chocolate Thick Shake",
          "2 Lite Whopper Jr Chicken + 1 King Fries+ 1 Chicken Fries",
          "2 Crispy Chicken Double Patty + 1King Fries + 1 Chicken Fries",
          "2 Crispy Veg Double Patty + 1King Fries + 1Veggie strips",
          "2 Lite Whopper Jr Veg + 1 King Fries + 1 Veggie strips",
          "2 Crispy Veg Double Patty + 1 King Fries +1Chocolate mousse cup",
          "2 Crispy Chicken + 1 King Fries +1Chocolate mousse cup",
          "1 Cheese Meltdown + 1 Veggie Strips + 1  Chocolate Mousse cup",
          "1 Fiery Chicken +1  Chicken Fries + 1 Chocolate Mousse cup",
          "2Chicken Whopper + 2Pepsi + 1Cheesy fries + 2 Chocolate Chocolate Mousse Cup",
          "2Veg Whopper + 2Pepsi + 1Cheesy fries + 2 Chocolate Chocolate Mousse Cup",
          "Mutton Whopper",
          "Twisted Whopper - Mutton",
          "Mutton Whopper Double Patty",
          "Chicken Whopper",
          "Chicken Whopper with Cheese",
          "Twisted Whopper - Chicken",
          "Chicken Whopper Double Patty",
          "Veg Whopper",
          "Veg Whopper with Cheese",
          "Veg Whopper Double Patty",
          "Twisted Whopper - Veg",
          "Mutton Whopper - Combo",
          "Mutton Twisted Whopper Combo",
          "Crispy Chicken Combo",
          "Spicy Grill Chicken Burger Meal Combo",
          "BK Classic Chicken Combo",
          "Lite Whopper Jr Chicken Combo",
          "Chicken Tandoor Grill - Combo",
          "Big Smoky Grill Chicken Burger Combo",
          "Chicken Whopper Combo",
          "Fiery Chicken - Combo",
          "Chicken Twisted Whopper Combo",
          "King Egg Combo",
          "Crispy Veg Combo",
          "BK Classic Veg Combo",
          "Lite Whopper Jr Veg Combo",
          "Veg Whopper  Combo",
          "Cheese Melt down combo",
          "Paneer Overload Combo",
          "Veg Twisted Whopper Combo",
          "Crispy Veg Burger",
          "Crispy Chicken Burger",
          "BK Classic Chicken Burger",
          "Spicy Grill Chicken Burger",
          "Crispy Chicken with Cheese Burger",
          "BK Classic Chicken with Cheese Burger",
          "Lite Whopper Jr Chicken",
          "Crispy Chicken Double Patty Burger",
          "Crispy Chicken Double Patty with Cheese",
          "Lite Whopper Jr Chicken with Cheese",
          "Big Smoky Grill Chicken Burger",
          "Lite Whopper Jr Chicken Double Patty",
          "Fiery Chicken with Cheese Burger",
          "Chicken Tandoor grill Double Patty",
          "King Egg Burger",
          "Crispy Veg Double Patty Burger",
          "Crispy Veg with Cheese Burger",
          "BK Classic Veg Burger",
          "King Egg with Cheese",
          "King Egg Double Patty Burger",
          "Crispy Veg Double Patty with Cheese",
          "Bk Classic Veg with cheese",
          "Lite Whopper Jr Veg",
          "Lite Whopper Jr Veg with Cheese",
          "Lite Whopper Jr Veg Double Patty",
          "Cheese Meltdown with Cheese Burger",
          "Paneer Overload with Cheese Burger",
          "Chicken Makhani Burst Burger",
          "Crispy Chicken Wrap",
          "Chicken Fries (5 Pcs) + 1 Dip",
          "2 Dips Combo Pack",
          "Crispy veg Wrap",
          "Chicken Makhani Burst Double Patty Burger",
          "Boneless Wings(Regular) + 1 Dip",
          "Boneless Wings(Large) + 1 Dip",
          "Veg Crunchy Volcano",
          "Tikki Twist Burger",
          "Veg Makhani Burst Burger",
          "Veggie Strips(5Pcs) + 1 Dip",
          "Crunchy Chicken Volcano",
          "King Egg Wrap",
          "Tikki Twist Double Patty Burger",
          "Veg Makhani Burst Double Patty Burger",
          "Chocolate Mousse Cup",
          "Fries + Veg Strips + 2 Dips",
          "My Fries & Dips Pack",
          "My Fries & Dips Pack - Non Veg",
          "Choco Lava Cup",
          "Fiery Hell Dip",
          "Sweet N Spice Dip",
          "Easy Cheesy Dip",
          "Hashbrown",
          "Veggie Strips - 5 Pcs",
          "Chicken Fries (5 Pcs)",
          "Medium Fries",
          "King Fries",
          "Medium Peri Peri Fries",
          "Cheesy Fries",
          "Creamy Italian  Fries",
          "King Peri Peri Fries",
          "Med Pepsi",
          "King Pepsi 550 ml",
          "Chocolate Thick Shake",
          "Mango Thick Shake",
          "Berry Blast Thick Shake",
          "Choco Lava Cup",
          "Chocolate Mousse Cup",
          "Chicken Wings Grilled - Two Pieces",
          "Boneless Wings Regular",
          "Chicken Wings Grilled Four Pieces",
          "Boneless Wings Large",
          "Chicken Wings Grilled - Ten Pcs",
          "Chicken Wings Grilled - Fifteen Pcs",
          "Boneless Chicken Wings 10 pcs",
          "Boneless Chicken Wings 15 pcs"
         ],
         "xaxis": "x",
         "y": [
          29,
          60,
          80,
          80,
          80,
          169,
          179,
          476,
          594,
          694,
          673,
          238,
          358,
          416,
          416,
          298,
          366,
          109,
          29,
          49,
          99,
          109,
          149,
          249,
          29,
          60,
          80,
          80,
          80,
          149,
          169,
          179,
          179,
          476,
          594,
          694,
          595,
          615,
          606,
          673,
          676,
          745,
          773,
          467,
          417,
          537,
          457,
          198,
          199,
          238,
          358,
          398,
          438,
          1012,
          872,
          218,
          328,
          204,
          298,
          328,
          416,
          416,
          298,
          366,
          358,
          368,
          327,
          367,
          823,
          763,
          299,
          339,
          389,
          179,
          199,
          219,
          239,
          149,
          169,
          199,
          199,
          428,
          468,
          209,
          228,
          228,
          248,
          278,
          288,
          308,
          308,
          348,
          188,
          184,
          208,
          238,
          278,
          298,
          308,
          328,
          55,
          80,
          99,
          99,
          100,
          119,
          119,
          119,
          139,
          139,
          159,
          169,
          199,
          249,
          60,
          75,
          75,
          79,
          80,
          80,
          95,
          99,
          109,
          129,
          149,
          189,
          199,
          80,
          80,
          99,
          40,
          60,
          120,
          169,
          269,
          60,
          60,
          60,
          69,
          80,
          80,
          80,
          80,
          109,
          174,
          200,
          204,
          109,
          20,
          20,
          20,
          29,
          49,
          79,
          85,
          99,
          105,
          109,
          109,
          119,
          79,
          89,
          149,
          149,
          149,
          109,
          109,
          79,
          149,
          149,
          249,
          349,
          529,
          369,
          519
         ],
         "yaxis": "y"
        }
       ],
       "layout": {
        "barmode": "relative",
        "coloraxis": {
         "colorbar": {
          "title": {
           "text": "bestseller_tag"
          }
         },
         "colorscale": [
          [
           0,
           "#0d0887"
          ],
          [
           0.1111111111111111,
           "#46039f"
          ],
          [
           0.2222222222222222,
           "#7201a8"
          ],
          [
           0.3333333333333333,
           "#9c179e"
          ],
          [
           0.4444444444444444,
           "#bd3786"
          ],
          [
           0.5555555555555556,
           "#d8576b"
          ],
          [
           0.6666666666666666,
           "#ed7953"
          ],
          [
           0.7777777777777778,
           "#fb9f3a"
          ],
          [
           0.8888888888888888,
           "#fdca26"
          ],
          [
           1,
           "#f0f921"
          ]
         ]
        },
        "height": 550,
        "legend": {
         "tracegroupgap": 0
        },
        "template": {
         "data": {
          "bar": [
           {
            "error_x": {
             "color": "#2a3f5f"
            },
            "error_y": {
             "color": "#2a3f5f"
            },
            "marker": {
             "line": {
              "color": "#E5ECF6",
              "width": 0.5
             }
            },
            "type": "bar"
           }
          ],
          "barpolar": [
           {
            "marker": {
             "line": {
              "color": "#E5ECF6",
              "width": 0.5
             }
            },
            "type": "barpolar"
           }
          ],
          "carpet": [
           {
            "aaxis": {
             "endlinecolor": "#2a3f5f",
             "gridcolor": "white",
             "linecolor": "white",
             "minorgridcolor": "white",
             "startlinecolor": "#2a3f5f"
            },
            "baxis": {
             "endlinecolor": "#2a3f5f",
             "gridcolor": "white",
             "linecolor": "white",
             "minorgridcolor": "white",
             "startlinecolor": "#2a3f5f"
            },
            "type": "carpet"
           }
          ],
          "choropleth": [
           {
            "colorbar": {
             "outlinewidth": 0,
             "ticks": ""
            },
            "type": "choropleth"
           }
          ],
          "contour": [
           {
            "colorbar": {
             "outlinewidth": 0,
             "ticks": ""
            },
            "colorscale": [
             [
              0,
              "#0d0887"
             ],
             [
              0.1111111111111111,
              "#46039f"
             ],
             [
              0.2222222222222222,
              "#7201a8"
             ],
             [
              0.3333333333333333,
              "#9c179e"
             ],
             [
              0.4444444444444444,
              "#bd3786"
             ],
             [
              0.5555555555555556,
              "#d8576b"
             ],
             [
              0.6666666666666666,
              "#ed7953"
             ],
             [
              0.7777777777777778,
              "#fb9f3a"
             ],
             [
              0.8888888888888888,
              "#fdca26"
             ],
             [
              1,
              "#f0f921"
             ]
            ],
            "type": "contour"
           }
          ],
          "contourcarpet": [
           {
            "colorbar": {
             "outlinewidth": 0,
             "ticks": ""
            },
            "type": "contourcarpet"
           }
          ],
          "heatmap": [
           {
            "colorbar": {
             "outlinewidth": 0,
             "ticks": ""
            },
            "colorscale": [
             [
              0,
              "#0d0887"
             ],
             [
              0.1111111111111111,
              "#46039f"
             ],
             [
              0.2222222222222222,
              "#7201a8"
             ],
             [
              0.3333333333333333,
              "#9c179e"
             ],
             [
              0.4444444444444444,
              "#bd3786"
             ],
             [
              0.5555555555555556,
              "#d8576b"
             ],
             [
              0.6666666666666666,
              "#ed7953"
             ],
             [
              0.7777777777777778,
              "#fb9f3a"
             ],
             [
              0.8888888888888888,
              "#fdca26"
             ],
             [
              1,
              "#f0f921"
             ]
            ],
            "type": "heatmap"
           }
          ],
          "heatmapgl": [
           {
            "colorbar": {
             "outlinewidth": 0,
             "ticks": ""
            },
            "colorscale": [
             [
              0,
              "#0d0887"
             ],
             [
              0.1111111111111111,
              "#46039f"
             ],
             [
              0.2222222222222222,
              "#7201a8"
             ],
             [
              0.3333333333333333,
              "#9c179e"
             ],
             [
              0.4444444444444444,
              "#bd3786"
             ],
             [
              0.5555555555555556,
              "#d8576b"
             ],
             [
              0.6666666666666666,
              "#ed7953"
             ],
             [
              0.7777777777777778,
              "#fb9f3a"
             ],
             [
              0.8888888888888888,
              "#fdca26"
             ],
             [
              1,
              "#f0f921"
             ]
            ],
            "type": "heatmapgl"
           }
          ],
          "histogram": [
           {
            "marker": {
             "colorbar": {
              "outlinewidth": 0,
              "ticks": ""
             }
            },
            "type": "histogram"
           }
          ],
          "histogram2d": [
           {
            "colorbar": {
             "outlinewidth": 0,
             "ticks": ""
            },
            "colorscale": [
             [
              0,
              "#0d0887"
             ],
             [
              0.1111111111111111,
              "#46039f"
             ],
             [
              0.2222222222222222,
              "#7201a8"
             ],
             [
              0.3333333333333333,
              "#9c179e"
             ],
             [
              0.4444444444444444,
              "#bd3786"
             ],
             [
              0.5555555555555556,
              "#d8576b"
             ],
             [
              0.6666666666666666,
              "#ed7953"
             ],
             [
              0.7777777777777778,
              "#fb9f3a"
             ],
             [
              0.8888888888888888,
              "#fdca26"
             ],
             [
              1,
              "#f0f921"
             ]
            ],
            "type": "histogram2d"
           }
          ],
          "histogram2dcontour": [
           {
            "colorbar": {
             "outlinewidth": 0,
             "ticks": ""
            },
            "colorscale": [
             [
              0,
              "#0d0887"
             ],
             [
              0.1111111111111111,
              "#46039f"
             ],
             [
              0.2222222222222222,
              "#7201a8"
             ],
             [
              0.3333333333333333,
              "#9c179e"
             ],
             [
              0.4444444444444444,
              "#bd3786"
             ],
             [
              0.5555555555555556,
              "#d8576b"
             ],
             [
              0.6666666666666666,
              "#ed7953"
             ],
             [
              0.7777777777777778,
              "#fb9f3a"
             ],
             [
              0.8888888888888888,
              "#fdca26"
             ],
             [
              1,
              "#f0f921"
             ]
            ],
            "type": "histogram2dcontour"
           }
          ],
          "mesh3d": [
           {
            "colorbar": {
             "outlinewidth": 0,
             "ticks": ""
            },
            "type": "mesh3d"
           }
          ],
          "parcoords": [
           {
            "line": {
             "colorbar": {
              "outlinewidth": 0,
              "ticks": ""
             }
            },
            "type": "parcoords"
           }
          ],
          "pie": [
           {
            "automargin": true,
            "type": "pie"
           }
          ],
          "scatter": [
           {
            "marker": {
             "colorbar": {
              "outlinewidth": 0,
              "ticks": ""
             }
            },
            "type": "scatter"
           }
          ],
          "scatter3d": [
           {
            "line": {
             "colorbar": {
              "outlinewidth": 0,
              "ticks": ""
             }
            },
            "marker": {
             "colorbar": {
              "outlinewidth": 0,
              "ticks": ""
             }
            },
            "type": "scatter3d"
           }
          ],
          "scattercarpet": [
           {
            "marker": {
             "colorbar": {
              "outlinewidth": 0,
              "ticks": ""
             }
            },
            "type": "scattercarpet"
           }
          ],
          "scattergeo": [
           {
            "marker": {
             "colorbar": {
              "outlinewidth": 0,
              "ticks": ""
             }
            },
            "type": "scattergeo"
           }
          ],
          "scattergl": [
           {
            "marker": {
             "colorbar": {
              "outlinewidth": 0,
              "ticks": ""
             }
            },
            "type": "scattergl"
           }
          ],
          "scattermapbox": [
           {
            "marker": {
             "colorbar": {
              "outlinewidth": 0,
              "ticks": ""
             }
            },
            "type": "scattermapbox"
           }
          ],
          "scatterpolar": [
           {
            "marker": {
             "colorbar": {
              "outlinewidth": 0,
              "ticks": ""
             }
            },
            "type": "scatterpolar"
           }
          ],
          "scatterpolargl": [
           {
            "marker": {
             "colorbar": {
              "outlinewidth": 0,
              "ticks": ""
             }
            },
            "type": "scatterpolargl"
           }
          ],
          "scatterternary": [
           {
            "marker": {
             "colorbar": {
              "outlinewidth": 0,
              "ticks": ""
             }
            },
            "type": "scatterternary"
           }
          ],
          "surface": [
           {
            "colorbar": {
             "outlinewidth": 0,
             "ticks": ""
            },
            "colorscale": [
             [
              0,
              "#0d0887"
             ],
             [
              0.1111111111111111,
              "#46039f"
             ],
             [
              0.2222222222222222,
              "#7201a8"
             ],
             [
              0.3333333333333333,
              "#9c179e"
             ],
             [
              0.4444444444444444,
              "#bd3786"
             ],
             [
              0.5555555555555556,
              "#d8576b"
             ],
             [
              0.6666666666666666,
              "#ed7953"
             ],
             [
              0.7777777777777778,
              "#fb9f3a"
             ],
             [
              0.8888888888888888,
              "#fdca26"
             ],
             [
              1,
              "#f0f921"
             ]
            ],
            "type": "surface"
           }
          ],
          "table": [
           {
            "cells": {
             "fill": {
              "color": "#EBF0F8"
             },
             "line": {
              "color": "white"
             }
            },
            "header": {
             "fill": {
              "color": "#C8D4E3"
             },
             "line": {
              "color": "white"
             }
            },
            "type": "table"
           }
          ]
         },
         "layout": {
          "annotationdefaults": {
           "arrowcolor": "#2a3f5f",
           "arrowhead": 0,
           "arrowwidth": 1
          },
          "coloraxis": {
           "colorbar": {
            "outlinewidth": 0,
            "ticks": ""
           }
          },
          "colorscale": {
           "diverging": [
            [
             0,
             "#8e0152"
            ],
            [
             0.1,
             "#c51b7d"
            ],
            [
             0.2,
             "#de77ae"
            ],
            [
             0.3,
             "#f1b6da"
            ],
            [
             0.4,
             "#fde0ef"
            ],
            [
             0.5,
             "#f7f7f7"
            ],
            [
             0.6,
             "#e6f5d0"
            ],
            [
             0.7,
             "#b8e186"
            ],
            [
             0.8,
             "#7fbc41"
            ],
            [
             0.9,
             "#4d9221"
            ],
            [
             1,
             "#276419"
            ]
           ],
           "sequential": [
            [
             0,
             "#0d0887"
            ],
            [
             0.1111111111111111,
             "#46039f"
            ],
            [
             0.2222222222222222,
             "#7201a8"
            ],
            [
             0.3333333333333333,
             "#9c179e"
            ],
            [
             0.4444444444444444,
             "#bd3786"
            ],
            [
             0.5555555555555556,
             "#d8576b"
            ],
            [
             0.6666666666666666,
             "#ed7953"
            ],
            [
             0.7777777777777778,
             "#fb9f3a"
            ],
            [
             0.8888888888888888,
             "#fdca26"
            ],
            [
             1,
             "#f0f921"
            ]
           ],
           "sequentialminus": [
            [
             0,
             "#0d0887"
            ],
            [
             0.1111111111111111,
             "#46039f"
            ],
            [
             0.2222222222222222,
             "#7201a8"
            ],
            [
             0.3333333333333333,
             "#9c179e"
            ],
            [
             0.4444444444444444,
             "#bd3786"
            ],
            [
             0.5555555555555556,
             "#d8576b"
            ],
            [
             0.6666666666666666,
             "#ed7953"
            ],
            [
             0.7777777777777778,
             "#fb9f3a"
            ],
            [
             0.8888888888888888,
             "#fdca26"
            ],
            [
             1,
             "#f0f921"
            ]
           ]
          },
          "colorway": [
           "#636efa",
           "#EF553B",
           "#00cc96",
           "#ab63fa",
           "#FFA15A",
           "#19d3f3",
           "#FF6692",
           "#B6E880",
           "#FF97FF",
           "#FECB52"
          ],
          "font": {
           "color": "#2a3f5f"
          },
          "geo": {
           "bgcolor": "white",
           "lakecolor": "white",
           "landcolor": "#E5ECF6",
           "showlakes": true,
           "showland": true,
           "subunitcolor": "white"
          },
          "hoverlabel": {
           "align": "left"
          },
          "hovermode": "closest",
          "mapbox": {
           "style": "light"
          },
          "paper_bgcolor": "white",
          "plot_bgcolor": "#E5ECF6",
          "polar": {
           "angularaxis": {
            "gridcolor": "white",
            "linecolor": "white",
            "ticks": ""
           },
           "bgcolor": "#E5ECF6",
           "radialaxis": {
            "gridcolor": "white",
            "linecolor": "white",
            "ticks": ""
           }
          },
          "scene": {
           "xaxis": {
            "backgroundcolor": "#E5ECF6",
            "gridcolor": "white",
            "gridwidth": 2,
            "linecolor": "white",
            "showbackground": true,
            "ticks": "",
            "zerolinecolor": "white"
           },
           "yaxis": {
            "backgroundcolor": "#E5ECF6",
            "gridcolor": "white",
            "gridwidth": 2,
            "linecolor": "white",
            "showbackground": true,
            "ticks": "",
            "zerolinecolor": "white"
           },
           "zaxis": {
            "backgroundcolor": "#E5ECF6",
            "gridcolor": "white",
            "gridwidth": 2,
            "linecolor": "white",
            "showbackground": true,
            "ticks": "",
            "zerolinecolor": "white"
           }
          },
          "shapedefaults": {
           "line": {
            "color": "#2a3f5f"
           }
          },
          "ternary": {
           "aaxis": {
            "gridcolor": "white",
            "linecolor": "white",
            "ticks": ""
           },
           "baxis": {
            "gridcolor": "white",
            "linecolor": "white",
            "ticks": ""
           },
           "bgcolor": "#E5ECF6",
           "caxis": {
            "gridcolor": "white",
            "linecolor": "white",
            "ticks": ""
           }
          },
          "title": {
           "x": 0.05
          },
          "xaxis": {
           "automargin": true,
           "gridcolor": "white",
           "linecolor": "white",
           "ticks": "",
           "title": {
            "standoff": 15
           },
           "zerolinecolor": "white",
           "zerolinewidth": 2
          },
          "yaxis": {
           "automargin": true,
           "gridcolor": "white",
           "linecolor": "white",
           "ticks": "",
           "title": {
            "standoff": 15
           },
           "zerolinecolor": "white",
           "zerolinewidth": 2
          }
         }
        },
        "title": {
         "text": " BURGER KING Food item with price and bestseller"
        },
        "xaxis": {
         "anchor": "y",
         "domain": [
          0,
          1
         ],
         "title": {
          "text": ""
         }
        },
        "yaxis": {
         "anchor": "x",
         "domain": [
          0,
          1
         ],
         "title": {
          "text": "Item Price (INR)"
         }
        }
       }
      },
      "text/html": [
       "<div>\n",
       "        \n",
       "        \n",
       "            <div id=\"de76dfb9-58bc-4064-957e-f8317b5bc2ba\" class=\"plotly-graph-div\" style=\"height:550px; width:100%;\"></div>\n",
       "            <script type=\"text/javascript\">\n",
       "                require([\"plotly\"], function(Plotly) {\n",
       "                    window.PLOTLYENV=window.PLOTLYENV || {};\n",
       "                    \n",
       "                if (document.getElementById(\"de76dfb9-58bc-4064-957e-f8317b5bc2ba\")) {\n",
       "                    Plotly.newPlot(\n",
       "                        'de76dfb9-58bc-4064-957e-f8317b5bc2ba',\n",
       "                        [{\"alignmentgroup\": \"True\", \"customdata\": [[\"Hashbrown\", 29.0, \"Recommended\"], [\"King Egg Burger\", 60.0, \"Recommended\"], [\"King Egg Double Patty Burger\", 80.0, \"Recommended\"], [\"King Egg with Cheese\", 80.0, \"Recommended\"], [\"King Egg Wrap\", 80.0, \"Recommended\"], [\"Cheese Melt Down Burger\", 169.0, \"Recommended\"], [\"Fiery Chicken Burger\", 179.0, \"Recommended\"], [\"Anytime Combo (Veg)\", 476.0, \"Recommended\"], [\"Anytime Combo (Chicken)\", 594.0, \"Recommended\"], [\"WFH Combo (Veg)\", 694.0, \"Recommended\"], [\"Mini Treat Combo (Chicken)\", 673.0, \"Recommended\"], [\"Crispy Chicken Double Patty + Crispy Chicken Double Patty\", 238.0, \"Recommended\"], [\"Chicken Whopper + Chicken Whopper\", 358.0, \"Recommended\"], [\"2 Lite Whopper Jr Chicken + 1 King Fries+ 1 Chicken Fries\", 416.0, \"Recommended\"], [\"2 Crispy Chicken Double Patty + 1King Fries + 1 Chicken Fries\", 416.0, \"Recommended\"], [\"2 Crispy Veg Double Patty + 1King Fries + 1Veggie strips\", 298.0, \"Recommended\"], [\"2 Lite Whopper Jr Veg + 1 King Fries + 1 Veggie strips\", 366.0, \"Recommended\"], [\"Chocolate Mousse Cup\", 109.0, \"Recommended\"], [\"Hashbrown\", 29.0, \"Recommended\"], [\"Veggie Strips - 5 Pcs\", 49.0, \"Recommended\"], [\"King Fries\", 99.0, \"Recommended\"], [\"Cheesy Fries\", 109.0, \"Recommended\"], [\"Chocolate Thick Shake\", 149.0, \"Recommended\"], [\"Boneless Wings Large\", 249.0, \"Recommended\"], [\"Hashbrown\", 29.0, \"Breakfast With BK\"], [\"King Egg Burger\", 60.0, \"Breakfast With BK\"], [\"King Egg Double Patty Burger\", 80.0, \"Breakfast With BK\"], [\"King Egg with Cheese\", 80.0, \"Breakfast With BK\"], [\"King Egg Wrap\", 80.0, \"Breakfast With BK\"], [\"Chicken Tandoor Grill Burger\", 149.0, \"New Kings Collection Burgers\"], [\"Cheese Melt Down Burger\", 169.0, \"New Kings Collection Burgers\"], [\"Fiery Chicken Burger\", 179.0, \"New Kings Collection Burgers\"], [\"Paneer Overload Burger\", 179.0, \"New Kings Collection Burgers\"], [\"Anytime Combo (Veg)\", 476.0, \"Home Delight Combos\"], [\"Anytime Combo (Chicken)\", 594.0, \"Home Delight Combos\"], [\"WFH Combo (Veg)\", 694.0, \"Home Delight Combos\"], [\"2 Cheese Meltdown + 1King Fries + 2 Med Pepsi\", 595.0, \"Home Delight Combos\"], [\"2 Fiery Chicken + 1King Fries + 2 Med Pepsi\", 615.0, \"Home Delight Combos\"], [\"Mini Treat Combo (Veg)\", 606.0, \"Home Delight Combos\"], [\"Mini Treat Combo (Chicken)\", 673.0, \"Home Delight Combos\"], [\"Binge Combo ( Veg)\", 676.0, \"Home Delight Combos\"], [\"Binge Combo ( Chicken )\", 745.0, \"Home Delight Combos\"], [\"Chillax Combo (Veg)\", 773.0, \"Home Delight Combos\"], [\"2 Veg Whopper + 1Cheese Meltdown\", 467.0, \"Friends & Family Combo\"], [\"2 Cheese Meltdown + 1Classic Veg\", 417.0, \"Friends & Family Combo\"], [\"2 Chicken Whopper +1Fiery Chicken\", 537.0, \"Friends & Family Combo\"], [\"2 Fiery Chicken +1Classic Chicken\", 457.0, \"Friends & Family Combo\"], [\"BK Classic Chicken + BK Classic Chicken\", 198.0, \"Friends & Family Combo\"], [\"Chicken Makhani Burst + Lite Whopper Jr Chicken\", 199.0, \"Friends & Family Combo\"], [\"Crispy Chicken Double Patty + Crispy Chicken Double Patty\", 238.0, \"Friends & Family Combo\"], [\"Chicken Whopper + Chicken Whopper\", 358.0, \"Friends & Family Combo\"], [\"Twisted Whopper Veg + Twisted Whopper Veg\", 398.0, \"Friends & Family Combo\"], [\"Twisted Whopper Chicken + Twisted Whopper Chicken\", 438.0, \"Friends & Family Combo\"], [\"2 Chicken Whopper + 2 Crispy Chicken + 5pc- Chicken Sticks + 1 King Fries + 4 Pepsi\", 1012.0, \"Friends & Family Combo\"], [\"2 Veg Whopper + 2Crispy Veg + 5pc Veggie Strips + 1 King Fries + 4 Medium Pepsi\", 872.0, \"Friends & Family Combo\"], [\"1 Crispy Chicken + 1 Chocolate Thick Shake\", 218.0, \"Friends & Family Combo\"], [\"1 Chicken Whopper + 1 Chocolate Thick Shake\", 328.0, \"Friends & Family Combo\"], [\"1 Crispy Veg + 1 Chocolate Thick Shake\", 204.0, \"Friends & Family Combo\"], [\"1 Veg Whopper + 1 Chocolate Thick Shake\", 298.0, \"Friends & Family Combo\"], [\"1 Paneer Overload Burger + 1 Chocolate Thick Shake\", 328.0, \"Friends & Family Combo\"], [\"2 Lite Whopper Jr Chicken + 1 King Fries+ 1 Chicken Fries\", 416.0, \"Friends & Family Combo\"], [\"2 Crispy Chicken Double Patty + 1King Fries + 1 Chicken Fries\", 416.0, \"Friends & Family Combo\"], [\"2 Crispy Veg Double Patty + 1King Fries + 1Veggie strips\", 298.0, \"Friends & Family Combo\"], [\"2 Lite Whopper Jr Veg + 1 King Fries + 1 Veggie strips\", 366.0, \"Friends & Family Combo\"], [\"2 Crispy Veg Double Patty + 1 King Fries +1Chocolate mousse cup\", 358.0, \"Friends & Family Combo\"], [\"2 Crispy Chicken + 1 King Fries +1Chocolate mousse cup\", 368.0, \"Friends & Family Combo\"], [\"1 Cheese Meltdown + 1 Veggie Strips + 1  Chocolate Mousse cup\", 327.0, \"Friends & Family Combo\"], [\"1 Fiery Chicken +1  Chicken Fries + 1 Chocolate Mousse cup\", 367.0, \"Friends & Family Combo\"], [\"2Chicken Whopper + 2Pepsi + 1Cheesy fries + 2 Chocolate Chocolate Mousse Cup\", 823.0, \"Friends & Family Combo\"], [\"2Veg Whopper + 2Pepsi + 1Cheesy fries + 2 Chocolate Chocolate Mousse Cup\", 763.0, \"Friends & Family Combo\"], [\"Mutton Whopper\", 299.0, \"Whopper\"], [\"Twisted Whopper - Mutton\", 339.0, \"Whopper\"], [\"Mutton Whopper Double Patty\", 389.0, \"Whopper\"], [\"Chicken Whopper\", 179.0, \"Whopper\"], [\"Chicken Whopper with Cheese\", 199.0, \"Whopper\"], [\"Twisted Whopper - Chicken\", 219.0, \"Whopper\"], [\"Chicken Whopper Double Patty\", 239.0, \"Whopper\"], [\"Veg Whopper\", 149.0, \"Whopper\"], [\"Veg Whopper with Cheese\", 169.0, \"Whopper\"], [\"Veg Whopper Double Patty\", 199.0, \"Whopper\"], [\"Twisted Whopper - Veg\", 199.0, \"Whopper\"], [\"Mutton Whopper - Combo\", 428.0, \"Meal Combos (Save Rs 35)\"], [\"Mutton Twisted Whopper Combo\", 468.0, \"Meal Combos (Save Rs 35)\"], [\"Crispy Chicken Combo\", 209.0, \"Meal Combos (Save Rs 35)\"], [\"Spicy Grill Chicken Burger Meal Combo\", 228.0, \"Meal Combos (Save Rs 35)\"], [\"BK Classic Chicken Combo\", 228.0, \"Meal Combos (Save Rs 35)\"], [\"Lite Whopper Jr Chicken Combo\", 248.0, \"Meal Combos (Save Rs 35)\"], [\"Chicken Tandoor Grill - Combo\", 278.0, \"Meal Combos (Save Rs 35)\"], [\"Big Smoky Grill Chicken Burger Combo\", 288.0, \"Meal Combos (Save Rs 35)\"], [\"Chicken Whopper Combo\", 308.0, \"Meal Combos (Save Rs 35)\"], [\"Fiery Chicken - Combo\", 308.0, \"Meal Combos (Save Rs 35)\"], [\"Chicken Twisted Whopper Combo\", 348.0, \"Meal Combos (Save Rs 35)\"], [\"King Egg Combo\", 188.0, \"Meal Combos (Save Rs 35)\"], [\"Crispy Veg Combo\", 184.0, \"Meal Combos (Save Rs 35)\"], [\"BK Classic Veg Combo\", 208.0, \"Meal Combos (Save Rs 35)\"], [\"Lite Whopper Jr Veg Combo\", 238.0, \"Meal Combos (Save Rs 35)\"], [\"Veg Whopper  Combo\", 278.0, \"Meal Combos (Save Rs 35)\"], [\"Cheese Melt down combo\", 298.0, \"Meal Combos (Save Rs 35)\"], [\"Paneer Overload Combo\", 308.0, \"Meal Combos (Save Rs 35)\"], [\"Veg Twisted Whopper Combo\", 328.0, \"Meal Combos (Save Rs 35)\"], [\"Crispy Veg Burger\", 55.0, \"Burgers & Wraps\"], [\"Crispy Chicken Burger\", 80.0, \"Burgers & Wraps\"], [\"BK Classic Chicken Burger\", 99.0, \"Burgers & Wraps\"], [\"Spicy Grill Chicken Burger\", 99.0, \"Burgers & Wraps\"], [\"Crispy Chicken with Cheese Burger\", 100.0, \"Burgers & Wraps\"], [\"BK Classic Chicken with Cheese Burger\", 119.0, \"Burgers & Wraps\"], [\"Lite Whopper Jr Chicken\", 119.0, \"Burgers & Wraps\"], [\"Crispy Chicken Double Patty Burger\", 119.0, \"Burgers & Wraps\"], [\"Crispy Chicken Double Patty with Cheese\", 139.0, \"Burgers & Wraps\"], [\"Lite Whopper Jr Chicken with Cheese\", 139.0, \"Burgers & Wraps\"], [\"Big Smoky Grill Chicken Burger\", 159.0, \"Burgers & Wraps\"], [\"Lite Whopper Jr Chicken Double Patty\", 169.0, \"Burgers & Wraps\"], [\"Fiery Chicken with Cheese Burger\", 199.0, \"Burgers & Wraps\"], [\"Chicken Tandoor grill Double Patty\", 249.0, \"Burgers & Wraps\"], [\"King Egg Burger\", 60.0, \"Burgers & Wraps\"], [\"Crispy Veg Double Patty Burger\", 75.0, \"Burgers & Wraps\"], [\"Crispy Veg with Cheese Burger\", 75.0, \"Burgers & Wraps\"], [\"BK Classic Veg Burger\", 79.0, \"Burgers & Wraps\"], [\"King Egg with Cheese\", 80.0, \"Burgers & Wraps\"], [\"King Egg Double Patty Burger\", 80.0, \"Burgers & Wraps\"], [\"Crispy Veg Double Patty with Cheese\", 95.0, \"Burgers & Wraps\"], [\"Bk Classic Veg with cheese\", 99.0, \"Burgers & Wraps\"], [\"Lite Whopper Jr Veg\", 109.0, \"Burgers & Wraps\"], [\"Lite Whopper Jr Veg with Cheese\", 129.0, \"Burgers & Wraps\"], [\"Lite Whopper Jr Veg Double Patty\", 149.0, \"Burgers & Wraps\"], [\"Cheese Meltdown with Cheese Burger\", 189.0, \"Burgers & Wraps\"], [\"Paneer Overload with Cheese Burger\", 199.0, \"Burgers & Wraps\"], [\"Chicken Makhani Burst Burger\", 80.0, \"What's New\"], [\"Crispy Chicken Wrap\", 80.0, \"What's New\"], [\"Chicken Fries (5 Pcs) + 1 Dip\", 99.0, \"What's New\"], [\"2 Dips Combo Pack\", 40.0, \"What's New\"], [\"Crispy veg Wrap\", 60.0, \"What's New\"], [\"Chicken Makhani Burst Double Patty Burger\", 120.0, \"What's New\"], [\"Boneless Wings(Regular) + 1 Dip\", 169.0, \"What's New\"], [\"Boneless Wings(Large) + 1 Dip\", 269.0, \"What's New\"], [\"Veg Crunchy Volcano\", 60.0, \"What's New\"], [\"Tikki Twist Burger\", 60.0, \"What's New\"], [\"Veg Makhani Burst Burger\", 60.0, \"What's New\"], [\"Veggie Strips(5Pcs) + 1 Dip\", 69.0, \"What's New\"], [\"Crunchy Chicken Volcano\", 80.0, \"What's New\"], [\"King Egg Wrap\", 80.0, \"What's New\"], [\"Tikki Twist Double Patty Burger\", 80.0, \"What's New\"], [\"Veg Makhani Burst Double Patty Burger\", 80.0, \"What's New\"], [\"Chocolate Mousse Cup\", 109.0, \"What's New\"], [\"Fries + Veg Strips + 2 Dips\", 174.0, \"What's New\"], [\"My Fries & Dips Pack\", 200.0, \"What's New\"], [\"My Fries & Dips Pack - Non Veg\", 204.0, \"What's New\"], [\"Choco Lava Cup\", 109.0, \"What's New\"], [\"Fiery Hell Dip\", 20.0, \"Sides\"], [\"Sweet N Spice Dip\", 20.0, \"Sides\"], [\"Easy Cheesy Dip\", 20.0, \"Sides\"], [\"Hashbrown\", 29.0, \"Sides\"], [\"Veggie Strips - 5 Pcs\", 49.0, \"Sides\"], [\"Chicken Fries (5 Pcs)\", 79.0, \"Sides\"], [\"Medium Fries\", 85.0, \"Sides\"], [\"King Fries\", 99.0, \"Sides\"], [\"Medium Peri Peri Fries\", 105.0, \"Sides\"], [\"Cheesy Fries\", 109.0, \"Sides\"], [\"Creamy Italian  Fries\", 109.0, \"Sides\"], [\"King Peri Peri Fries\", 119.0, \"Sides\"], [\"Med Pepsi\", 79.0, \"Beverages\"], [\"King Pepsi 550 ml\", 89.0, \"Beverages\"], [\"Chocolate Thick Shake\", 149.0, \"Beverages\"], [\"Mango Thick Shake\", 149.0, \"Beverages\"], [\"Berry Blast Thick Shake\", 149.0, \"Beverages\"], [\"Choco Lava Cup\", 109.0, \"Desserts\"], [\"Chocolate Mousse Cup\", 109.0, \"Desserts\"], [\"Chicken Wings Grilled - Two Pieces\", 79.0, \"Chicken Wings\"], [\"Boneless Wings Regular\", 149.0, \"Chicken Wings\"], [\"Chicken Wings Grilled Four Pieces\", 149.0, \"Chicken Wings\"], [\"Boneless Wings Large\", 249.0, \"Chicken Wings\"], [\"Chicken Wings Grilled - Ten Pcs\", 349.0, \"Chicken Wings\"], [\"Chicken Wings Grilled - Fifteen Pcs\", 529.0, \"Chicken Wings\"], [\"Boneless Chicken Wings 10 pcs\", 369.0, \"Chicken Wings\"], [\"Boneless Chicken Wings 15 pcs\", 519.0, \"Chicken Wings\"]], \"hovertemplate\": \"=%{customdata[0]}<br>Item Price (INR)=%{customdata[1]}<br>item_category=%{customdata[2]}<br>bestseller_tag=%{marker.color}<extra></extra>\", \"legendgroup\": \"\", \"marker\": {\"color\": [0, 0, 1, 0, 0, 0, 1, 0, 0, 0, 0, 0, 0, 0, 0, 0, 0, 0, 0, 0, 0, 0, 0, 0, 0, 0, 1, 0, 0, 0, 0, 1, 0, 0, 0, 0, 0, 0, 0, 0, 0, 0, 0, 0, 0, 0, 0, 0, 0, 0, 0, 0, 0, 0, 0, 0, 0, 0, 0, 0, 0, 0, 0, 0, 0, 0, 0, 0, 0, 0, 0, 0, 0, 1, 0, 0, 0, 0, 0, 0, 0, 0, 0, 0, 0, 0, 0, 0, 0, 0, 0, 0, 0, 0, 0, 0, 0, 0, 0, 0, 1, 1, 0, 0, 0, 0, 0, 1, 0, 0, 0, 0, 0, 0, 0, 1, 0, 0, 0, 0, 0, 0, 0, 0, 0, 0, 0, 0, 0, 0, 0, 0, 0, 0, 0, 0, 0, 0, 0, 0, 0, 0, 0, 0, 0, 0, 0, 0, 0, 0, 0, 0, 0, 1, 1, 0, 1, 0, 0, 0, 0, 0, 0, 0, 0, 0, 0, 0, 0, 0, 0, 0, 0, 0, 0], \"coloraxis\": \"coloraxis\"}, \"name\": \"\", \"offsetgroup\": \"\", \"orientation\": \"v\", \"showlegend\": false, \"textposition\": \"auto\", \"type\": \"bar\", \"x\": [\"Hashbrown\", \"King Egg Burger\", \"King Egg Double Patty Burger\", \"King Egg with Cheese\", \"King Egg Wrap\", \"Cheese Melt Down Burger\", \"Fiery Chicken Burger\", \"Anytime Combo (Veg)\", \"Anytime Combo (Chicken)\", \"WFH Combo (Veg)\", \"Mini Treat Combo (Chicken)\", \"Crispy Chicken Double Patty + Crispy Chicken Double Patty\", \"Chicken Whopper + Chicken Whopper\", \"2 Lite Whopper Jr Chicken + 1 King Fries+ 1 Chicken Fries\", \"2 Crispy Chicken Double Patty + 1King Fries + 1 Chicken Fries\", \"2 Crispy Veg Double Patty + 1King Fries + 1Veggie strips\", \"2 Lite Whopper Jr Veg + 1 King Fries + 1 Veggie strips\", \"Chocolate Mousse Cup\", \"Hashbrown\", \"Veggie Strips - 5 Pcs\", \"King Fries\", \"Cheesy Fries\", \"Chocolate Thick Shake\", \"Boneless Wings Large\", \"Hashbrown\", \"King Egg Burger\", \"King Egg Double Patty Burger\", \"King Egg with Cheese\", \"King Egg Wrap\", \"Chicken Tandoor Grill Burger\", \"Cheese Melt Down Burger\", \"Fiery Chicken Burger\", \"Paneer Overload Burger\", \"Anytime Combo (Veg)\", \"Anytime Combo (Chicken)\", \"WFH Combo (Veg)\", \"2 Cheese Meltdown + 1King Fries + 2 Med Pepsi\", \"2 Fiery Chicken + 1King Fries + 2 Med Pepsi\", \"Mini Treat Combo (Veg)\", \"Mini Treat Combo (Chicken)\", \"Binge Combo ( Veg)\", \"Binge Combo ( Chicken )\", \"Chillax Combo (Veg)\", \"2 Veg Whopper + 1Cheese Meltdown\", \"2 Cheese Meltdown + 1Classic Veg\", \"2 Chicken Whopper +1Fiery Chicken\", \"2 Fiery Chicken +1Classic Chicken\", \"BK Classic Chicken + BK Classic Chicken\", \"Chicken Makhani Burst + Lite Whopper Jr Chicken\", \"Crispy Chicken Double Patty + Crispy Chicken Double Patty\", \"Chicken Whopper + Chicken Whopper\", \"Twisted Whopper Veg + Twisted Whopper Veg\", \"Twisted Whopper Chicken + Twisted Whopper Chicken\", \"2 Chicken Whopper + 2 Crispy Chicken + 5pc- Chicken Sticks + 1 King Fries + 4 Pepsi\", \"2 Veg Whopper + 2Crispy Veg + 5pc Veggie Strips + 1 King Fries + 4 Medium Pepsi\", \"1 Crispy Chicken + 1 Chocolate Thick Shake\", \"1 Chicken Whopper + 1 Chocolate Thick Shake\", \"1 Crispy Veg + 1 Chocolate Thick Shake\", \"1 Veg Whopper + 1 Chocolate Thick Shake\", \"1 Paneer Overload Burger + 1 Chocolate Thick Shake\", \"2 Lite Whopper Jr Chicken + 1 King Fries+ 1 Chicken Fries\", \"2 Crispy Chicken Double Patty + 1King Fries + 1 Chicken Fries\", \"2 Crispy Veg Double Patty + 1King Fries + 1Veggie strips\", \"2 Lite Whopper Jr Veg + 1 King Fries + 1 Veggie strips\", \"2 Crispy Veg Double Patty + 1 King Fries +1Chocolate mousse cup\", \"2 Crispy Chicken + 1 King Fries +1Chocolate mousse cup\", \"1 Cheese Meltdown + 1 Veggie Strips + 1  Chocolate Mousse cup\", \"1 Fiery Chicken +1  Chicken Fries + 1 Chocolate Mousse cup\", \"2Chicken Whopper + 2Pepsi + 1Cheesy fries + 2 Chocolate Chocolate Mousse Cup\", \"2Veg Whopper + 2Pepsi + 1Cheesy fries + 2 Chocolate Chocolate Mousse Cup\", \"Mutton Whopper\", \"Twisted Whopper - Mutton\", \"Mutton Whopper Double Patty\", \"Chicken Whopper\", \"Chicken Whopper with Cheese\", \"Twisted Whopper - Chicken\", \"Chicken Whopper Double Patty\", \"Veg Whopper\", \"Veg Whopper with Cheese\", \"Veg Whopper Double Patty\", \"Twisted Whopper - Veg\", \"Mutton Whopper - Combo\", \"Mutton Twisted Whopper Combo\", \"Crispy Chicken Combo\", \"Spicy Grill Chicken Burger Meal Combo\", \"BK Classic Chicken Combo\", \"Lite Whopper Jr Chicken Combo\", \"Chicken Tandoor Grill - Combo\", \"Big Smoky Grill Chicken Burger Combo\", \"Chicken Whopper Combo\", \"Fiery Chicken - Combo\", \"Chicken Twisted Whopper Combo\", \"King Egg Combo\", \"Crispy Veg Combo\", \"BK Classic Veg Combo\", \"Lite Whopper Jr Veg Combo\", \"Veg Whopper  Combo\", \"Cheese Melt down combo\", \"Paneer Overload Combo\", \"Veg Twisted Whopper Combo\", \"Crispy Veg Burger\", \"Crispy Chicken Burger\", \"BK Classic Chicken Burger\", \"Spicy Grill Chicken Burger\", \"Crispy Chicken with Cheese Burger\", \"BK Classic Chicken with Cheese Burger\", \"Lite Whopper Jr Chicken\", \"Crispy Chicken Double Patty Burger\", \"Crispy Chicken Double Patty with Cheese\", \"Lite Whopper Jr Chicken with Cheese\", \"Big Smoky Grill Chicken Burger\", \"Lite Whopper Jr Chicken Double Patty\", \"Fiery Chicken with Cheese Burger\", \"Chicken Tandoor grill Double Patty\", \"King Egg Burger\", \"Crispy Veg Double Patty Burger\", \"Crispy Veg with Cheese Burger\", \"BK Classic Veg Burger\", \"King Egg with Cheese\", \"King Egg Double Patty Burger\", \"Crispy Veg Double Patty with Cheese\", \"Bk Classic Veg with cheese\", \"Lite Whopper Jr Veg\", \"Lite Whopper Jr Veg with Cheese\", \"Lite Whopper Jr Veg Double Patty\", \"Cheese Meltdown with Cheese Burger\", \"Paneer Overload with Cheese Burger\", \"Chicken Makhani Burst Burger\", \"Crispy Chicken Wrap\", \"Chicken Fries (5 Pcs) + 1 Dip\", \"2 Dips Combo Pack\", \"Crispy veg Wrap\", \"Chicken Makhani Burst Double Patty Burger\", \"Boneless Wings(Regular) + 1 Dip\", \"Boneless Wings(Large) + 1 Dip\", \"Veg Crunchy Volcano\", \"Tikki Twist Burger\", \"Veg Makhani Burst Burger\", \"Veggie Strips(5Pcs) + 1 Dip\", \"Crunchy Chicken Volcano\", \"King Egg Wrap\", \"Tikki Twist Double Patty Burger\", \"Veg Makhani Burst Double Patty Burger\", \"Chocolate Mousse Cup\", \"Fries + Veg Strips + 2 Dips\", \"My Fries & Dips Pack\", \"My Fries & Dips Pack - Non Veg\", \"Choco Lava Cup\", \"Fiery Hell Dip\", \"Sweet N Spice Dip\", \"Easy Cheesy Dip\", \"Hashbrown\", \"Veggie Strips - 5 Pcs\", \"Chicken Fries (5 Pcs)\", \"Medium Fries\", \"King Fries\", \"Medium Peri Peri Fries\", \"Cheesy Fries\", \"Creamy Italian  Fries\", \"King Peri Peri Fries\", \"Med Pepsi\", \"King Pepsi 550 ml\", \"Chocolate Thick Shake\", \"Mango Thick Shake\", \"Berry Blast Thick Shake\", \"Choco Lava Cup\", \"Chocolate Mousse Cup\", \"Chicken Wings Grilled - Two Pieces\", \"Boneless Wings Regular\", \"Chicken Wings Grilled Four Pieces\", \"Boneless Wings Large\", \"Chicken Wings Grilled - Ten Pcs\", \"Chicken Wings Grilled - Fifteen Pcs\", \"Boneless Chicken Wings 10 pcs\", \"Boneless Chicken Wings 15 pcs\"], \"xaxis\": \"x\", \"y\": [29.0, 60.0, 80.0, 80.0, 80.0, 169.0, 179.0, 476.0, 594.0, 694.0, 673.0, 238.0, 358.0, 416.0, 416.0, 298.0, 366.0, 109.0, 29.0, 49.0, 99.0, 109.0, 149.0, 249.0, 29.0, 60.0, 80.0, 80.0, 80.0, 149.0, 169.0, 179.0, 179.0, 476.0, 594.0, 694.0, 595.0, 615.0, 606.0, 673.0, 676.0, 745.0, 773.0, 467.0, 417.0, 537.0, 457.0, 198.0, 199.0, 238.0, 358.0, 398.0, 438.0, 1012.0, 872.0, 218.0, 328.0, 204.0, 298.0, 328.0, 416.0, 416.0, 298.0, 366.0, 358.0, 368.0, 327.0, 367.0, 823.0, 763.0, 299.0, 339.0, 389.0, 179.0, 199.0, 219.0, 239.0, 149.0, 169.0, 199.0, 199.0, 428.0, 468.0, 209.0, 228.0, 228.0, 248.0, 278.0, 288.0, 308.0, 308.0, 348.0, 188.0, 184.0, 208.0, 238.0, 278.0, 298.0, 308.0, 328.0, 55.0, 80.0, 99.0, 99.0, 100.0, 119.0, 119.0, 119.0, 139.0, 139.0, 159.0, 169.0, 199.0, 249.0, 60.0, 75.0, 75.0, 79.0, 80.0, 80.0, 95.0, 99.0, 109.0, 129.0, 149.0, 189.0, 199.0, 80.0, 80.0, 99.0, 40.0, 60.0, 120.0, 169.0, 269.0, 60.0, 60.0, 60.0, 69.0, 80.0, 80.0, 80.0, 80.0, 109.0, 174.0, 200.0, 204.0, 109.0, 20.0, 20.0, 20.0, 29.0, 49.0, 79.0, 85.0, 99.0, 105.0, 109.0, 109.0, 119.0, 79.0, 89.0, 149.0, 149.0, 149.0, 109.0, 109.0, 79.0, 149.0, 149.0, 249.0, 349.0, 529.0, 369.0, 519.0], \"yaxis\": \"y\"}],\n",
       "                        {\"barmode\": \"relative\", \"coloraxis\": {\"colorbar\": {\"title\": {\"text\": \"bestseller_tag\"}}, \"colorscale\": [[0.0, \"#0d0887\"], [0.1111111111111111, \"#46039f\"], [0.2222222222222222, \"#7201a8\"], [0.3333333333333333, \"#9c179e\"], [0.4444444444444444, \"#bd3786\"], [0.5555555555555556, \"#d8576b\"], [0.6666666666666666, \"#ed7953\"], [0.7777777777777778, \"#fb9f3a\"], [0.8888888888888888, \"#fdca26\"], [1.0, \"#f0f921\"]]}, \"height\": 550, \"legend\": {\"tracegroupgap\": 0}, \"template\": {\"data\": {\"bar\": [{\"error_x\": {\"color\": \"#2a3f5f\"}, \"error_y\": {\"color\": \"#2a3f5f\"}, \"marker\": {\"line\": {\"color\": \"#E5ECF6\", \"width\": 0.5}}, \"type\": \"bar\"}], \"barpolar\": [{\"marker\": {\"line\": {\"color\": \"#E5ECF6\", \"width\": 0.5}}, \"type\": \"barpolar\"}], \"carpet\": [{\"aaxis\": {\"endlinecolor\": \"#2a3f5f\", \"gridcolor\": \"white\", \"linecolor\": \"white\", \"minorgridcolor\": \"white\", \"startlinecolor\": \"#2a3f5f\"}, \"baxis\": {\"endlinecolor\": \"#2a3f5f\", \"gridcolor\": \"white\", \"linecolor\": \"white\", \"minorgridcolor\": \"white\", \"startlinecolor\": \"#2a3f5f\"}, \"type\": \"carpet\"}], \"choropleth\": [{\"colorbar\": {\"outlinewidth\": 0, \"ticks\": \"\"}, \"type\": \"choropleth\"}], \"contour\": [{\"colorbar\": {\"outlinewidth\": 0, \"ticks\": \"\"}, \"colorscale\": [[0.0, \"#0d0887\"], [0.1111111111111111, \"#46039f\"], [0.2222222222222222, \"#7201a8\"], [0.3333333333333333, \"#9c179e\"], [0.4444444444444444, \"#bd3786\"], [0.5555555555555556, \"#d8576b\"], [0.6666666666666666, \"#ed7953\"], [0.7777777777777778, \"#fb9f3a\"], [0.8888888888888888, \"#fdca26\"], [1.0, \"#f0f921\"]], \"type\": \"contour\"}], \"contourcarpet\": [{\"colorbar\": {\"outlinewidth\": 0, \"ticks\": \"\"}, \"type\": \"contourcarpet\"}], \"heatmap\": [{\"colorbar\": {\"outlinewidth\": 0, \"ticks\": \"\"}, \"colorscale\": [[0.0, \"#0d0887\"], [0.1111111111111111, \"#46039f\"], [0.2222222222222222, \"#7201a8\"], [0.3333333333333333, \"#9c179e\"], [0.4444444444444444, \"#bd3786\"], [0.5555555555555556, \"#d8576b\"], [0.6666666666666666, \"#ed7953\"], [0.7777777777777778, \"#fb9f3a\"], [0.8888888888888888, \"#fdca26\"], [1.0, \"#f0f921\"]], \"type\": \"heatmap\"}], \"heatmapgl\": [{\"colorbar\": {\"outlinewidth\": 0, \"ticks\": \"\"}, \"colorscale\": [[0.0, \"#0d0887\"], [0.1111111111111111, \"#46039f\"], [0.2222222222222222, \"#7201a8\"], [0.3333333333333333, \"#9c179e\"], [0.4444444444444444, \"#bd3786\"], [0.5555555555555556, \"#d8576b\"], [0.6666666666666666, \"#ed7953\"], [0.7777777777777778, \"#fb9f3a\"], [0.8888888888888888, \"#fdca26\"], [1.0, \"#f0f921\"]], \"type\": \"heatmapgl\"}], \"histogram\": [{\"marker\": {\"colorbar\": {\"outlinewidth\": 0, \"ticks\": \"\"}}, \"type\": \"histogram\"}], \"histogram2d\": [{\"colorbar\": {\"outlinewidth\": 0, \"ticks\": \"\"}, \"colorscale\": [[0.0, \"#0d0887\"], [0.1111111111111111, \"#46039f\"], [0.2222222222222222, \"#7201a8\"], [0.3333333333333333, \"#9c179e\"], [0.4444444444444444, \"#bd3786\"], [0.5555555555555556, \"#d8576b\"], [0.6666666666666666, \"#ed7953\"], [0.7777777777777778, \"#fb9f3a\"], [0.8888888888888888, \"#fdca26\"], [1.0, \"#f0f921\"]], \"type\": \"histogram2d\"}], \"histogram2dcontour\": [{\"colorbar\": {\"outlinewidth\": 0, \"ticks\": \"\"}, \"colorscale\": [[0.0, \"#0d0887\"], [0.1111111111111111, \"#46039f\"], [0.2222222222222222, \"#7201a8\"], [0.3333333333333333, \"#9c179e\"], [0.4444444444444444, \"#bd3786\"], [0.5555555555555556, \"#d8576b\"], [0.6666666666666666, \"#ed7953\"], [0.7777777777777778, \"#fb9f3a\"], [0.8888888888888888, \"#fdca26\"], [1.0, \"#f0f921\"]], \"type\": \"histogram2dcontour\"}], \"mesh3d\": [{\"colorbar\": {\"outlinewidth\": 0, \"ticks\": \"\"}, \"type\": \"mesh3d\"}], \"parcoords\": [{\"line\": {\"colorbar\": {\"outlinewidth\": 0, \"ticks\": \"\"}}, \"type\": \"parcoords\"}], \"pie\": [{\"automargin\": true, \"type\": \"pie\"}], \"scatter\": [{\"marker\": {\"colorbar\": {\"outlinewidth\": 0, \"ticks\": \"\"}}, \"type\": \"scatter\"}], \"scatter3d\": [{\"line\": {\"colorbar\": {\"outlinewidth\": 0, \"ticks\": \"\"}}, \"marker\": {\"colorbar\": {\"outlinewidth\": 0, \"ticks\": \"\"}}, \"type\": \"scatter3d\"}], \"scattercarpet\": [{\"marker\": {\"colorbar\": {\"outlinewidth\": 0, \"ticks\": \"\"}}, \"type\": \"scattercarpet\"}], \"scattergeo\": [{\"marker\": {\"colorbar\": {\"outlinewidth\": 0, \"ticks\": \"\"}}, \"type\": \"scattergeo\"}], \"scattergl\": [{\"marker\": {\"colorbar\": {\"outlinewidth\": 0, \"ticks\": \"\"}}, \"type\": \"scattergl\"}], \"scattermapbox\": [{\"marker\": {\"colorbar\": {\"outlinewidth\": 0, \"ticks\": \"\"}}, \"type\": \"scattermapbox\"}], \"scatterpolar\": [{\"marker\": {\"colorbar\": {\"outlinewidth\": 0, \"ticks\": \"\"}}, \"type\": \"scatterpolar\"}], \"scatterpolargl\": [{\"marker\": {\"colorbar\": {\"outlinewidth\": 0, \"ticks\": \"\"}}, \"type\": \"scatterpolargl\"}], \"scatterternary\": [{\"marker\": {\"colorbar\": {\"outlinewidth\": 0, \"ticks\": \"\"}}, \"type\": \"scatterternary\"}], \"surface\": [{\"colorbar\": {\"outlinewidth\": 0, \"ticks\": \"\"}, \"colorscale\": [[0.0, \"#0d0887\"], [0.1111111111111111, \"#46039f\"], [0.2222222222222222, \"#7201a8\"], [0.3333333333333333, \"#9c179e\"], [0.4444444444444444, \"#bd3786\"], [0.5555555555555556, \"#d8576b\"], [0.6666666666666666, \"#ed7953\"], [0.7777777777777778, \"#fb9f3a\"], [0.8888888888888888, \"#fdca26\"], [1.0, \"#f0f921\"]], \"type\": \"surface\"}], \"table\": [{\"cells\": {\"fill\": {\"color\": \"#EBF0F8\"}, \"line\": {\"color\": \"white\"}}, \"header\": {\"fill\": {\"color\": \"#C8D4E3\"}, \"line\": {\"color\": \"white\"}}, \"type\": \"table\"}]}, \"layout\": {\"annotationdefaults\": {\"arrowcolor\": \"#2a3f5f\", \"arrowhead\": 0, \"arrowwidth\": 1}, \"coloraxis\": {\"colorbar\": {\"outlinewidth\": 0, \"ticks\": \"\"}}, \"colorscale\": {\"diverging\": [[0, \"#8e0152\"], [0.1, \"#c51b7d\"], [0.2, \"#de77ae\"], [0.3, \"#f1b6da\"], [0.4, \"#fde0ef\"], [0.5, \"#f7f7f7\"], [0.6, \"#e6f5d0\"], [0.7, \"#b8e186\"], [0.8, \"#7fbc41\"], [0.9, \"#4d9221\"], [1, \"#276419\"]], \"sequential\": [[0.0, \"#0d0887\"], [0.1111111111111111, \"#46039f\"], [0.2222222222222222, \"#7201a8\"], [0.3333333333333333, \"#9c179e\"], [0.4444444444444444, \"#bd3786\"], [0.5555555555555556, \"#d8576b\"], [0.6666666666666666, \"#ed7953\"], [0.7777777777777778, \"#fb9f3a\"], [0.8888888888888888, \"#fdca26\"], [1.0, \"#f0f921\"]], \"sequentialminus\": [[0.0, \"#0d0887\"], [0.1111111111111111, \"#46039f\"], [0.2222222222222222, \"#7201a8\"], [0.3333333333333333, \"#9c179e\"], [0.4444444444444444, \"#bd3786\"], [0.5555555555555556, \"#d8576b\"], [0.6666666666666666, \"#ed7953\"], [0.7777777777777778, \"#fb9f3a\"], [0.8888888888888888, \"#fdca26\"], [1.0, \"#f0f921\"]]}, \"colorway\": [\"#636efa\", \"#EF553B\", \"#00cc96\", \"#ab63fa\", \"#FFA15A\", \"#19d3f3\", \"#FF6692\", \"#B6E880\", \"#FF97FF\", \"#FECB52\"], \"font\": {\"color\": \"#2a3f5f\"}, \"geo\": {\"bgcolor\": \"white\", \"lakecolor\": \"white\", \"landcolor\": \"#E5ECF6\", \"showlakes\": true, \"showland\": true, \"subunitcolor\": \"white\"}, \"hoverlabel\": {\"align\": \"left\"}, \"hovermode\": \"closest\", \"mapbox\": {\"style\": \"light\"}, \"paper_bgcolor\": \"white\", \"plot_bgcolor\": \"#E5ECF6\", \"polar\": {\"angularaxis\": {\"gridcolor\": \"white\", \"linecolor\": \"white\", \"ticks\": \"\"}, \"bgcolor\": \"#E5ECF6\", \"radialaxis\": {\"gridcolor\": \"white\", \"linecolor\": \"white\", \"ticks\": \"\"}}, \"scene\": {\"xaxis\": {\"backgroundcolor\": \"#E5ECF6\", \"gridcolor\": \"white\", \"gridwidth\": 2, \"linecolor\": \"white\", \"showbackground\": true, \"ticks\": \"\", \"zerolinecolor\": \"white\"}, \"yaxis\": {\"backgroundcolor\": \"#E5ECF6\", \"gridcolor\": \"white\", \"gridwidth\": 2, \"linecolor\": \"white\", \"showbackground\": true, \"ticks\": \"\", \"zerolinecolor\": \"white\"}, \"zaxis\": {\"backgroundcolor\": \"#E5ECF6\", \"gridcolor\": \"white\", \"gridwidth\": 2, \"linecolor\": \"white\", \"showbackground\": true, \"ticks\": \"\", \"zerolinecolor\": \"white\"}}, \"shapedefaults\": {\"line\": {\"color\": \"#2a3f5f\"}}, \"ternary\": {\"aaxis\": {\"gridcolor\": \"white\", \"linecolor\": \"white\", \"ticks\": \"\"}, \"baxis\": {\"gridcolor\": \"white\", \"linecolor\": \"white\", \"ticks\": \"\"}, \"bgcolor\": \"#E5ECF6\", \"caxis\": {\"gridcolor\": \"white\", \"linecolor\": \"white\", \"ticks\": \"\"}}, \"title\": {\"x\": 0.05}, \"xaxis\": {\"automargin\": true, \"gridcolor\": \"white\", \"linecolor\": \"white\", \"ticks\": \"\", \"title\": {\"standoff\": 15}, \"zerolinecolor\": \"white\", \"zerolinewidth\": 2}, \"yaxis\": {\"automargin\": true, \"gridcolor\": \"white\", \"linecolor\": \"white\", \"ticks\": \"\", \"title\": {\"standoff\": 15}, \"zerolinecolor\": \"white\", \"zerolinewidth\": 2}}}, \"title\": {\"text\": \" BURGER KING Food item with price and bestseller\"}, \"xaxis\": {\"anchor\": \"y\", \"domain\": [0.0, 1.0], \"title\": {\"text\": \"\"}}, \"yaxis\": {\"anchor\": \"x\", \"domain\": [0.0, 1.0], \"title\": {\"text\": \"Item Price (INR)\"}}},\n",
       "                        {\"responsive\": true}\n",
       "                    ).then(function(){\n",
       "                            \n",
       "var gd = document.getElementById('de76dfb9-58bc-4064-957e-f8317b5bc2ba');\n",
       "var x = new MutationObserver(function (mutations, observer) {{\n",
       "        var display = window.getComputedStyle(gd).display;\n",
       "        if (!display || display === 'none') {{\n",
       "            console.log([gd, 'removed!']);\n",
       "            Plotly.purge(gd);\n",
       "            observer.disconnect();\n",
       "        }}\n",
       "}});\n",
       "\n",
       "// Listen for the removal of the full notebook cells\n",
       "var notebookContainer = gd.closest('#notebook-container');\n",
       "if (notebookContainer) {{\n",
       "    x.observe(notebookContainer, {childList: true});\n",
       "}}\n",
       "\n",
       "// Listen for the clearing of the current output cell\n",
       "var outputEl = gd.closest('.output');\n",
       "if (outputEl) {{\n",
       "    x.observe(outputEl, {childList: true});\n",
       "}}\n",
       "\n",
       "                        })\n",
       "                };\n",
       "                });\n",
       "            </script>\n",
       "        </div>"
      ]
     },
     "metadata": {},
     "output_type": "display_data"
    }
   ],
   "source": [
    "fig = px.bar(r1, x='item_name', y='item_price',\n",
    "             hover_data=['item_name', 'item_price', 'item_category'], color='bestseller_tag', \n",
    "             title=\" BURGER KING Food item with price and bestseller\",\n",
    "             labels=dict(item_price=\"Item Price (INR)\", item_name=\"\"),\n",
    "             height=550)\n",
    "fig.show()"
   ]
  },
  {
   "cell_type": "markdown",
   "metadata": {},
   "source": [
    "##### Bestseller items range from 80 INR to 179 INR"
   ]
  },
  {
   "cell_type": "markdown",
   "metadata": {},
   "source": [
    "### Restaurant 2: Polar Bear"
   ]
  },
  {
   "cell_type": "code",
   "execution_count": 17,
   "metadata": {},
   "outputs": [
    {
     "data": {
      "application/vnd.plotly.v1+json": {
       "config": {
        "plotlyServerURL": "https://plot.ly"
       },
       "data": [
        {
         "alignmentgroup": "True",
         "customdata": [
          [
           "Choco Brownie Fudge",
           185,
           "Recommended"
          ],
          [
           "Chocozilla",
           185,
           "Recommended"
          ],
          [
           "Hot Chocolate Fudge (Regular)",
           135,
           "Recommended"
          ],
          [
           "Death By Chocolate",
           210,
           "Recommended"
          ],
          [
           "Mango Berry",
           155,
           "Recommended"
          ],
          [
           "Gudbud",
           165,
           "Recommended"
          ],
          [
           "Fruit Zest",
           175,
           "Recommended"
          ],
          [
           "Lychee Sundae",
           185,
           "Recommended"
          ],
          [
           "Dry Fruit Special",
           175,
           "Recommended"
          ],
          [
           "Chocolate Tremor",
           145,
           "Recommended"
          ],
          [
           "Sundae Tub Tiramisu Grande",
           297,
           "Recommended"
          ],
          [
           "Sundae Tub Berry Mascarpone",
           297,
           "Recommended"
          ],
          [
           "Sundae Tub Cranberry Cravings",
           297,
           "Recommended"
          ],
          [
           "Sundae Tub Gift Pack",
           0,
           "Recommended"
          ],
          [
           "Caramel-Vanilla",
           129,
           "Recommended"
          ],
          [
           "Cookie Shake",
           129,
           "Recommended"
          ],
          [
           "Cold Coffee",
           129,
           "Recommended"
          ],
          [
           "Wild Strawberry",
           129,
           "Recommended"
          ],
          [
           "Chocolate",
           149,
           "Recommended"
          ],
          [
           "Red N White",
           423,
           "Recommended"
          ],
          [
           "DBC Shake",
           179,
           "Recommended"
          ],
          [
           "Black Forest Cake (Regular)",
           869,
           "Recommended"
          ],
          [
           "Chocolate Truffle Cake (Regular)",
           959,
           "Recommended"
          ],
          [
           "Butterscotch Crunch",
           869,
           "Recommended"
          ],
          [
           "Brownie Fudge",
           175,
           "Chocolate Sundaes"
          ],
          [
           "Choco Brownie Fudge",
           185,
           "Chocolate Sundaes"
          ],
          [
           "Chocozilla",
           185,
           "Chocolate Sundaes"
          ],
          [
           "Cookie Monster",
           185,
           "Chocolate Sundaes"
          ],
          [
           "Hot Chocolate Fudge (Regular)",
           135,
           "Chocolate Sundaes"
          ],
          [
           "Hot Chocolate Fudge (Jumbo)",
           175,
           "Chocolate Sundaes"
          ],
          [
           "Rocky Road",
           175,
           "Chocolate Sundaes"
          ],
          [
           "Red Velvet Choco Sin",
           185,
           "Chocolate Sundaes"
          ],
          [
           "My DBC",
           175,
           "Death By Chocolate"
          ],
          [
           "Death By Chocolate",
           210,
           "Death By Chocolate"
          ],
          [
           "Mango Berry",
           155,
           "Fruit Sundaes"
          ],
          [
           "Gudbud",
           165,
           "Fruit Sundaes"
          ],
          [
           "Fruit Zest",
           175,
           "Fruit Sundaes"
          ],
          [
           "Lychee Sundae",
           185,
           "Fruit Sundaes"
          ],
          [
           "Classic Banana Split",
           179,
           "Fruit Sundaes"
          ],
          [
           "Pine Passion",
           145,
           "Fruit Sundaes"
          ],
          [
           "Dry Fruit Special",
           175,
           "Fundaes"
          ],
          [
           "Butter Scotch Blast",
           165,
           "Fundaes"
          ],
          [
           "Ice Cream Pizza Slice",
           125,
           "Fundaes"
          ],
          [
           "Banoffee Sundae",
           185,
           "Fundaes"
          ],
          [
           "Deep Purple",
           155,
           "Fundaes"
          ],
          [
           "Chocolate Blush",
           135,
           "Knockout Sundaes"
          ],
          [
           "Caramel Peanut Twist",
           135,
           "Knockout Sundaes"
          ],
          [
           "Royale Dark Fantasy",
           135,
           "Knockout Sundaes"
          ],
          [
           "Chocolate Tremor",
           145,
           "Knockout Sundaes"
          ],
          [
           "Triple Luv",
           145,
           "Knockout Sundaes"
          ],
          [
           "Take Home Choco Almond Fudge Tub",
           253,
           "Take Home 500ml Tubs"
          ],
          [
           "Take Home Kulfi Tub",
           253,
           "Take Home 500ml Tubs"
          ],
          [
           "Take Home Vanilla Tub",
           152,
           "Take Home 500ml Tubs"
          ],
          [
           "Take Home Alphanso Mango Tub",
           228,
           "Take Home 500ml Tubs"
          ],
          [
           "Take Home Belgium Chocolate Tub",
           253,
           "Take Home 500ml Tubs"
          ],
          [
           "Take Home Butter Scotch Tub",
           228,
           "Take Home 500ml Tubs"
          ],
          [
           "Take Home Cookies-N-Cream Tub",
           253,
           "Take Home 500ml Tubs"
          ],
          [
           "Take Home Jack Fruit Tub",
           253,
           "Take Home 500ml Tubs"
          ],
          [
           "Take Home Vanilla -  No Added Sugar  ",
           236,
           "Take Home 500ml Tubs"
          ],
          [
           "Sundae Tub Bada Gudbud",
           297,
           "Take Away Sundae Tubs"
          ],
          [
           "Sundae Tub Brownie Fudge",
           297,
           "Take Away Sundae Tubs"
          ],
          [
           "Sundae tub Choco Blocka",
           297,
           "Take Away Sundae Tubs"
          ],
          [
           "Sundae Tub Red Velvet",
           297,
           "Take Away Sundae Tubs"
          ],
          [
           "Sundae Tub Tiramisu Grande",
           297,
           "Take Away Sundae Tubs"
          ],
          [
           "Sundae Tub Berry Mascarpone",
           297,
           "Take Away Sundae Tubs"
          ],
          [
           "Sundae Tub Cranberry Cravings",
           297,
           "Take Away Sundae Tubs"
          ],
          [
           "Seven Wonders",
           289,
           "Family Sundaes"
          ],
          [
           "Family Pizza",
           435,
           "Family Sundaes"
          ],
          [
           "Sundae Tub Gift Pack",
           0,
           "Gifting"
          ],
          [
           "Caramel-Vanilla",
           129,
           "Milk shakes"
          ],
          [
           "Cookie Shake",
           129,
           "Milk shakes"
          ],
          [
           "Cold Coffee",
           129,
           "Milk shakes"
          ],
          [
           "Wild Strawberry",
           129,
           "Milk shakes"
          ],
          [
           "Chocolate",
           149,
           "Milk shakes"
          ],
          [
           "Red N White",
           423,
           "Little Celeb Ice Cream Cakes"
          ],
          [
           "Banana-Mango",
           159,
           "Thick Shakes"
          ],
          [
           "Red Velvet Cookie",
           179,
           "Thick Shakes"
          ],
          [
           "DBC Shake",
           179,
           "Thick Shakes"
          ],
          [
           "Add On Brownie Cake",
           50,
           "Add On Toppings"
          ],
          [
           "Add On Dark Chocolate Cake",
           50,
           "Add On Toppings"
          ],
          [
           "Add On Red Velvet Cake",
           50,
           "Add On Toppings"
          ],
          [
           "Topping Hot Chocolate Sauce",
           50,
           "Add On Toppings"
          ],
          [
           "Peri Peri Paneer",
           125,
           "Submarine Sandwiches"
          ],
          [
           "Roasted Veggies",
           115,
           "Submarine Sandwiches"
          ],
          [
           "Sandwich + Milkshake (both of your choice)",
           0,
           "Super Saver Combo"
          ],
          [
           "Alphonso Mango Sorbet",
           65,
           "Sorbet"
          ],
          [
           "Guava Chilli Sorbet",
           79,
           "Sorbet"
          ],
          [
           "Alphonso Mango Chilli Sorbet",
           79,
           "Sorbet"
          ],
          [
           "Black Forest Cake (Regular)",
           869,
           "Ice Cream Cakes"
          ],
          [
           "Chocolate Truffle Cake (Regular)",
           959,
           "Ice Cream Cakes"
          ],
          [
           "Butterscotch Crunch",
           869,
           "Ice Cream Cakes"
          ],
          [
           "Strawberry",
           59,
           "Special Flavours"
          ],
          [
           "Vanilla",
           59,
           "Special Flavours"
          ],
          [
           "Rich Chocolate",
           85,
           "Special Flavours"
          ],
          [
           "Pistachionut",
           85,
           "Special Flavours"
          ],
          [
           "Fresh Pineapple",
           85,
           "Special Flavours"
          ],
          [
           "Fig o Honey",
           85,
           "Special Flavours"
          ],
          [
           "Butterscotch",
           85,
           "Special Flavours"
          ],
          [
           "Alphonso Mango",
           85,
           "Special Flavours"
          ],
          [
           "Choco Almond Fudge",
           95,
           "Exotic Flavours"
          ],
          [
           "Belgian Chocolate",
           95,
           "Exotic Flavours"
          ],
          [
           "Paan",
           95,
           "Exotic Flavours"
          ],
          [
           "Kulfi",
           95,
           "Exotic Flavours"
          ],
          [
           "Red Velvet",
           95,
           "Exotic Flavours"
          ],
          [
           "Fruit Punch",
           95,
           "Exotic Flavours"
          ],
          [
           "Purple Punch",
           95,
           "Exotic Flavours"
          ],
          [
           "Lychica",
           95,
           "Exotic Flavours"
          ],
          [
           "Coffee Brazilia",
           95,
           "Exotic Flavours"
          ],
          [
           "Vanilla - No Added Sugar",
           85,
           "Flavours - No Added Sugar"
          ],
          [
           "Jackfruit",
           95,
           "Natural Flavours"
          ],
          [
           "Real Chikoo",
           95,
           "Natural Flavours"
          ]
         ],
         "hovertemplate": "=%{customdata[0]}<br>Item Price (INR)=%{customdata[1]}<br>item_category=%{customdata[2]}<br>bestseller_tag=%{marker.color}<extra></extra>",
         "legendgroup": "",
         "marker": {
          "color": [
           0,
           0,
           0,
           1,
           0,
           1,
           0,
           0,
           0,
           0,
           1,
           0,
           0,
           0,
           0,
           0,
           0,
           0,
           0,
           0,
           0,
           0,
           0,
           0,
           0,
           0,
           0,
           0,
           0,
           0,
           0,
           0,
           0,
           1,
           0,
           1,
           0,
           0,
           0,
           0,
           0,
           0,
           0,
           0,
           0,
           0,
           0,
           0,
           0,
           0,
           0,
           0,
           0,
           0,
           0,
           0,
           0,
           0,
           0,
           0,
           0,
           0,
           0,
           1,
           0,
           0,
           0,
           0,
           0,
           0,
           0,
           0,
           0,
           0,
           0,
           0,
           0,
           0,
           0,
           0,
           0,
           0,
           0,
           0,
           0,
           0,
           0,
           0,
           0,
           0,
           0,
           0,
           0,
           0,
           0,
           0,
           0,
           0,
           0,
           0,
           0,
           0,
           0,
           0,
           0,
           0,
           0,
           0,
           0,
           0,
           0
          ],
          "coloraxis": "coloraxis"
         },
         "name": "",
         "offsetgroup": "",
         "orientation": "v",
         "showlegend": false,
         "textposition": "auto",
         "type": "bar",
         "x": [
          "Choco Brownie Fudge",
          "Chocozilla",
          "Hot Chocolate Fudge (Regular)",
          "Death By Chocolate",
          "Mango Berry",
          "Gudbud",
          "Fruit Zest",
          "Lychee Sundae",
          "Dry Fruit Special",
          "Chocolate Tremor",
          "Sundae Tub Tiramisu Grande",
          "Sundae Tub Berry Mascarpone",
          "Sundae Tub Cranberry Cravings",
          "Sundae Tub Gift Pack",
          "Caramel-Vanilla",
          "Cookie Shake",
          "Cold Coffee",
          "Wild Strawberry",
          "Chocolate",
          "Red N White",
          "DBC Shake",
          "Black Forest Cake (Regular)",
          "Chocolate Truffle Cake (Regular)",
          "Butterscotch Crunch",
          "Brownie Fudge",
          "Choco Brownie Fudge",
          "Chocozilla",
          "Cookie Monster",
          "Hot Chocolate Fudge (Regular)",
          "Hot Chocolate Fudge (Jumbo)",
          "Rocky Road",
          "Red Velvet Choco Sin",
          "My DBC",
          "Death By Chocolate",
          "Mango Berry",
          "Gudbud",
          "Fruit Zest",
          "Lychee Sundae",
          "Classic Banana Split",
          "Pine Passion",
          "Dry Fruit Special",
          "Butter Scotch Blast",
          "Ice Cream Pizza Slice",
          "Banoffee Sundae",
          "Deep Purple",
          "Chocolate Blush",
          "Caramel Peanut Twist",
          "Royale Dark Fantasy",
          "Chocolate Tremor",
          "Triple Luv",
          "Take Home Choco Almond Fudge Tub",
          "Take Home Kulfi Tub",
          "Take Home Vanilla Tub",
          "Take Home Alphanso Mango Tub",
          "Take Home Belgium Chocolate Tub",
          "Take Home Butter Scotch Tub",
          "Take Home Cookies-N-Cream Tub",
          "Take Home Jack Fruit Tub",
          "Take Home Vanilla -  No Added Sugar  ",
          "Sundae Tub Bada Gudbud",
          "Sundae Tub Brownie Fudge",
          "Sundae tub Choco Blocka",
          "Sundae Tub Red Velvet",
          "Sundae Tub Tiramisu Grande",
          "Sundae Tub Berry Mascarpone",
          "Sundae Tub Cranberry Cravings",
          "Seven Wonders",
          "Family Pizza",
          "Sundae Tub Gift Pack",
          "Caramel-Vanilla",
          "Cookie Shake",
          "Cold Coffee",
          "Wild Strawberry",
          "Chocolate",
          "Red N White",
          "Banana-Mango",
          "Red Velvet Cookie",
          "DBC Shake",
          "Add On Brownie Cake",
          "Add On Dark Chocolate Cake",
          "Add On Red Velvet Cake",
          "Topping Hot Chocolate Sauce",
          "Peri Peri Paneer",
          "Roasted Veggies",
          "Sandwich + Milkshake (both of your choice)",
          "Alphonso Mango Sorbet",
          "Guava Chilli Sorbet",
          "Alphonso Mango Chilli Sorbet",
          "Black Forest Cake (Regular)",
          "Chocolate Truffle Cake (Regular)",
          "Butterscotch Crunch",
          "Strawberry",
          "Vanilla",
          "Rich Chocolate",
          "Pistachionut",
          "Fresh Pineapple",
          "Fig o Honey",
          "Butterscotch",
          "Alphonso Mango",
          "Choco Almond Fudge",
          "Belgian Chocolate",
          "Paan",
          "Kulfi",
          "Red Velvet",
          "Fruit Punch",
          "Purple Punch",
          "Lychica",
          "Coffee Brazilia",
          "Vanilla - No Added Sugar",
          "Jackfruit",
          "Real Chikoo"
         ],
         "xaxis": "x",
         "y": [
          185,
          185,
          135,
          210,
          155,
          165,
          175,
          185,
          175,
          145,
          297,
          297,
          297,
          0,
          129,
          129,
          129,
          129,
          149,
          423,
          179,
          869,
          959,
          869,
          175,
          185,
          185,
          185,
          135,
          175,
          175,
          185,
          175,
          210,
          155,
          165,
          175,
          185,
          179,
          145,
          175,
          165,
          125,
          185,
          155,
          135,
          135,
          135,
          145,
          145,
          253,
          253,
          152,
          228,
          253,
          228,
          253,
          253,
          236,
          297,
          297,
          297,
          297,
          297,
          297,
          297,
          289,
          435,
          0,
          129,
          129,
          129,
          129,
          149,
          423,
          159,
          179,
          179,
          50,
          50,
          50,
          50,
          125,
          115,
          0,
          65,
          79,
          79,
          869,
          959,
          869,
          59,
          59,
          85,
          85,
          85,
          85,
          85,
          85,
          95,
          95,
          95,
          95,
          95,
          95,
          95,
          95,
          95,
          85,
          95,
          95
         ],
         "yaxis": "y"
        }
       ],
       "layout": {
        "barmode": "relative",
        "coloraxis": {
         "colorbar": {
          "title": {
           "text": "bestseller_tag"
          }
         },
         "colorscale": [
          [
           0,
           "#0d0887"
          ],
          [
           0.1111111111111111,
           "#46039f"
          ],
          [
           0.2222222222222222,
           "#7201a8"
          ],
          [
           0.3333333333333333,
           "#9c179e"
          ],
          [
           0.4444444444444444,
           "#bd3786"
          ],
          [
           0.5555555555555556,
           "#d8576b"
          ],
          [
           0.6666666666666666,
           "#ed7953"
          ],
          [
           0.7777777777777778,
           "#fb9f3a"
          ],
          [
           0.8888888888888888,
           "#fdca26"
          ],
          [
           1,
           "#f0f921"
          ]
         ]
        },
        "height": 650,
        "legend": {
         "tracegroupgap": 0
        },
        "template": {
         "data": {
          "bar": [
           {
            "error_x": {
             "color": "#2a3f5f"
            },
            "error_y": {
             "color": "#2a3f5f"
            },
            "marker": {
             "line": {
              "color": "#E5ECF6",
              "width": 0.5
             }
            },
            "type": "bar"
           }
          ],
          "barpolar": [
           {
            "marker": {
             "line": {
              "color": "#E5ECF6",
              "width": 0.5
             }
            },
            "type": "barpolar"
           }
          ],
          "carpet": [
           {
            "aaxis": {
             "endlinecolor": "#2a3f5f",
             "gridcolor": "white",
             "linecolor": "white",
             "minorgridcolor": "white",
             "startlinecolor": "#2a3f5f"
            },
            "baxis": {
             "endlinecolor": "#2a3f5f",
             "gridcolor": "white",
             "linecolor": "white",
             "minorgridcolor": "white",
             "startlinecolor": "#2a3f5f"
            },
            "type": "carpet"
           }
          ],
          "choropleth": [
           {
            "colorbar": {
             "outlinewidth": 0,
             "ticks": ""
            },
            "type": "choropleth"
           }
          ],
          "contour": [
           {
            "colorbar": {
             "outlinewidth": 0,
             "ticks": ""
            },
            "colorscale": [
             [
              0,
              "#0d0887"
             ],
             [
              0.1111111111111111,
              "#46039f"
             ],
             [
              0.2222222222222222,
              "#7201a8"
             ],
             [
              0.3333333333333333,
              "#9c179e"
             ],
             [
              0.4444444444444444,
              "#bd3786"
             ],
             [
              0.5555555555555556,
              "#d8576b"
             ],
             [
              0.6666666666666666,
              "#ed7953"
             ],
             [
              0.7777777777777778,
              "#fb9f3a"
             ],
             [
              0.8888888888888888,
              "#fdca26"
             ],
             [
              1,
              "#f0f921"
             ]
            ],
            "type": "contour"
           }
          ],
          "contourcarpet": [
           {
            "colorbar": {
             "outlinewidth": 0,
             "ticks": ""
            },
            "type": "contourcarpet"
           }
          ],
          "heatmap": [
           {
            "colorbar": {
             "outlinewidth": 0,
             "ticks": ""
            },
            "colorscale": [
             [
              0,
              "#0d0887"
             ],
             [
              0.1111111111111111,
              "#46039f"
             ],
             [
              0.2222222222222222,
              "#7201a8"
             ],
             [
              0.3333333333333333,
              "#9c179e"
             ],
             [
              0.4444444444444444,
              "#bd3786"
             ],
             [
              0.5555555555555556,
              "#d8576b"
             ],
             [
              0.6666666666666666,
              "#ed7953"
             ],
             [
              0.7777777777777778,
              "#fb9f3a"
             ],
             [
              0.8888888888888888,
              "#fdca26"
             ],
             [
              1,
              "#f0f921"
             ]
            ],
            "type": "heatmap"
           }
          ],
          "heatmapgl": [
           {
            "colorbar": {
             "outlinewidth": 0,
             "ticks": ""
            },
            "colorscale": [
             [
              0,
              "#0d0887"
             ],
             [
              0.1111111111111111,
              "#46039f"
             ],
             [
              0.2222222222222222,
              "#7201a8"
             ],
             [
              0.3333333333333333,
              "#9c179e"
             ],
             [
              0.4444444444444444,
              "#bd3786"
             ],
             [
              0.5555555555555556,
              "#d8576b"
             ],
             [
              0.6666666666666666,
              "#ed7953"
             ],
             [
              0.7777777777777778,
              "#fb9f3a"
             ],
             [
              0.8888888888888888,
              "#fdca26"
             ],
             [
              1,
              "#f0f921"
             ]
            ],
            "type": "heatmapgl"
           }
          ],
          "histogram": [
           {
            "marker": {
             "colorbar": {
              "outlinewidth": 0,
              "ticks": ""
             }
            },
            "type": "histogram"
           }
          ],
          "histogram2d": [
           {
            "colorbar": {
             "outlinewidth": 0,
             "ticks": ""
            },
            "colorscale": [
             [
              0,
              "#0d0887"
             ],
             [
              0.1111111111111111,
              "#46039f"
             ],
             [
              0.2222222222222222,
              "#7201a8"
             ],
             [
              0.3333333333333333,
              "#9c179e"
             ],
             [
              0.4444444444444444,
              "#bd3786"
             ],
             [
              0.5555555555555556,
              "#d8576b"
             ],
             [
              0.6666666666666666,
              "#ed7953"
             ],
             [
              0.7777777777777778,
              "#fb9f3a"
             ],
             [
              0.8888888888888888,
              "#fdca26"
             ],
             [
              1,
              "#f0f921"
             ]
            ],
            "type": "histogram2d"
           }
          ],
          "histogram2dcontour": [
           {
            "colorbar": {
             "outlinewidth": 0,
             "ticks": ""
            },
            "colorscale": [
             [
              0,
              "#0d0887"
             ],
             [
              0.1111111111111111,
              "#46039f"
             ],
             [
              0.2222222222222222,
              "#7201a8"
             ],
             [
              0.3333333333333333,
              "#9c179e"
             ],
             [
              0.4444444444444444,
              "#bd3786"
             ],
             [
              0.5555555555555556,
              "#d8576b"
             ],
             [
              0.6666666666666666,
              "#ed7953"
             ],
             [
              0.7777777777777778,
              "#fb9f3a"
             ],
             [
              0.8888888888888888,
              "#fdca26"
             ],
             [
              1,
              "#f0f921"
             ]
            ],
            "type": "histogram2dcontour"
           }
          ],
          "mesh3d": [
           {
            "colorbar": {
             "outlinewidth": 0,
             "ticks": ""
            },
            "type": "mesh3d"
           }
          ],
          "parcoords": [
           {
            "line": {
             "colorbar": {
              "outlinewidth": 0,
              "ticks": ""
             }
            },
            "type": "parcoords"
           }
          ],
          "pie": [
           {
            "automargin": true,
            "type": "pie"
           }
          ],
          "scatter": [
           {
            "marker": {
             "colorbar": {
              "outlinewidth": 0,
              "ticks": ""
             }
            },
            "type": "scatter"
           }
          ],
          "scatter3d": [
           {
            "line": {
             "colorbar": {
              "outlinewidth": 0,
              "ticks": ""
             }
            },
            "marker": {
             "colorbar": {
              "outlinewidth": 0,
              "ticks": ""
             }
            },
            "type": "scatter3d"
           }
          ],
          "scattercarpet": [
           {
            "marker": {
             "colorbar": {
              "outlinewidth": 0,
              "ticks": ""
             }
            },
            "type": "scattercarpet"
           }
          ],
          "scattergeo": [
           {
            "marker": {
             "colorbar": {
              "outlinewidth": 0,
              "ticks": ""
             }
            },
            "type": "scattergeo"
           }
          ],
          "scattergl": [
           {
            "marker": {
             "colorbar": {
              "outlinewidth": 0,
              "ticks": ""
             }
            },
            "type": "scattergl"
           }
          ],
          "scattermapbox": [
           {
            "marker": {
             "colorbar": {
              "outlinewidth": 0,
              "ticks": ""
             }
            },
            "type": "scattermapbox"
           }
          ],
          "scatterpolar": [
           {
            "marker": {
             "colorbar": {
              "outlinewidth": 0,
              "ticks": ""
             }
            },
            "type": "scatterpolar"
           }
          ],
          "scatterpolargl": [
           {
            "marker": {
             "colorbar": {
              "outlinewidth": 0,
              "ticks": ""
             }
            },
            "type": "scatterpolargl"
           }
          ],
          "scatterternary": [
           {
            "marker": {
             "colorbar": {
              "outlinewidth": 0,
              "ticks": ""
             }
            },
            "type": "scatterternary"
           }
          ],
          "surface": [
           {
            "colorbar": {
             "outlinewidth": 0,
             "ticks": ""
            },
            "colorscale": [
             [
              0,
              "#0d0887"
             ],
             [
              0.1111111111111111,
              "#46039f"
             ],
             [
              0.2222222222222222,
              "#7201a8"
             ],
             [
              0.3333333333333333,
              "#9c179e"
             ],
             [
              0.4444444444444444,
              "#bd3786"
             ],
             [
              0.5555555555555556,
              "#d8576b"
             ],
             [
              0.6666666666666666,
              "#ed7953"
             ],
             [
              0.7777777777777778,
              "#fb9f3a"
             ],
             [
              0.8888888888888888,
              "#fdca26"
             ],
             [
              1,
              "#f0f921"
             ]
            ],
            "type": "surface"
           }
          ],
          "table": [
           {
            "cells": {
             "fill": {
              "color": "#EBF0F8"
             },
             "line": {
              "color": "white"
             }
            },
            "header": {
             "fill": {
              "color": "#C8D4E3"
             },
             "line": {
              "color": "white"
             }
            },
            "type": "table"
           }
          ]
         },
         "layout": {
          "annotationdefaults": {
           "arrowcolor": "#2a3f5f",
           "arrowhead": 0,
           "arrowwidth": 1
          },
          "coloraxis": {
           "colorbar": {
            "outlinewidth": 0,
            "ticks": ""
           }
          },
          "colorscale": {
           "diverging": [
            [
             0,
             "#8e0152"
            ],
            [
             0.1,
             "#c51b7d"
            ],
            [
             0.2,
             "#de77ae"
            ],
            [
             0.3,
             "#f1b6da"
            ],
            [
             0.4,
             "#fde0ef"
            ],
            [
             0.5,
             "#f7f7f7"
            ],
            [
             0.6,
             "#e6f5d0"
            ],
            [
             0.7,
             "#b8e186"
            ],
            [
             0.8,
             "#7fbc41"
            ],
            [
             0.9,
             "#4d9221"
            ],
            [
             1,
             "#276419"
            ]
           ],
           "sequential": [
            [
             0,
             "#0d0887"
            ],
            [
             0.1111111111111111,
             "#46039f"
            ],
            [
             0.2222222222222222,
             "#7201a8"
            ],
            [
             0.3333333333333333,
             "#9c179e"
            ],
            [
             0.4444444444444444,
             "#bd3786"
            ],
            [
             0.5555555555555556,
             "#d8576b"
            ],
            [
             0.6666666666666666,
             "#ed7953"
            ],
            [
             0.7777777777777778,
             "#fb9f3a"
            ],
            [
             0.8888888888888888,
             "#fdca26"
            ],
            [
             1,
             "#f0f921"
            ]
           ],
           "sequentialminus": [
            [
             0,
             "#0d0887"
            ],
            [
             0.1111111111111111,
             "#46039f"
            ],
            [
             0.2222222222222222,
             "#7201a8"
            ],
            [
             0.3333333333333333,
             "#9c179e"
            ],
            [
             0.4444444444444444,
             "#bd3786"
            ],
            [
             0.5555555555555556,
             "#d8576b"
            ],
            [
             0.6666666666666666,
             "#ed7953"
            ],
            [
             0.7777777777777778,
             "#fb9f3a"
            ],
            [
             0.8888888888888888,
             "#fdca26"
            ],
            [
             1,
             "#f0f921"
            ]
           ]
          },
          "colorway": [
           "#636efa",
           "#EF553B",
           "#00cc96",
           "#ab63fa",
           "#FFA15A",
           "#19d3f3",
           "#FF6692",
           "#B6E880",
           "#FF97FF",
           "#FECB52"
          ],
          "font": {
           "color": "#2a3f5f"
          },
          "geo": {
           "bgcolor": "white",
           "lakecolor": "white",
           "landcolor": "#E5ECF6",
           "showlakes": true,
           "showland": true,
           "subunitcolor": "white"
          },
          "hoverlabel": {
           "align": "left"
          },
          "hovermode": "closest",
          "mapbox": {
           "style": "light"
          },
          "paper_bgcolor": "white",
          "plot_bgcolor": "#E5ECF6",
          "polar": {
           "angularaxis": {
            "gridcolor": "white",
            "linecolor": "white",
            "ticks": ""
           },
           "bgcolor": "#E5ECF6",
           "radialaxis": {
            "gridcolor": "white",
            "linecolor": "white",
            "ticks": ""
           }
          },
          "scene": {
           "xaxis": {
            "backgroundcolor": "#E5ECF6",
            "gridcolor": "white",
            "gridwidth": 2,
            "linecolor": "white",
            "showbackground": true,
            "ticks": "",
            "zerolinecolor": "white"
           },
           "yaxis": {
            "backgroundcolor": "#E5ECF6",
            "gridcolor": "white",
            "gridwidth": 2,
            "linecolor": "white",
            "showbackground": true,
            "ticks": "",
            "zerolinecolor": "white"
           },
           "zaxis": {
            "backgroundcolor": "#E5ECF6",
            "gridcolor": "white",
            "gridwidth": 2,
            "linecolor": "white",
            "showbackground": true,
            "ticks": "",
            "zerolinecolor": "white"
           }
          },
          "shapedefaults": {
           "line": {
            "color": "#2a3f5f"
           }
          },
          "ternary": {
           "aaxis": {
            "gridcolor": "white",
            "linecolor": "white",
            "ticks": ""
           },
           "baxis": {
            "gridcolor": "white",
            "linecolor": "white",
            "ticks": ""
           },
           "bgcolor": "#E5ECF6",
           "caxis": {
            "gridcolor": "white",
            "linecolor": "white",
            "ticks": ""
           }
          },
          "title": {
           "x": 0.05
          },
          "xaxis": {
           "automargin": true,
           "gridcolor": "white",
           "linecolor": "white",
           "ticks": "",
           "title": {
            "standoff": 15
           },
           "zerolinecolor": "white",
           "zerolinewidth": 2
          },
          "yaxis": {
           "automargin": true,
           "gridcolor": "white",
           "linecolor": "white",
           "ticks": "",
           "title": {
            "standoff": 15
           },
           "zerolinecolor": "white",
           "zerolinewidth": 2
          }
         }
        },
        "title": {
         "text": "POLAR BEAR Food item with price and bestseller"
        },
        "xaxis": {
         "anchor": "y",
         "domain": [
          0,
          1
         ],
         "title": {
          "text": ""
         }
        },
        "yaxis": {
         "anchor": "x",
         "domain": [
          0,
          1
         ],
         "title": {
          "text": "Item Price (INR)"
         }
        }
       }
      },
      "text/html": [
       "<div>\n",
       "        \n",
       "        \n",
       "            <div id=\"24582cb2-ec6d-4ec7-8f21-0880a1e69f85\" class=\"plotly-graph-div\" style=\"height:650px; width:100%;\"></div>\n",
       "            <script type=\"text/javascript\">\n",
       "                require([\"plotly\"], function(Plotly) {\n",
       "                    window.PLOTLYENV=window.PLOTLYENV || {};\n",
       "                    \n",
       "                if (document.getElementById(\"24582cb2-ec6d-4ec7-8f21-0880a1e69f85\")) {\n",
       "                    Plotly.newPlot(\n",
       "                        '24582cb2-ec6d-4ec7-8f21-0880a1e69f85',\n",
       "                        [{\"alignmentgroup\": \"True\", \"customdata\": [[\"Choco Brownie Fudge\", 185.0, \"Recommended\"], [\"Chocozilla\", 185.0, \"Recommended\"], [\"Hot Chocolate Fudge (Regular)\", 135.0, \"Recommended\"], [\"Death By Chocolate\", 210.0, \"Recommended\"], [\"Mango Berry\", 155.0, \"Recommended\"], [\"Gudbud\", 165.0, \"Recommended\"], [\"Fruit Zest\", 175.0, \"Recommended\"], [\"Lychee Sundae\", 185.0, \"Recommended\"], [\"Dry Fruit Special\", 175.0, \"Recommended\"], [\"Chocolate Tremor\", 145.0, \"Recommended\"], [\"Sundae Tub Tiramisu Grande\", 297.0, \"Recommended\"], [\"Sundae Tub Berry Mascarpone\", 297.0, \"Recommended\"], [\"Sundae Tub Cranberry Cravings\", 297.0, \"Recommended\"], [\"Sundae Tub Gift Pack\", 0.0, \"Recommended\"], [\"Caramel-Vanilla\", 129.0, \"Recommended\"], [\"Cookie Shake\", 129.0, \"Recommended\"], [\"Cold Coffee\", 129.0, \"Recommended\"], [\"Wild Strawberry\", 129.0, \"Recommended\"], [\"Chocolate\", 149.0, \"Recommended\"], [\"Red N White\", 423.0, \"Recommended\"], [\"DBC Shake\", 179.0, \"Recommended\"], [\"Black Forest Cake (Regular)\", 869.0, \"Recommended\"], [\"Chocolate Truffle Cake (Regular)\", 959.0, \"Recommended\"], [\"Butterscotch Crunch\", 869.0, \"Recommended\"], [\"Brownie Fudge\", 175.0, \"Chocolate Sundaes\"], [\"Choco Brownie Fudge\", 185.0, \"Chocolate Sundaes\"], [\"Chocozilla\", 185.0, \"Chocolate Sundaes\"], [\"Cookie Monster\", 185.0, \"Chocolate Sundaes\"], [\"Hot Chocolate Fudge (Regular)\", 135.0, \"Chocolate Sundaes\"], [\"Hot Chocolate Fudge (Jumbo)\", 175.0, \"Chocolate Sundaes\"], [\"Rocky Road\", 175.0, \"Chocolate Sundaes\"], [\"Red Velvet Choco Sin\", 185.0, \"Chocolate Sundaes\"], [\"My DBC\", 175.0, \"Death By Chocolate\"], [\"Death By Chocolate\", 210.0, \"Death By Chocolate\"], [\"Mango Berry\", 155.0, \"Fruit Sundaes\"], [\"Gudbud\", 165.0, \"Fruit Sundaes\"], [\"Fruit Zest\", 175.0, \"Fruit Sundaes\"], [\"Lychee Sundae\", 185.0, \"Fruit Sundaes\"], [\"Classic Banana Split\", 179.0, \"Fruit Sundaes\"], [\"Pine Passion\", 145.0, \"Fruit Sundaes\"], [\"Dry Fruit Special\", 175.0, \"Fundaes\"], [\"Butter Scotch Blast\", 165.0, \"Fundaes\"], [\"Ice Cream Pizza Slice\", 125.0, \"Fundaes\"], [\"Banoffee Sundae\", 185.0, \"Fundaes\"], [\"Deep Purple\", 155.0, \"Fundaes\"], [\"Chocolate Blush\", 135.0, \"Knockout Sundaes\"], [\"Caramel Peanut Twist\", 135.0, \"Knockout Sundaes\"], [\"Royale Dark Fantasy\", 135.0, \"Knockout Sundaes\"], [\"Chocolate Tremor\", 145.0, \"Knockout Sundaes\"], [\"Triple Luv\", 145.0, \"Knockout Sundaes\"], [\"Take Home Choco Almond Fudge Tub\", 253.0, \"Take Home 500ml Tubs\"], [\"Take Home Kulfi Tub\", 253.0, \"Take Home 500ml Tubs\"], [\"Take Home Vanilla Tub\", 152.0, \"Take Home 500ml Tubs\"], [\"Take Home Alphanso Mango Tub\", 228.0, \"Take Home 500ml Tubs\"], [\"Take Home Belgium Chocolate Tub\", 253.0, \"Take Home 500ml Tubs\"], [\"Take Home Butter Scotch Tub\", 228.0, \"Take Home 500ml Tubs\"], [\"Take Home Cookies-N-Cream Tub\", 253.0, \"Take Home 500ml Tubs\"], [\"Take Home Jack Fruit Tub\", 253.0, \"Take Home 500ml Tubs\"], [\"Take Home Vanilla -  No Added Sugar \\u00a0\", 236.0, \"Take Home 500ml Tubs\"], [\"Sundae Tub Bada Gudbud\", 297.0, \"Take Away Sundae Tubs\"], [\"Sundae Tub Brownie Fudge\", 297.0, \"Take Away Sundae Tubs\"], [\"Sundae tub Choco Blocka\", 297.0, \"Take Away Sundae Tubs\"], [\"Sundae Tub Red Velvet\", 297.0, \"Take Away Sundae Tubs\"], [\"Sundae Tub Tiramisu Grande\", 297.0, \"Take Away Sundae Tubs\"], [\"Sundae Tub Berry Mascarpone\", 297.0, \"Take Away Sundae Tubs\"], [\"Sundae Tub Cranberry Cravings\", 297.0, \"Take Away Sundae Tubs\"], [\"Seven Wonders\", 289.0, \"Family Sundaes\"], [\"Family Pizza\", 435.0, \"Family Sundaes\"], [\"Sundae Tub Gift Pack\", 0.0, \"Gifting\"], [\"Caramel-Vanilla\", 129.0, \"Milk shakes\"], [\"Cookie Shake\", 129.0, \"Milk shakes\"], [\"Cold Coffee\", 129.0, \"Milk shakes\"], [\"Wild Strawberry\", 129.0, \"Milk shakes\"], [\"Chocolate\", 149.0, \"Milk shakes\"], [\"Red N White\", 423.0, \"Little Celeb Ice Cream Cakes\"], [\"Banana-Mango\", 159.0, \"Thick Shakes\"], [\"Red Velvet Cookie\", 179.0, \"Thick Shakes\"], [\"DBC Shake\", 179.0, \"Thick Shakes\"], [\"Add On Brownie Cake\", 50.0, \"Add On Toppings\"], [\"Add On Dark Chocolate Cake\", 50.0, \"Add On Toppings\"], [\"Add On Red Velvet Cake\", 50.0, \"Add On Toppings\"], [\"Topping Hot Chocolate Sauce\", 50.0, \"Add On Toppings\"], [\"Peri Peri Paneer\", 125.0, \"Submarine Sandwiches\"], [\"Roasted Veggies\", 115.0, \"Submarine Sandwiches\"], [\"Sandwich + Milkshake (both of your choice)\", 0.0, \"Super Saver Combo\"], [\"Alphonso Mango Sorbet\", 65.0, \"Sorbet\"], [\"Guava Chilli Sorbet\", 79.0, \"Sorbet\"], [\"Alphonso Mango Chilli Sorbet\", 79.0, \"Sorbet\"], [\"Black Forest Cake (Regular)\", 869.0, \"Ice Cream Cakes\"], [\"Chocolate Truffle Cake (Regular)\", 959.0, \"Ice Cream Cakes\"], [\"Butterscotch Crunch\", 869.0, \"Ice Cream Cakes\"], [\"Strawberry\", 59.0, \"Special Flavours\"], [\"Vanilla\", 59.0, \"Special Flavours\"], [\"Rich Chocolate\", 85.0, \"Special Flavours\"], [\"Pistachionut\", 85.0, \"Special Flavours\"], [\"Fresh Pineapple\", 85.0, \"Special Flavours\"], [\"Fig o Honey\", 85.0, \"Special Flavours\"], [\"Butterscotch\", 85.0, \"Special Flavours\"], [\"Alphonso Mango\", 85.0, \"Special Flavours\"], [\"Choco Almond Fudge\", 95.0, \"Exotic Flavours\"], [\"Belgian Chocolate\", 95.0, \"Exotic Flavours\"], [\"Paan\", 95.0, \"Exotic Flavours\"], [\"Kulfi\", 95.0, \"Exotic Flavours\"], [\"Red Velvet\", 95.0, \"Exotic Flavours\"], [\"Fruit Punch\", 95.0, \"Exotic Flavours\"], [\"Purple Punch\", 95.0, \"Exotic Flavours\"], [\"Lychica\", 95.0, \"Exotic Flavours\"], [\"Coffee Brazilia\", 95.0, \"Exotic Flavours\"], [\"Vanilla - No Added Sugar\", 85.0, \"Flavours - No Added Sugar\"], [\"Jackfruit\", 95.0, \"Natural Flavours\"], [\"Real Chikoo\", 95.0, \"Natural Flavours\"]], \"hovertemplate\": \"=%{customdata[0]}<br>Item Price (INR)=%{customdata[1]}<br>item_category=%{customdata[2]}<br>bestseller_tag=%{marker.color}<extra></extra>\", \"legendgroup\": \"\", \"marker\": {\"color\": [0, 0, 0, 1, 0, 1, 0, 0, 0, 0, 1, 0, 0, 0, 0, 0, 0, 0, 0, 0, 0, 0, 0, 0, 0, 0, 0, 0, 0, 0, 0, 0, 0, 1, 0, 1, 0, 0, 0, 0, 0, 0, 0, 0, 0, 0, 0, 0, 0, 0, 0, 0, 0, 0, 0, 0, 0, 0, 0, 0, 0, 0, 0, 1, 0, 0, 0, 0, 0, 0, 0, 0, 0, 0, 0, 0, 0, 0, 0, 0, 0, 0, 0, 0, 0, 0, 0, 0, 0, 0, 0, 0, 0, 0, 0, 0, 0, 0, 0, 0, 0, 0, 0, 0, 0, 0, 0, 0, 0, 0, 0], \"coloraxis\": \"coloraxis\"}, \"name\": \"\", \"offsetgroup\": \"\", \"orientation\": \"v\", \"showlegend\": false, \"textposition\": \"auto\", \"type\": \"bar\", \"x\": [\"Choco Brownie Fudge\", \"Chocozilla\", \"Hot Chocolate Fudge (Regular)\", \"Death By Chocolate\", \"Mango Berry\", \"Gudbud\", \"Fruit Zest\", \"Lychee Sundae\", \"Dry Fruit Special\", \"Chocolate Tremor\", \"Sundae Tub Tiramisu Grande\", \"Sundae Tub Berry Mascarpone\", \"Sundae Tub Cranberry Cravings\", \"Sundae Tub Gift Pack\", \"Caramel-Vanilla\", \"Cookie Shake\", \"Cold Coffee\", \"Wild Strawberry\", \"Chocolate\", \"Red N White\", \"DBC Shake\", \"Black Forest Cake (Regular)\", \"Chocolate Truffle Cake (Regular)\", \"Butterscotch Crunch\", \"Brownie Fudge\", \"Choco Brownie Fudge\", \"Chocozilla\", \"Cookie Monster\", \"Hot Chocolate Fudge (Regular)\", \"Hot Chocolate Fudge (Jumbo)\", \"Rocky Road\", \"Red Velvet Choco Sin\", \"My DBC\", \"Death By Chocolate\", \"Mango Berry\", \"Gudbud\", \"Fruit Zest\", \"Lychee Sundae\", \"Classic Banana Split\", \"Pine Passion\", \"Dry Fruit Special\", \"Butter Scotch Blast\", \"Ice Cream Pizza Slice\", \"Banoffee Sundae\", \"Deep Purple\", \"Chocolate Blush\", \"Caramel Peanut Twist\", \"Royale Dark Fantasy\", \"Chocolate Tremor\", \"Triple Luv\", \"Take Home Choco Almond Fudge Tub\", \"Take Home Kulfi Tub\", \"Take Home Vanilla Tub\", \"Take Home Alphanso Mango Tub\", \"Take Home Belgium Chocolate Tub\", \"Take Home Butter Scotch Tub\", \"Take Home Cookies-N-Cream Tub\", \"Take Home Jack Fruit Tub\", \"Take Home Vanilla -  No Added Sugar \\u00a0\", \"Sundae Tub Bada Gudbud\", \"Sundae Tub Brownie Fudge\", \"Sundae tub Choco Blocka\", \"Sundae Tub Red Velvet\", \"Sundae Tub Tiramisu Grande\", \"Sundae Tub Berry Mascarpone\", \"Sundae Tub Cranberry Cravings\", \"Seven Wonders\", \"Family Pizza\", \"Sundae Tub Gift Pack\", \"Caramel-Vanilla\", \"Cookie Shake\", \"Cold Coffee\", \"Wild Strawberry\", \"Chocolate\", \"Red N White\", \"Banana-Mango\", \"Red Velvet Cookie\", \"DBC Shake\", \"Add On Brownie Cake\", \"Add On Dark Chocolate Cake\", \"Add On Red Velvet Cake\", \"Topping Hot Chocolate Sauce\", \"Peri Peri Paneer\", \"Roasted Veggies\", \"Sandwich + Milkshake (both of your choice)\", \"Alphonso Mango Sorbet\", \"Guava Chilli Sorbet\", \"Alphonso Mango Chilli Sorbet\", \"Black Forest Cake (Regular)\", \"Chocolate Truffle Cake (Regular)\", \"Butterscotch Crunch\", \"Strawberry\", \"Vanilla\", \"Rich Chocolate\", \"Pistachionut\", \"Fresh Pineapple\", \"Fig o Honey\", \"Butterscotch\", \"Alphonso Mango\", \"Choco Almond Fudge\", \"Belgian Chocolate\", \"Paan\", \"Kulfi\", \"Red Velvet\", \"Fruit Punch\", \"Purple Punch\", \"Lychica\", \"Coffee Brazilia\", \"Vanilla - No Added Sugar\", \"Jackfruit\", \"Real Chikoo\"], \"xaxis\": \"x\", \"y\": [185.0, 185.0, 135.0, 210.0, 155.0, 165.0, 175.0, 185.0, 175.0, 145.0, 297.0, 297.0, 297.0, 0.0, 129.0, 129.0, 129.0, 129.0, 149.0, 423.0, 179.0, 869.0, 959.0, 869.0, 175.0, 185.0, 185.0, 185.0, 135.0, 175.0, 175.0, 185.0, 175.0, 210.0, 155.0, 165.0, 175.0, 185.0, 179.0, 145.0, 175.0, 165.0, 125.0, 185.0, 155.0, 135.0, 135.0, 135.0, 145.0, 145.0, 253.0, 253.0, 152.0, 228.0, 253.0, 228.0, 253.0, 253.0, 236.0, 297.0, 297.0, 297.0, 297.0, 297.0, 297.0, 297.0, 289.0, 435.0, 0.0, 129.0, 129.0, 129.0, 129.0, 149.0, 423.0, 159.0, 179.0, 179.0, 50.0, 50.0, 50.0, 50.0, 125.0, 115.0, 0.0, 65.0, 79.0, 79.0, 869.0, 959.0, 869.0, 59.0, 59.0, 85.0, 85.0, 85.0, 85.0, 85.0, 85.0, 95.0, 95.0, 95.0, 95.0, 95.0, 95.0, 95.0, 95.0, 95.0, 85.0, 95.0, 95.0], \"yaxis\": \"y\"}],\n",
       "                        {\"barmode\": \"relative\", \"coloraxis\": {\"colorbar\": {\"title\": {\"text\": \"bestseller_tag\"}}, \"colorscale\": [[0.0, \"#0d0887\"], [0.1111111111111111, \"#46039f\"], [0.2222222222222222, \"#7201a8\"], [0.3333333333333333, \"#9c179e\"], [0.4444444444444444, \"#bd3786\"], [0.5555555555555556, \"#d8576b\"], [0.6666666666666666, \"#ed7953\"], [0.7777777777777778, \"#fb9f3a\"], [0.8888888888888888, \"#fdca26\"], [1.0, \"#f0f921\"]]}, \"height\": 650, \"legend\": {\"tracegroupgap\": 0}, \"template\": {\"data\": {\"bar\": [{\"error_x\": {\"color\": \"#2a3f5f\"}, \"error_y\": {\"color\": \"#2a3f5f\"}, \"marker\": {\"line\": {\"color\": \"#E5ECF6\", \"width\": 0.5}}, \"type\": \"bar\"}], \"barpolar\": [{\"marker\": {\"line\": {\"color\": \"#E5ECF6\", \"width\": 0.5}}, \"type\": \"barpolar\"}], \"carpet\": [{\"aaxis\": {\"endlinecolor\": \"#2a3f5f\", \"gridcolor\": \"white\", \"linecolor\": \"white\", \"minorgridcolor\": \"white\", \"startlinecolor\": \"#2a3f5f\"}, \"baxis\": {\"endlinecolor\": \"#2a3f5f\", \"gridcolor\": \"white\", \"linecolor\": \"white\", \"minorgridcolor\": \"white\", \"startlinecolor\": \"#2a3f5f\"}, \"type\": \"carpet\"}], \"choropleth\": [{\"colorbar\": {\"outlinewidth\": 0, \"ticks\": \"\"}, \"type\": \"choropleth\"}], \"contour\": [{\"colorbar\": {\"outlinewidth\": 0, \"ticks\": \"\"}, \"colorscale\": [[0.0, \"#0d0887\"], [0.1111111111111111, \"#46039f\"], [0.2222222222222222, \"#7201a8\"], [0.3333333333333333, \"#9c179e\"], [0.4444444444444444, \"#bd3786\"], [0.5555555555555556, \"#d8576b\"], [0.6666666666666666, \"#ed7953\"], [0.7777777777777778, \"#fb9f3a\"], [0.8888888888888888, \"#fdca26\"], [1.0, \"#f0f921\"]], \"type\": \"contour\"}], \"contourcarpet\": [{\"colorbar\": {\"outlinewidth\": 0, \"ticks\": \"\"}, \"type\": \"contourcarpet\"}], \"heatmap\": [{\"colorbar\": {\"outlinewidth\": 0, \"ticks\": \"\"}, \"colorscale\": [[0.0, \"#0d0887\"], [0.1111111111111111, \"#46039f\"], [0.2222222222222222, \"#7201a8\"], [0.3333333333333333, \"#9c179e\"], [0.4444444444444444, \"#bd3786\"], [0.5555555555555556, \"#d8576b\"], [0.6666666666666666, \"#ed7953\"], [0.7777777777777778, \"#fb9f3a\"], [0.8888888888888888, \"#fdca26\"], [1.0, \"#f0f921\"]], \"type\": \"heatmap\"}], \"heatmapgl\": [{\"colorbar\": {\"outlinewidth\": 0, \"ticks\": \"\"}, \"colorscale\": [[0.0, \"#0d0887\"], [0.1111111111111111, \"#46039f\"], [0.2222222222222222, \"#7201a8\"], [0.3333333333333333, \"#9c179e\"], [0.4444444444444444, \"#bd3786\"], [0.5555555555555556, \"#d8576b\"], [0.6666666666666666, \"#ed7953\"], [0.7777777777777778, \"#fb9f3a\"], [0.8888888888888888, \"#fdca26\"], [1.0, \"#f0f921\"]], \"type\": \"heatmapgl\"}], \"histogram\": [{\"marker\": {\"colorbar\": {\"outlinewidth\": 0, \"ticks\": \"\"}}, \"type\": \"histogram\"}], \"histogram2d\": [{\"colorbar\": {\"outlinewidth\": 0, \"ticks\": \"\"}, \"colorscale\": [[0.0, \"#0d0887\"], [0.1111111111111111, \"#46039f\"], [0.2222222222222222, \"#7201a8\"], [0.3333333333333333, \"#9c179e\"], [0.4444444444444444, \"#bd3786\"], [0.5555555555555556, \"#d8576b\"], [0.6666666666666666, \"#ed7953\"], [0.7777777777777778, \"#fb9f3a\"], [0.8888888888888888, \"#fdca26\"], [1.0, \"#f0f921\"]], \"type\": \"histogram2d\"}], \"histogram2dcontour\": [{\"colorbar\": {\"outlinewidth\": 0, \"ticks\": \"\"}, \"colorscale\": [[0.0, \"#0d0887\"], [0.1111111111111111, \"#46039f\"], [0.2222222222222222, \"#7201a8\"], [0.3333333333333333, \"#9c179e\"], [0.4444444444444444, \"#bd3786\"], [0.5555555555555556, \"#d8576b\"], [0.6666666666666666, \"#ed7953\"], [0.7777777777777778, \"#fb9f3a\"], [0.8888888888888888, \"#fdca26\"], [1.0, \"#f0f921\"]], \"type\": \"histogram2dcontour\"}], \"mesh3d\": [{\"colorbar\": {\"outlinewidth\": 0, \"ticks\": \"\"}, \"type\": \"mesh3d\"}], \"parcoords\": [{\"line\": {\"colorbar\": {\"outlinewidth\": 0, \"ticks\": \"\"}}, \"type\": \"parcoords\"}], \"pie\": [{\"automargin\": true, \"type\": \"pie\"}], \"scatter\": [{\"marker\": {\"colorbar\": {\"outlinewidth\": 0, \"ticks\": \"\"}}, \"type\": \"scatter\"}], \"scatter3d\": [{\"line\": {\"colorbar\": {\"outlinewidth\": 0, \"ticks\": \"\"}}, \"marker\": {\"colorbar\": {\"outlinewidth\": 0, \"ticks\": \"\"}}, \"type\": \"scatter3d\"}], \"scattercarpet\": [{\"marker\": {\"colorbar\": {\"outlinewidth\": 0, \"ticks\": \"\"}}, \"type\": \"scattercarpet\"}], \"scattergeo\": [{\"marker\": {\"colorbar\": {\"outlinewidth\": 0, \"ticks\": \"\"}}, \"type\": \"scattergeo\"}], \"scattergl\": [{\"marker\": {\"colorbar\": {\"outlinewidth\": 0, \"ticks\": \"\"}}, \"type\": \"scattergl\"}], \"scattermapbox\": [{\"marker\": {\"colorbar\": {\"outlinewidth\": 0, \"ticks\": \"\"}}, \"type\": \"scattermapbox\"}], \"scatterpolar\": [{\"marker\": {\"colorbar\": {\"outlinewidth\": 0, \"ticks\": \"\"}}, \"type\": \"scatterpolar\"}], \"scatterpolargl\": [{\"marker\": {\"colorbar\": {\"outlinewidth\": 0, \"ticks\": \"\"}}, \"type\": \"scatterpolargl\"}], \"scatterternary\": [{\"marker\": {\"colorbar\": {\"outlinewidth\": 0, \"ticks\": \"\"}}, \"type\": \"scatterternary\"}], \"surface\": [{\"colorbar\": {\"outlinewidth\": 0, \"ticks\": \"\"}, \"colorscale\": [[0.0, \"#0d0887\"], [0.1111111111111111, \"#46039f\"], [0.2222222222222222, \"#7201a8\"], [0.3333333333333333, \"#9c179e\"], [0.4444444444444444, \"#bd3786\"], [0.5555555555555556, \"#d8576b\"], [0.6666666666666666, \"#ed7953\"], [0.7777777777777778, \"#fb9f3a\"], [0.8888888888888888, \"#fdca26\"], [1.0, \"#f0f921\"]], \"type\": \"surface\"}], \"table\": [{\"cells\": {\"fill\": {\"color\": \"#EBF0F8\"}, \"line\": {\"color\": \"white\"}}, \"header\": {\"fill\": {\"color\": \"#C8D4E3\"}, \"line\": {\"color\": \"white\"}}, \"type\": \"table\"}]}, \"layout\": {\"annotationdefaults\": {\"arrowcolor\": \"#2a3f5f\", \"arrowhead\": 0, \"arrowwidth\": 1}, \"coloraxis\": {\"colorbar\": {\"outlinewidth\": 0, \"ticks\": \"\"}}, \"colorscale\": {\"diverging\": [[0, \"#8e0152\"], [0.1, \"#c51b7d\"], [0.2, \"#de77ae\"], [0.3, \"#f1b6da\"], [0.4, \"#fde0ef\"], [0.5, \"#f7f7f7\"], [0.6, \"#e6f5d0\"], [0.7, \"#b8e186\"], [0.8, \"#7fbc41\"], [0.9, \"#4d9221\"], [1, \"#276419\"]], \"sequential\": [[0.0, \"#0d0887\"], [0.1111111111111111, \"#46039f\"], [0.2222222222222222, \"#7201a8\"], [0.3333333333333333, \"#9c179e\"], [0.4444444444444444, \"#bd3786\"], [0.5555555555555556, \"#d8576b\"], [0.6666666666666666, \"#ed7953\"], [0.7777777777777778, \"#fb9f3a\"], [0.8888888888888888, \"#fdca26\"], [1.0, \"#f0f921\"]], \"sequentialminus\": [[0.0, \"#0d0887\"], [0.1111111111111111, \"#46039f\"], [0.2222222222222222, \"#7201a8\"], [0.3333333333333333, \"#9c179e\"], [0.4444444444444444, \"#bd3786\"], [0.5555555555555556, \"#d8576b\"], [0.6666666666666666, \"#ed7953\"], [0.7777777777777778, \"#fb9f3a\"], [0.8888888888888888, \"#fdca26\"], [1.0, \"#f0f921\"]]}, \"colorway\": [\"#636efa\", \"#EF553B\", \"#00cc96\", \"#ab63fa\", \"#FFA15A\", \"#19d3f3\", \"#FF6692\", \"#B6E880\", \"#FF97FF\", \"#FECB52\"], \"font\": {\"color\": \"#2a3f5f\"}, \"geo\": {\"bgcolor\": \"white\", \"lakecolor\": \"white\", \"landcolor\": \"#E5ECF6\", \"showlakes\": true, \"showland\": true, \"subunitcolor\": \"white\"}, \"hoverlabel\": {\"align\": \"left\"}, \"hovermode\": \"closest\", \"mapbox\": {\"style\": \"light\"}, \"paper_bgcolor\": \"white\", \"plot_bgcolor\": \"#E5ECF6\", \"polar\": {\"angularaxis\": {\"gridcolor\": \"white\", \"linecolor\": \"white\", \"ticks\": \"\"}, \"bgcolor\": \"#E5ECF6\", \"radialaxis\": {\"gridcolor\": \"white\", \"linecolor\": \"white\", \"ticks\": \"\"}}, \"scene\": {\"xaxis\": {\"backgroundcolor\": \"#E5ECF6\", \"gridcolor\": \"white\", \"gridwidth\": 2, \"linecolor\": \"white\", \"showbackground\": true, \"ticks\": \"\", \"zerolinecolor\": \"white\"}, \"yaxis\": {\"backgroundcolor\": \"#E5ECF6\", \"gridcolor\": \"white\", \"gridwidth\": 2, \"linecolor\": \"white\", \"showbackground\": true, \"ticks\": \"\", \"zerolinecolor\": \"white\"}, \"zaxis\": {\"backgroundcolor\": \"#E5ECF6\", \"gridcolor\": \"white\", \"gridwidth\": 2, \"linecolor\": \"white\", \"showbackground\": true, \"ticks\": \"\", \"zerolinecolor\": \"white\"}}, \"shapedefaults\": {\"line\": {\"color\": \"#2a3f5f\"}}, \"ternary\": {\"aaxis\": {\"gridcolor\": \"white\", \"linecolor\": \"white\", \"ticks\": \"\"}, \"baxis\": {\"gridcolor\": \"white\", \"linecolor\": \"white\", \"ticks\": \"\"}, \"bgcolor\": \"#E5ECF6\", \"caxis\": {\"gridcolor\": \"white\", \"linecolor\": \"white\", \"ticks\": \"\"}}, \"title\": {\"x\": 0.05}, \"xaxis\": {\"automargin\": true, \"gridcolor\": \"white\", \"linecolor\": \"white\", \"ticks\": \"\", \"title\": {\"standoff\": 15}, \"zerolinecolor\": \"white\", \"zerolinewidth\": 2}, \"yaxis\": {\"automargin\": true, \"gridcolor\": \"white\", \"linecolor\": \"white\", \"ticks\": \"\", \"title\": {\"standoff\": 15}, \"zerolinecolor\": \"white\", \"zerolinewidth\": 2}}}, \"title\": {\"text\": \"POLAR BEAR Food item with price and bestseller\"}, \"xaxis\": {\"anchor\": \"y\", \"domain\": [0.0, 1.0], \"title\": {\"text\": \"\"}}, \"yaxis\": {\"anchor\": \"x\", \"domain\": [0.0, 1.0], \"title\": {\"text\": \"Item Price (INR)\"}}},\n",
       "                        {\"responsive\": true}\n",
       "                    ).then(function(){\n",
       "                            \n",
       "var gd = document.getElementById('24582cb2-ec6d-4ec7-8f21-0880a1e69f85');\n",
       "var x = new MutationObserver(function (mutations, observer) {{\n",
       "        var display = window.getComputedStyle(gd).display;\n",
       "        if (!display || display === 'none') {{\n",
       "            console.log([gd, 'removed!']);\n",
       "            Plotly.purge(gd);\n",
       "            observer.disconnect();\n",
       "        }}\n",
       "}});\n",
       "\n",
       "// Listen for the removal of the full notebook cells\n",
       "var notebookContainer = gd.closest('#notebook-container');\n",
       "if (notebookContainer) {{\n",
       "    x.observe(notebookContainer, {childList: true});\n",
       "}}\n",
       "\n",
       "// Listen for the clearing of the current output cell\n",
       "var outputEl = gd.closest('.output');\n",
       "if (outputEl) {{\n",
       "    x.observe(outputEl, {childList: true});\n",
       "}}\n",
       "\n",
       "                        })\n",
       "                };\n",
       "                });\n",
       "            </script>\n",
       "        </div>"
      ]
     },
     "metadata": {},
     "output_type": "display_data"
    }
   ],
   "source": [
    "r2 = df.groupby(by='restaurant_name').get_group('Polar Bear')\n",
    "fig = px.bar(r2, x='item_name', y='item_price',\n",
    "             hover_data=['item_name', 'item_price', 'item_category'], color='bestseller_tag', \n",
    "             title=\"POLAR BEAR Food item with price and bestseller\",\n",
    "             labels=dict(item_price=\"Item Price (INR)\", item_name=\"\"),\n",
    "             height=650)\n",
    "fig.show()"
   ]
  },
  {
   "cell_type": "markdown",
   "metadata": {},
   "source": [
    "##### Bestseller items range from 165 INR to 297 INR"
   ]
  },
  {
   "cell_type": "markdown",
   "metadata": {},
   "source": [
    "### Restaurant 3: "
   ]
  },
  {
   "cell_type": "code",
   "execution_count": 18,
   "metadata": {},
   "outputs": [
    {
     "data": {
      "application/vnd.plotly.v1+json": {
       "config": {
        "plotlyServerURL": "https://plot.ly"
       },
       "data": [
        {
         "alignmentgroup": "True",
         "customdata": [
          [
           "Yaaro Ka Waffle Combo",
           449,
           "Recommended"
          ],
          [
           "Ek Main Hu Aur Ekk Tu Combo",
           349,
           "Recommended"
          ],
          [
           "Keep Cake & Celebrate Valentines + 1 Free Delight",
           530,
           "Recommended"
          ],
          [
           "Chocolate Oats Pancake & Waffle Mix",
           214,
           "Recommended"
          ],
          [
           "Milk Chocolate Spread",
           236.55,
           "Recommended"
          ],
          [
           "Chocolate Waffle Crisps",
           114.28,
           "Recommended"
          ],
          [
           "Stroopwafel x 4",
           350.4,
           "Recommended"
          ],
          [
           "Belgian Chocolate Milk Waffle",
           145.71,
           "Recommended"
          ],
          [
           "Naked Nutella Waffle",
           172.38,
           "Recommended"
          ],
          [
           "Kitkat Waffle",
           155.24,
           "Recommended"
          ],
          [
           "Dark & White Fantasy Waffle",
           155.24,
           "Recommended"
          ],
          [
           "Triple Chocolate Waffle",
           165.71,
           "Recommended"
          ],
          [
           "Red Velvet Waffle",
           155.24,
           "Recommended"
          ],
          [
           "Pink Almond Crunch Waffle",
           145.71,
           "Recommended"
          ],
          [
           "Cashewnut Butter Waffle",
           165.71,
           "Recommended"
          ],
          [
           "Rocky Road Waffle",
           184.76,
           "Recommended"
          ],
          [
           "Chocolate Mini Waffle Combo Pack of 4",
           309.52,
           "Recommended"
          ],
          [
           "Assorted Mini Waffle Combo Pack of 6",
           439.05,
           "Recommended"
          ],
          [
           "Triple Chocolate Pancakes (8 Pcs)",
           136.19,
           "Recommended"
          ],
          [
           "Ice Cream And Fudge Chocolate Pancakes (8Pcs)",
           125.71,
           "Recommended"
          ],
          [
           "Ice Cream And Fudge Vanilla Pancakes (8Pcs)",
           125.71,
           "Recommended"
          ],
          [
           "Triple Cookie Mini Pancake",
           165.71,
           "Recommended"
          ],
          [
           "Death By Chocolate Waffle Cake(Double Layer)",
           529.52,
           "Recommended"
          ],
          [
           "Red Velvet Waffle Cake(Single Layer)",
           330.48,
           "Recommended"
          ],
          [
           "Belgian Chocolate Shake",
           160.95,
           "Recommended"
          ],
          [
           "Signature Cold Coffee",
           130.48,
           "Recommended"
          ],
          [
           "Stroopwafel Box Of 6- Chocolate  ",
           533,
           "Recommended"
          ],
          [
           "Stroopwafel Box Of 6- Assorted  ",
           514,
           "Recommended"
          ],
          [
           "Happiness In Mini Version + 1 Free Delight",
           456,
           "Recommended"
          ],
          [
           "Keep Cake & Celebrate + 1 Free Delight        ",
           529.52,
           "Recommended"
          ],
          [
           "3 Belgian Chocolate Milk Waffle + 1 Free Delight         ",
           437.14,
           "Recommended"
          ],
          [
           "3 Belgian Chocolate Dark Waffle + 1 Free Delight                ",
           437.14,
           "Recommended"
          ],
          [
           "Triple Flavour Festivities + 1 Free Delight",
           466.67,
           "Recommended"
          ],
          [
           "Signature Waffles + 1 FREE Delight",
           447,
           "Recommended"
          ],
          [
           "Triple Chocolate Waffle + Belgian Chocolate Shake",
           326.67,
           "Recommended"
          ],
          [
           "Nutella Fix - Combo of 3",
           547.62,
           "Recommended"
          ],
          [
           "Yaaro Ka Waffle Combo",
           449,
           "Valentines Specials"
          ],
          [
           "Ek Main Hu Aur Ekk Tu Combo",
           349,
           "Valentines Specials"
          ],
          [
           "Keep Cake & Celebrate Valentines + 1 Free Delight",
           530,
           "Valentines Specials"
          ],
          [
           "Chocolate Oats Pancake & Waffle Mix",
           214,
           "Make at Home Specials"
          ],
          [
           "Milk Chocolate Spread",
           236.55,
           "Make at Home Specials"
          ],
          [
           "Dark Chocolate Spread",
           236.55,
           "Make at Home Specials"
          ],
          [
           "Kiki & Cream Spread",
           236.55,
           "Make at Home Specials"
          ],
          [
           "Chocolate Waffle Crisps",
           114.28,
           "Waffle Crisps"
          ],
          [
           "Double Chocolate Waffle Crisps",
           114.28,
           "Waffle Crisps"
          ],
          [
           "Stroopwafel x 2",
           175,
           "Stroopwafel"
          ],
          [
           "Stroopwafel x 4",
           350.4,
           "Stroopwafel"
          ],
          [
           "Honey Butter Waffle",
           107.62,
           "Waffles"
          ],
          [
           "Maple Butter Waffle",
           107.62,
           "Waffles"
          ],
          [
           "Strawberry Creamcheese Waffle",
           155.24,
           "Waffles"
          ],
          [
           "Blueberry Creamcheese Waffle",
           164.76,
           "Waffles"
          ],
          [
           "Belgian Chocolate Milk Waffle",
           145.71,
           "Waffles"
          ],
          [
           "Belgian Chocolate Dark Waffle",
           145.71,
           "Waffles"
          ],
          [
           "Butterscotch Crunch Waffle",
           135.24,
           "Waffles"
          ],
          [
           "Coffee Mocha Waffle",
           145.71,
           "Waffles"
          ],
          [
           "Naked Nutella Waffle",
           172.38,
           "Waffles"
          ],
          [
           "Kitkat Waffle",
           155.24,
           "Waffles"
          ],
          [
           "Chocolate Overload Milk Waffle",
           155.24,
           "Waffles"
          ],
          [
           "Chocolate Overload Dark Waffle",
           155.24,
           "Waffles"
          ],
          [
           "Dark & White Fantasy Waffle",
           155.24,
           "Waffles"
          ],
          [
           "Triple Chocolate Waffle",
           165.71,
           "Waffles"
          ],
          [
           "Biscoff Milkyway Waffle",
           155.24,
           "Waffles"
          ],
          [
           "Kiki And Oreo Cream Waffle",
           145.71,
           "Waffles"
          ],
          [
           "Red Velvet Waffle",
           155.24,
           "Waffles"
          ],
          [
           "Pink Almond Crunch Waffle",
           145.71,
           "Waffles"
          ],
          [
           "Cashewnut Butter Waffle",
           165.71,
           "Waffles"
          ],
          [
           "Almond Cocoa Butter Waffle",
           165.71,
           "Waffles"
          ],
          [
           "Peanut Butter Waffle",
           145.71,
           "Waffles"
          ],
          [
           "Ice Cream And Fudge Chocolate Waffle",
           165.71,
           "Waffles"
          ],
          [
           "Triple Cookie Waffle",
           195.24,
           "Waffles"
          ],
          [
           "Ice Cream And Fudge Vanilla Waffle",
           165.71,
           "Waffles"
          ],
          [
           "Rocky Road Waffle",
           184.76,
           "Waffles"
          ],
          [
           "Chocolate Mini Waffle Combo Pack of 4",
           309.52,
           "Mini Waffles"
          ],
          [
           "Assorted Mini Waffle Combo Pack of 4",
           301.9,
           "Mini Waffles"
          ],
          [
           "Chocolate Mini Waffle Combo Pack of 6",
           456.19,
           "Mini Waffles"
          ],
          [
           "Assorted Mini Waffle Combo Pack of 6",
           439.05,
           "Mini Waffles"
          ],
          [
           "Honey Butter Pancakes (8 Pcs)",
           88.57,
           "Mini Pancakes"
          ],
          [
           "Maple Butter Pancakes (8 Pcs)",
           88.57,
           "Mini Pancakes"
          ],
          [
           "Strawberry Creamcheese Pancakes (8 Pcs)",
           135.24,
           "Mini Pancakes"
          ],
          [
           "Blueberry Creamcheese Pancakes (8 Pcs)",
           145.71,
           "Mini Pancakes"
          ],
          [
           "Belgian Chocolate - Milk Pancakes (8 Pcs)",
           116.19,
           "Mini Pancakes"
          ],
          [
           "Belgian Chocolate - Dark Pancakes (8 Pcs)",
           116.19,
           "Mini Pancakes"
          ],
          [
           "Butterscotch Crunch Pancakes (8 Pcs)",
           108.57,
           "Mini Pancakes"
          ],
          [
           "Coffee Mocha Pancakes (8 Pcs)",
           116.19,
           "Mini Pancakes"
          ],
          [
           "Naked Nutella Pancakes (8 Pcs)",
           156.19,
           "Mini Pancakes"
          ],
          [
           "Kitkat Pancakes (8 Pcs)",
           125.71,
           "Mini Pancakes"
          ],
          [
           "Chocolate Overload- Milk Pancakes (8 Pcs)",
           125.71,
           "Mini Pancakes"
          ],
          [
           "Chocolate Overload - Dark Pancakes (8 Pcs)",
           125.71,
           "Mini Pancakes"
          ],
          [
           "Dark & White Fantasy Pancakes (8 Pcs)",
           125.71,
           "Mini Pancakes"
          ],
          [
           "Triple Chocolate Pancakes (8 Pcs)",
           136.19,
           "Mini Pancakes"
          ],
          [
           "Kiki And Oreo Cream Pancakes (8 Pcs)",
           116.19,
           "Mini Pancakes"
          ],
          [
           "Biscoff Milkyway Pancake (8Pcs)",
           124.76,
           "Mini Pancakes"
          ],
          [
           "Red Velvet Pancakes (8 Pcs)",
           125.71,
           "Mini Pancakes"
          ],
          [
           "Pink Almond Crunch Pancake (8 Pcs)",
           125.71,
           "Mini Pancakes"
          ],
          [
           "Cashewnut Butter Pancake (8 Pcs)",
           145.71,
           "Mini Pancakes"
          ],
          [
           "Almond Cocoa Butter Pancakes (8 Pcs)",
           136.19,
           "Mini Pancakes"
          ],
          [
           "Peanut Butter Pancake (8 Pcs)",
           125.71,
           "Mini Pancakes"
          ],
          [
           "Ice Cream And Fudge Chocolate Pancakes (8Pcs)",
           125.71,
           "Mini Pancakes"
          ],
          [
           "Rocky Road Pancakes (8Pcs)",
           156.19,
           "Mini Pancakes"
          ],
          [
           "Ice Cream And Fudge Vanilla Pancakes (8Pcs)",
           125.71,
           "Mini Pancakes"
          ],
          [
           "Triple Cookie Mini Pancake",
           165.71,
           "Mini Pancakes"
          ],
          [
           "67% Less Sugar Belgian Chocolate Milk Waffle",
           155.24,
           "Less Sugar Waffles And Pancakes"
          ],
          [
           "67% Less Sugar Belgian Chocolate Dark Waffle",
           155.24,
           "Less Sugar Waffles And Pancakes"
          ],
          [
           "67% Less Sugar Chocolate Overload Milk Waffle",
           165.71,
           "Less Sugar Waffles And Pancakes"
          ],
          [
           "67% Less Sugar Chocolate Overload Dark Waffle",
           165.71,
           "Less Sugar Waffles And Pancakes"
          ],
          [
           "67% Less Sugar Belgian Chocolate Milk Pancakes (8 Pcs)",
           125.71,
           "Less Sugar Waffles And Pancakes"
          ],
          [
           "67% Less Sugar Belgian Chocolate Dark Pancakes (8 Pcs)",
           125.71,
           "Less Sugar Waffles And Pancakes"
          ],
          [
           "67% Less Sugar Chocolate Overload Milk Pancakes (8 Pcs)",
           136.19,
           "Less Sugar Waffles And Pancakes"
          ],
          [
           "67% Less Sugar Chocolate Overload Dark Pancakes (8 Pcs)",
           136.19,
           "Less Sugar Waffles And Pancakes"
          ],
          [
           "Death By Chocolate Waffle Cake(Single Layer)",
           330.48,
           "Waffle Cakes"
          ],
          [
           "Death By Chocolate Waffle Cake(Double Layer)",
           529.52,
           "Waffle Cakes"
          ],
          [
           "Red Velvet Waffle Cake(Single Layer)",
           330.48,
           "Waffle Cakes"
          ],
          [
           "Red Velvet Waffle Cake(Double Layer)",
           529.52,
           "Waffle Cakes"
          ],
          [
           "Kiki And Oreo Cream Waffle Cake (Single Layer)",
           330.48,
           "Waffle Cakes"
          ],
          [
           "Kiki And Oreo Cream Waffle Cake (Double Layer)",
           529.52,
           "Waffle Cakes"
          ],
          [
           "Oreo Shake",
           160.95,
           "Beverages"
          ],
          [
           "Belgian Chocolate Shake",
           160.95,
           "Beverages"
          ],
          [
           "Banana Peanut Butter",
           180.95,
           "Beverages"
          ],
          [
           "Kitkat Shake",
           180,
           "Beverages"
          ],
          [
           "Blueberry White Chocolate",
           180,
           "Beverages"
          ],
          [
           "Nutella Shake",
           219.05,
           "Beverages"
          ],
          [
           "Signature Cold Coffee",
           130.48,
           "Beverages"
          ],
          [
           "Peach Iced Tea",
           103.81,
           "Beverages"
          ],
          [
           "Lemon Iced Tea",
           103.81,
           "Beverages"
          ],
          [
           "Berry Lemonade",
           130.48,
           "Beverages"
          ],
          [
           "Stroopwafel Box Of 6- Chocolate  ",
           533,
           "Christmas Specials"
          ],
          [
           "Stroopwafel Box Of 6- Assorted  ",
           514,
           "Christmas Specials"
          ],
          [
           "Happiness In Mini Version + 1 Free Delight",
           456,
           "Christmas Specials"
          ],
          [
           "Keep Cake & Celebrate + 1 Free Delight        ",
           529.52,
           "Christmas Specials"
          ],
          [
           "3 Belgian Chocolate Milk Waffle + 1 Free Delight         ",
           437.14,
           "Christmas Specials"
          ],
          [
           "3 Belgian Chocolate Dark Waffle + 1 Free Delight                ",
           437.14,
           "Christmas Specials"
          ],
          [
           "Triple Flavour Festivities + 1 Free Delight",
           466.67,
           "Christmas Specials"
          ],
          [
           "Signature Waffles + 1 FREE Delight",
           447,
           "Christmas Specials"
          ],
          [
           "Triple Chocolate Waffle + Belgian Chocolate Shake",
           326.67,
           "BWC Specials"
          ],
          [
           "Naked Nutella Waffle + Naked Nutella Pancake  ",
           328.57,
           "BWC Specials"
          ],
          [
           "Chocolate Trio Combo Of 3                           ",
           425.71,
           "BWC Specials"
          ],
          [
           "Nutella Fix - Combo of 3",
           547.62,
           "BWC Specials"
          ],
          [
           "Triple Batter Bliss (Combo of 3)",
           446.67,
           "BWC Specials"
          ],
          [
           "Chocomania Club - Combo of 4",
           665.71,
           "BWC Specials"
          ]
         ],
         "hovertemplate": "=%{customdata[0]}<br>Item Price (INR)=%{customdata[1]}<br>item_category=%{customdata[2]}<br>bestseller_tag=%{marker.color}<extra></extra>",
         "legendgroup": "",
         "marker": {
          "color": [
           0,
           0,
           0,
           0,
           0,
           0,
           0,
           1,
           1,
           1,
           0,
           1,
           1,
           0,
           0,
           0,
           1,
           0,
           0,
           0,
           0,
           0,
           0,
           0,
           0,
           0,
           0,
           0,
           0,
           0,
           0,
           0,
           0,
           0,
           0,
           0,
           0,
           0,
           0,
           0,
           0,
           0,
           0,
           0,
           0,
           0,
           0,
           0,
           1,
           0,
           0,
           1,
           0,
           0,
           1,
           1,
           1,
           0,
           0,
           0,
           1,
           0,
           1,
           1,
           0,
           0,
           0,
           0,
           0,
           0,
           0,
           0,
           1,
           0,
           0,
           0,
           0,
           0,
           0,
           0,
           1,
           0,
           0,
           0,
           0,
           0,
           0,
           0,
           0,
           0,
           0,
           0,
           0,
           0,
           0,
           0,
           0,
           0,
           0,
           0,
           0,
           0,
           0,
           0,
           0,
           0,
           0,
           0,
           0,
           0,
           0,
           0,
           0,
           0,
           0,
           0,
           0,
           0,
           0,
           0,
           0,
           0,
           0,
           0,
           0,
           0,
           0,
           0,
           0,
           0,
           0,
           0,
           0,
           0,
           0,
           0,
           0,
           0,
           0
          ],
          "coloraxis": "coloraxis"
         },
         "name": "",
         "offsetgroup": "",
         "orientation": "v",
         "showlegend": false,
         "textposition": "auto",
         "type": "bar",
         "x": [
          "Yaaro Ka Waffle Combo",
          "Ek Main Hu Aur Ekk Tu Combo",
          "Keep Cake & Celebrate Valentines + 1 Free Delight",
          "Chocolate Oats Pancake & Waffle Mix",
          "Milk Chocolate Spread",
          "Chocolate Waffle Crisps",
          "Stroopwafel x 4",
          "Belgian Chocolate Milk Waffle",
          "Naked Nutella Waffle",
          "Kitkat Waffle",
          "Dark & White Fantasy Waffle",
          "Triple Chocolate Waffle",
          "Red Velvet Waffle",
          "Pink Almond Crunch Waffle",
          "Cashewnut Butter Waffle",
          "Rocky Road Waffle",
          "Chocolate Mini Waffle Combo Pack of 4",
          "Assorted Mini Waffle Combo Pack of 6",
          "Triple Chocolate Pancakes (8 Pcs)",
          "Ice Cream And Fudge Chocolate Pancakes (8Pcs)",
          "Ice Cream And Fudge Vanilla Pancakes (8Pcs)",
          "Triple Cookie Mini Pancake",
          "Death By Chocolate Waffle Cake(Double Layer)",
          "Red Velvet Waffle Cake(Single Layer)",
          "Belgian Chocolate Shake",
          "Signature Cold Coffee",
          "Stroopwafel Box Of 6- Chocolate  ",
          "Stroopwafel Box Of 6- Assorted  ",
          "Happiness In Mini Version + 1 Free Delight",
          "Keep Cake & Celebrate + 1 Free Delight        ",
          "3 Belgian Chocolate Milk Waffle + 1 Free Delight         ",
          "3 Belgian Chocolate Dark Waffle + 1 Free Delight                ",
          "Triple Flavour Festivities + 1 Free Delight",
          "Signature Waffles + 1 FREE Delight",
          "Triple Chocolate Waffle + Belgian Chocolate Shake",
          "Nutella Fix - Combo of 3",
          "Yaaro Ka Waffle Combo",
          "Ek Main Hu Aur Ekk Tu Combo",
          "Keep Cake & Celebrate Valentines + 1 Free Delight",
          "Chocolate Oats Pancake & Waffle Mix",
          "Milk Chocolate Spread",
          "Dark Chocolate Spread",
          "Kiki & Cream Spread",
          "Chocolate Waffle Crisps",
          "Double Chocolate Waffle Crisps",
          "Stroopwafel x 2",
          "Stroopwafel x 4",
          "Honey Butter Waffle",
          "Maple Butter Waffle",
          "Strawberry Creamcheese Waffle",
          "Blueberry Creamcheese Waffle",
          "Belgian Chocolate Milk Waffle",
          "Belgian Chocolate Dark Waffle",
          "Butterscotch Crunch Waffle",
          "Coffee Mocha Waffle",
          "Naked Nutella Waffle",
          "Kitkat Waffle",
          "Chocolate Overload Milk Waffle",
          "Chocolate Overload Dark Waffle",
          "Dark & White Fantasy Waffle",
          "Triple Chocolate Waffle",
          "Biscoff Milkyway Waffle",
          "Kiki And Oreo Cream Waffle",
          "Red Velvet Waffle",
          "Pink Almond Crunch Waffle",
          "Cashewnut Butter Waffle",
          "Almond Cocoa Butter Waffle",
          "Peanut Butter Waffle",
          "Ice Cream And Fudge Chocolate Waffle",
          "Triple Cookie Waffle",
          "Ice Cream And Fudge Vanilla Waffle",
          "Rocky Road Waffle",
          "Chocolate Mini Waffle Combo Pack of 4",
          "Assorted Mini Waffle Combo Pack of 4",
          "Chocolate Mini Waffle Combo Pack of 6",
          "Assorted Mini Waffle Combo Pack of 6",
          "Honey Butter Pancakes (8 Pcs)",
          "Maple Butter Pancakes (8 Pcs)",
          "Strawberry Creamcheese Pancakes (8 Pcs)",
          "Blueberry Creamcheese Pancakes (8 Pcs)",
          "Belgian Chocolate - Milk Pancakes (8 Pcs)",
          "Belgian Chocolate - Dark Pancakes (8 Pcs)",
          "Butterscotch Crunch Pancakes (8 Pcs)",
          "Coffee Mocha Pancakes (8 Pcs)",
          "Naked Nutella Pancakes (8 Pcs)",
          "Kitkat Pancakes (8 Pcs)",
          "Chocolate Overload- Milk Pancakes (8 Pcs)",
          "Chocolate Overload - Dark Pancakes (8 Pcs)",
          "Dark & White Fantasy Pancakes (8 Pcs)",
          "Triple Chocolate Pancakes (8 Pcs)",
          "Kiki And Oreo Cream Pancakes (8 Pcs)",
          "Biscoff Milkyway Pancake (8Pcs)",
          "Red Velvet Pancakes (8 Pcs)",
          "Pink Almond Crunch Pancake (8 Pcs)",
          "Cashewnut Butter Pancake (8 Pcs)",
          "Almond Cocoa Butter Pancakes (8 Pcs)",
          "Peanut Butter Pancake (8 Pcs)",
          "Ice Cream And Fudge Chocolate Pancakes (8Pcs)",
          "Rocky Road Pancakes (8Pcs)",
          "Ice Cream And Fudge Vanilla Pancakes (8Pcs)",
          "Triple Cookie Mini Pancake",
          "67% Less Sugar Belgian Chocolate Milk Waffle",
          "67% Less Sugar Belgian Chocolate Dark Waffle",
          "67% Less Sugar Chocolate Overload Milk Waffle",
          "67% Less Sugar Chocolate Overload Dark Waffle",
          "67% Less Sugar Belgian Chocolate Milk Pancakes (8 Pcs)",
          "67% Less Sugar Belgian Chocolate Dark Pancakes (8 Pcs)",
          "67% Less Sugar Chocolate Overload Milk Pancakes (8 Pcs)",
          "67% Less Sugar Chocolate Overload Dark Pancakes (8 Pcs)",
          "Death By Chocolate Waffle Cake(Single Layer)",
          "Death By Chocolate Waffle Cake(Double Layer)",
          "Red Velvet Waffle Cake(Single Layer)",
          "Red Velvet Waffle Cake(Double Layer)",
          "Kiki And Oreo Cream Waffle Cake (Single Layer)",
          "Kiki And Oreo Cream Waffle Cake (Double Layer)",
          "Oreo Shake",
          "Belgian Chocolate Shake",
          "Banana Peanut Butter",
          "Kitkat Shake",
          "Blueberry White Chocolate",
          "Nutella Shake",
          "Signature Cold Coffee",
          "Peach Iced Tea",
          "Lemon Iced Tea",
          "Berry Lemonade",
          "Stroopwafel Box Of 6- Chocolate  ",
          "Stroopwafel Box Of 6- Assorted  ",
          "Happiness In Mini Version + 1 Free Delight",
          "Keep Cake & Celebrate + 1 Free Delight        ",
          "3 Belgian Chocolate Milk Waffle + 1 Free Delight         ",
          "3 Belgian Chocolate Dark Waffle + 1 Free Delight                ",
          "Triple Flavour Festivities + 1 Free Delight",
          "Signature Waffles + 1 FREE Delight",
          "Triple Chocolate Waffle + Belgian Chocolate Shake",
          "Naked Nutella Waffle + Naked Nutella Pancake  ",
          "Chocolate Trio Combo Of 3                           ",
          "Nutella Fix - Combo of 3",
          "Triple Batter Bliss (Combo of 3)",
          "Chocomania Club - Combo of 4"
         ],
         "xaxis": "x",
         "y": [
          449,
          349,
          530,
          214,
          236.55,
          114.28,
          350.4,
          145.71,
          172.38,
          155.24,
          155.24,
          165.71,
          155.24,
          145.71,
          165.71,
          184.76,
          309.52,
          439.05,
          136.19,
          125.71,
          125.71,
          165.71,
          529.52,
          330.48,
          160.95,
          130.48,
          533,
          514,
          456,
          529.52,
          437.14,
          437.14,
          466.67,
          447,
          326.67,
          547.62,
          449,
          349,
          530,
          214,
          236.55,
          236.55,
          236.55,
          114.28,
          114.28,
          175,
          350.4,
          107.62,
          107.62,
          155.24,
          164.76,
          145.71,
          145.71,
          135.24,
          145.71,
          172.38,
          155.24,
          155.24,
          155.24,
          155.24,
          165.71,
          155.24,
          145.71,
          155.24,
          145.71,
          165.71,
          165.71,
          145.71,
          165.71,
          195.24,
          165.71,
          184.76,
          309.52,
          301.9,
          456.19,
          439.05,
          88.57,
          88.57,
          135.24,
          145.71,
          116.19,
          116.19,
          108.57,
          116.19,
          156.19,
          125.71,
          125.71,
          125.71,
          125.71,
          136.19,
          116.19,
          124.76,
          125.71,
          125.71,
          145.71,
          136.19,
          125.71,
          125.71,
          156.19,
          125.71,
          165.71,
          155.24,
          155.24,
          165.71,
          165.71,
          125.71,
          125.71,
          136.19,
          136.19,
          330.48,
          529.52,
          330.48,
          529.52,
          330.48,
          529.52,
          160.95,
          160.95,
          180.95,
          180,
          180,
          219.05,
          130.48,
          103.81,
          103.81,
          130.48,
          533,
          514,
          456,
          529.52,
          437.14,
          437.14,
          466.67,
          447,
          326.67,
          328.57,
          425.71,
          547.62,
          446.67,
          665.71
         ],
         "yaxis": "y"
        }
       ],
       "layout": {
        "barmode": "relative",
        "coloraxis": {
         "colorbar": {
          "title": {
           "text": "bestseller_tag"
          }
         },
         "colorscale": [
          [
           0,
           "#0d0887"
          ],
          [
           0.1111111111111111,
           "#46039f"
          ],
          [
           0.2222222222222222,
           "#7201a8"
          ],
          [
           0.3333333333333333,
           "#9c179e"
          ],
          [
           0.4444444444444444,
           "#bd3786"
          ],
          [
           0.5555555555555556,
           "#d8576b"
          ],
          [
           0.6666666666666666,
           "#ed7953"
          ],
          [
           0.7777777777777778,
           "#fb9f3a"
          ],
          [
           0.8888888888888888,
           "#fdca26"
          ],
          [
           1,
           "#f0f921"
          ]
         ]
        },
        "height": 400,
        "legend": {
         "tracegroupgap": 0
        },
        "template": {
         "data": {
          "bar": [
           {
            "error_x": {
             "color": "#2a3f5f"
            },
            "error_y": {
             "color": "#2a3f5f"
            },
            "marker": {
             "line": {
              "color": "#E5ECF6",
              "width": 0.5
             }
            },
            "type": "bar"
           }
          ],
          "barpolar": [
           {
            "marker": {
             "line": {
              "color": "#E5ECF6",
              "width": 0.5
             }
            },
            "type": "barpolar"
           }
          ],
          "carpet": [
           {
            "aaxis": {
             "endlinecolor": "#2a3f5f",
             "gridcolor": "white",
             "linecolor": "white",
             "minorgridcolor": "white",
             "startlinecolor": "#2a3f5f"
            },
            "baxis": {
             "endlinecolor": "#2a3f5f",
             "gridcolor": "white",
             "linecolor": "white",
             "minorgridcolor": "white",
             "startlinecolor": "#2a3f5f"
            },
            "type": "carpet"
           }
          ],
          "choropleth": [
           {
            "colorbar": {
             "outlinewidth": 0,
             "ticks": ""
            },
            "type": "choropleth"
           }
          ],
          "contour": [
           {
            "colorbar": {
             "outlinewidth": 0,
             "ticks": ""
            },
            "colorscale": [
             [
              0,
              "#0d0887"
             ],
             [
              0.1111111111111111,
              "#46039f"
             ],
             [
              0.2222222222222222,
              "#7201a8"
             ],
             [
              0.3333333333333333,
              "#9c179e"
             ],
             [
              0.4444444444444444,
              "#bd3786"
             ],
             [
              0.5555555555555556,
              "#d8576b"
             ],
             [
              0.6666666666666666,
              "#ed7953"
             ],
             [
              0.7777777777777778,
              "#fb9f3a"
             ],
             [
              0.8888888888888888,
              "#fdca26"
             ],
             [
              1,
              "#f0f921"
             ]
            ],
            "type": "contour"
           }
          ],
          "contourcarpet": [
           {
            "colorbar": {
             "outlinewidth": 0,
             "ticks": ""
            },
            "type": "contourcarpet"
           }
          ],
          "heatmap": [
           {
            "colorbar": {
             "outlinewidth": 0,
             "ticks": ""
            },
            "colorscale": [
             [
              0,
              "#0d0887"
             ],
             [
              0.1111111111111111,
              "#46039f"
             ],
             [
              0.2222222222222222,
              "#7201a8"
             ],
             [
              0.3333333333333333,
              "#9c179e"
             ],
             [
              0.4444444444444444,
              "#bd3786"
             ],
             [
              0.5555555555555556,
              "#d8576b"
             ],
             [
              0.6666666666666666,
              "#ed7953"
             ],
             [
              0.7777777777777778,
              "#fb9f3a"
             ],
             [
              0.8888888888888888,
              "#fdca26"
             ],
             [
              1,
              "#f0f921"
             ]
            ],
            "type": "heatmap"
           }
          ],
          "heatmapgl": [
           {
            "colorbar": {
             "outlinewidth": 0,
             "ticks": ""
            },
            "colorscale": [
             [
              0,
              "#0d0887"
             ],
             [
              0.1111111111111111,
              "#46039f"
             ],
             [
              0.2222222222222222,
              "#7201a8"
             ],
             [
              0.3333333333333333,
              "#9c179e"
             ],
             [
              0.4444444444444444,
              "#bd3786"
             ],
             [
              0.5555555555555556,
              "#d8576b"
             ],
             [
              0.6666666666666666,
              "#ed7953"
             ],
             [
              0.7777777777777778,
              "#fb9f3a"
             ],
             [
              0.8888888888888888,
              "#fdca26"
             ],
             [
              1,
              "#f0f921"
             ]
            ],
            "type": "heatmapgl"
           }
          ],
          "histogram": [
           {
            "marker": {
             "colorbar": {
              "outlinewidth": 0,
              "ticks": ""
             }
            },
            "type": "histogram"
           }
          ],
          "histogram2d": [
           {
            "colorbar": {
             "outlinewidth": 0,
             "ticks": ""
            },
            "colorscale": [
             [
              0,
              "#0d0887"
             ],
             [
              0.1111111111111111,
              "#46039f"
             ],
             [
              0.2222222222222222,
              "#7201a8"
             ],
             [
              0.3333333333333333,
              "#9c179e"
             ],
             [
              0.4444444444444444,
              "#bd3786"
             ],
             [
              0.5555555555555556,
              "#d8576b"
             ],
             [
              0.6666666666666666,
              "#ed7953"
             ],
             [
              0.7777777777777778,
              "#fb9f3a"
             ],
             [
              0.8888888888888888,
              "#fdca26"
             ],
             [
              1,
              "#f0f921"
             ]
            ],
            "type": "histogram2d"
           }
          ],
          "histogram2dcontour": [
           {
            "colorbar": {
             "outlinewidth": 0,
             "ticks": ""
            },
            "colorscale": [
             [
              0,
              "#0d0887"
             ],
             [
              0.1111111111111111,
              "#46039f"
             ],
             [
              0.2222222222222222,
              "#7201a8"
             ],
             [
              0.3333333333333333,
              "#9c179e"
             ],
             [
              0.4444444444444444,
              "#bd3786"
             ],
             [
              0.5555555555555556,
              "#d8576b"
             ],
             [
              0.6666666666666666,
              "#ed7953"
             ],
             [
              0.7777777777777778,
              "#fb9f3a"
             ],
             [
              0.8888888888888888,
              "#fdca26"
             ],
             [
              1,
              "#f0f921"
             ]
            ],
            "type": "histogram2dcontour"
           }
          ],
          "mesh3d": [
           {
            "colorbar": {
             "outlinewidth": 0,
             "ticks": ""
            },
            "type": "mesh3d"
           }
          ],
          "parcoords": [
           {
            "line": {
             "colorbar": {
              "outlinewidth": 0,
              "ticks": ""
             }
            },
            "type": "parcoords"
           }
          ],
          "pie": [
           {
            "automargin": true,
            "type": "pie"
           }
          ],
          "scatter": [
           {
            "marker": {
             "colorbar": {
              "outlinewidth": 0,
              "ticks": ""
             }
            },
            "type": "scatter"
           }
          ],
          "scatter3d": [
           {
            "line": {
             "colorbar": {
              "outlinewidth": 0,
              "ticks": ""
             }
            },
            "marker": {
             "colorbar": {
              "outlinewidth": 0,
              "ticks": ""
             }
            },
            "type": "scatter3d"
           }
          ],
          "scattercarpet": [
           {
            "marker": {
             "colorbar": {
              "outlinewidth": 0,
              "ticks": ""
             }
            },
            "type": "scattercarpet"
           }
          ],
          "scattergeo": [
           {
            "marker": {
             "colorbar": {
              "outlinewidth": 0,
              "ticks": ""
             }
            },
            "type": "scattergeo"
           }
          ],
          "scattergl": [
           {
            "marker": {
             "colorbar": {
              "outlinewidth": 0,
              "ticks": ""
             }
            },
            "type": "scattergl"
           }
          ],
          "scattermapbox": [
           {
            "marker": {
             "colorbar": {
              "outlinewidth": 0,
              "ticks": ""
             }
            },
            "type": "scattermapbox"
           }
          ],
          "scatterpolar": [
           {
            "marker": {
             "colorbar": {
              "outlinewidth": 0,
              "ticks": ""
             }
            },
            "type": "scatterpolar"
           }
          ],
          "scatterpolargl": [
           {
            "marker": {
             "colorbar": {
              "outlinewidth": 0,
              "ticks": ""
             }
            },
            "type": "scatterpolargl"
           }
          ],
          "scatterternary": [
           {
            "marker": {
             "colorbar": {
              "outlinewidth": 0,
              "ticks": ""
             }
            },
            "type": "scatterternary"
           }
          ],
          "surface": [
           {
            "colorbar": {
             "outlinewidth": 0,
             "ticks": ""
            },
            "colorscale": [
             [
              0,
              "#0d0887"
             ],
             [
              0.1111111111111111,
              "#46039f"
             ],
             [
              0.2222222222222222,
              "#7201a8"
             ],
             [
              0.3333333333333333,
              "#9c179e"
             ],
             [
              0.4444444444444444,
              "#bd3786"
             ],
             [
              0.5555555555555556,
              "#d8576b"
             ],
             [
              0.6666666666666666,
              "#ed7953"
             ],
             [
              0.7777777777777778,
              "#fb9f3a"
             ],
             [
              0.8888888888888888,
              "#fdca26"
             ],
             [
              1,
              "#f0f921"
             ]
            ],
            "type": "surface"
           }
          ],
          "table": [
           {
            "cells": {
             "fill": {
              "color": "#EBF0F8"
             },
             "line": {
              "color": "white"
             }
            },
            "header": {
             "fill": {
              "color": "#C8D4E3"
             },
             "line": {
              "color": "white"
             }
            },
            "type": "table"
           }
          ]
         },
         "layout": {
          "annotationdefaults": {
           "arrowcolor": "#2a3f5f",
           "arrowhead": 0,
           "arrowwidth": 1
          },
          "coloraxis": {
           "colorbar": {
            "outlinewidth": 0,
            "ticks": ""
           }
          },
          "colorscale": {
           "diverging": [
            [
             0,
             "#8e0152"
            ],
            [
             0.1,
             "#c51b7d"
            ],
            [
             0.2,
             "#de77ae"
            ],
            [
             0.3,
             "#f1b6da"
            ],
            [
             0.4,
             "#fde0ef"
            ],
            [
             0.5,
             "#f7f7f7"
            ],
            [
             0.6,
             "#e6f5d0"
            ],
            [
             0.7,
             "#b8e186"
            ],
            [
             0.8,
             "#7fbc41"
            ],
            [
             0.9,
             "#4d9221"
            ],
            [
             1,
             "#276419"
            ]
           ],
           "sequential": [
            [
             0,
             "#0d0887"
            ],
            [
             0.1111111111111111,
             "#46039f"
            ],
            [
             0.2222222222222222,
             "#7201a8"
            ],
            [
             0.3333333333333333,
             "#9c179e"
            ],
            [
             0.4444444444444444,
             "#bd3786"
            ],
            [
             0.5555555555555556,
             "#d8576b"
            ],
            [
             0.6666666666666666,
             "#ed7953"
            ],
            [
             0.7777777777777778,
             "#fb9f3a"
            ],
            [
             0.8888888888888888,
             "#fdca26"
            ],
            [
             1,
             "#f0f921"
            ]
           ],
           "sequentialminus": [
            [
             0,
             "#0d0887"
            ],
            [
             0.1111111111111111,
             "#46039f"
            ],
            [
             0.2222222222222222,
             "#7201a8"
            ],
            [
             0.3333333333333333,
             "#9c179e"
            ],
            [
             0.4444444444444444,
             "#bd3786"
            ],
            [
             0.5555555555555556,
             "#d8576b"
            ],
            [
             0.6666666666666666,
             "#ed7953"
            ],
            [
             0.7777777777777778,
             "#fb9f3a"
            ],
            [
             0.8888888888888888,
             "#fdca26"
            ],
            [
             1,
             "#f0f921"
            ]
           ]
          },
          "colorway": [
           "#636efa",
           "#EF553B",
           "#00cc96",
           "#ab63fa",
           "#FFA15A",
           "#19d3f3",
           "#FF6692",
           "#B6E880",
           "#FF97FF",
           "#FECB52"
          ],
          "font": {
           "color": "#2a3f5f"
          },
          "geo": {
           "bgcolor": "white",
           "lakecolor": "white",
           "landcolor": "#E5ECF6",
           "showlakes": true,
           "showland": true,
           "subunitcolor": "white"
          },
          "hoverlabel": {
           "align": "left"
          },
          "hovermode": "closest",
          "mapbox": {
           "style": "light"
          },
          "paper_bgcolor": "white",
          "plot_bgcolor": "#E5ECF6",
          "polar": {
           "angularaxis": {
            "gridcolor": "white",
            "linecolor": "white",
            "ticks": ""
           },
           "bgcolor": "#E5ECF6",
           "radialaxis": {
            "gridcolor": "white",
            "linecolor": "white",
            "ticks": ""
           }
          },
          "scene": {
           "xaxis": {
            "backgroundcolor": "#E5ECF6",
            "gridcolor": "white",
            "gridwidth": 2,
            "linecolor": "white",
            "showbackground": true,
            "ticks": "",
            "zerolinecolor": "white"
           },
           "yaxis": {
            "backgroundcolor": "#E5ECF6",
            "gridcolor": "white",
            "gridwidth": 2,
            "linecolor": "white",
            "showbackground": true,
            "ticks": "",
            "zerolinecolor": "white"
           },
           "zaxis": {
            "backgroundcolor": "#E5ECF6",
            "gridcolor": "white",
            "gridwidth": 2,
            "linecolor": "white",
            "showbackground": true,
            "ticks": "",
            "zerolinecolor": "white"
           }
          },
          "shapedefaults": {
           "line": {
            "color": "#2a3f5f"
           }
          },
          "ternary": {
           "aaxis": {
            "gridcolor": "white",
            "linecolor": "white",
            "ticks": ""
           },
           "baxis": {
            "gridcolor": "white",
            "linecolor": "white",
            "ticks": ""
           },
           "bgcolor": "#E5ECF6",
           "caxis": {
            "gridcolor": "white",
            "linecolor": "white",
            "ticks": ""
           }
          },
          "title": {
           "x": 0.05
          },
          "xaxis": {
           "automargin": true,
           "gridcolor": "white",
           "linecolor": "white",
           "ticks": "",
           "title": {
            "standoff": 15
           },
           "zerolinecolor": "white",
           "zerolinewidth": 2
          },
          "yaxis": {
           "automargin": true,
           "gridcolor": "white",
           "linecolor": "white",
           "ticks": "",
           "title": {
            "standoff": 15
           },
           "zerolinecolor": "white",
           "zerolinewidth": 2
          }
         }
        },
        "title": {
         "text": "The Belgian Waffle Co. Food item with price and bestseller"
        },
        "xaxis": {
         "anchor": "y",
         "domain": [
          0,
          1
         ],
         "title": {
          "text": ""
         }
        },
        "yaxis": {
         "anchor": "x",
         "domain": [
          0,
          1
         ],
         "title": {
          "text": "Item Price (INR)"
         }
        }
       }
      },
      "text/html": [
       "<div>\n",
       "        \n",
       "        \n",
       "            <div id=\"6b70931b-4594-4772-9e2e-de3c1258412f\" class=\"plotly-graph-div\" style=\"height:400px; width:100%;\"></div>\n",
       "            <script type=\"text/javascript\">\n",
       "                require([\"plotly\"], function(Plotly) {\n",
       "                    window.PLOTLYENV=window.PLOTLYENV || {};\n",
       "                    \n",
       "                if (document.getElementById(\"6b70931b-4594-4772-9e2e-de3c1258412f\")) {\n",
       "                    Plotly.newPlot(\n",
       "                        '6b70931b-4594-4772-9e2e-de3c1258412f',\n",
       "                        [{\"alignmentgroup\": \"True\", \"customdata\": [[\"Yaaro Ka Waffle Combo\", 449.0, \"Recommended\"], [\"Ek Main Hu Aur Ekk Tu Combo\", 349.0, \"Recommended\"], [\"Keep Cake & Celebrate Valentines + 1 Free Delight\", 530.0, \"Recommended\"], [\"Chocolate Oats Pancake & Waffle Mix\", 214.0, \"Recommended\"], [\"Milk Chocolate Spread\", 236.55, \"Recommended\"], [\"Chocolate Waffle Crisps\", 114.28, \"Recommended\"], [\"Stroopwafel x 4\", 350.4, \"Recommended\"], [\"Belgian Chocolate Milk Waffle\", 145.71, \"Recommended\"], [\"Naked Nutella Waffle\", 172.38, \"Recommended\"], [\"Kitkat Waffle\", 155.24, \"Recommended\"], [\"Dark & White Fantasy Waffle\", 155.24, \"Recommended\"], [\"Triple Chocolate Waffle\", 165.71, \"Recommended\"], [\"Red Velvet Waffle\", 155.24, \"Recommended\"], [\"Pink Almond Crunch Waffle\", 145.71, \"Recommended\"], [\"Cashewnut Butter Waffle\", 165.71, \"Recommended\"], [\"Rocky Road Waffle\", 184.76, \"Recommended\"], [\"Chocolate Mini Waffle Combo Pack of 4\", 309.52, \"Recommended\"], [\"Assorted Mini Waffle Combo Pack of 6\", 439.05, \"Recommended\"], [\"Triple Chocolate Pancakes (8 Pcs)\", 136.19, \"Recommended\"], [\"Ice Cream And Fudge Chocolate Pancakes (8Pcs)\", 125.71, \"Recommended\"], [\"Ice Cream And Fudge Vanilla Pancakes (8Pcs)\", 125.71, \"Recommended\"], [\"Triple Cookie Mini Pancake\", 165.71, \"Recommended\"], [\"Death By Chocolate Waffle Cake(Double Layer)\", 529.52, \"Recommended\"], [\"Red Velvet Waffle Cake(Single Layer)\", 330.48, \"Recommended\"], [\"Belgian Chocolate Shake\", 160.95, \"Recommended\"], [\"Signature Cold Coffee\", 130.48, \"Recommended\"], [\"Stroopwafel Box Of 6- Chocolate  \", 533.0, \"Recommended\"], [\"Stroopwafel Box Of 6- Assorted  \", 514.0, \"Recommended\"], [\"Happiness In Mini Version + 1 Free Delight\", 456.0, \"Recommended\"], [\"Keep Cake & Celebrate + 1 Free Delight        \", 529.52, \"Recommended\"], [\"3 Belgian Chocolate Milk Waffle + 1 Free Delight         \", 437.14, \"Recommended\"], [\"3 Belgian Chocolate Dark Waffle + 1 Free Delight                \", 437.14, \"Recommended\"], [\"Triple Flavour Festivities + 1 Free Delight\", 466.67, \"Recommended\"], [\"Signature Waffles + 1 FREE Delight\", 447.0, \"Recommended\"], [\"Triple Chocolate Waffle + Belgian Chocolate Shake\", 326.67, \"Recommended\"], [\"Nutella Fix - Combo of 3\", 547.62, \"Recommended\"], [\"Yaaro Ka Waffle Combo\", 449.0, \"Valentines Specials\"], [\"Ek Main Hu Aur Ekk Tu Combo\", 349.0, \"Valentines Specials\"], [\"Keep Cake & Celebrate Valentines + 1 Free Delight\", 530.0, \"Valentines Specials\"], [\"Chocolate Oats Pancake & Waffle Mix\", 214.0, \"Make at Home Specials\"], [\"Milk Chocolate Spread\", 236.55, \"Make at Home Specials\"], [\"Dark Chocolate Spread\", 236.55, \"Make at Home Specials\"], [\"Kiki & Cream Spread\", 236.55, \"Make at Home Specials\"], [\"Chocolate Waffle Crisps\", 114.28, \"Waffle Crisps\"], [\"Double Chocolate Waffle Crisps\", 114.28, \"Waffle Crisps\"], [\"Stroopwafel x 2\", 175.0, \"Stroopwafel\"], [\"Stroopwafel x 4\", 350.4, \"Stroopwafel\"], [\"Honey Butter Waffle\", 107.62, \"Waffles\"], [\"Maple Butter Waffle\", 107.62, \"Waffles\"], [\"Strawberry Creamcheese Waffle\", 155.24, \"Waffles\"], [\"Blueberry Creamcheese Waffle\", 164.76, \"Waffles\"], [\"Belgian Chocolate Milk Waffle\", 145.71, \"Waffles\"], [\"Belgian Chocolate Dark Waffle\", 145.71, \"Waffles\"], [\"Butterscotch Crunch Waffle\", 135.24, \"Waffles\"], [\"Coffee Mocha Waffle\", 145.71, \"Waffles\"], [\"Naked Nutella Waffle\", 172.38, \"Waffles\"], [\"Kitkat Waffle\", 155.24, \"Waffles\"], [\"Chocolate Overload Milk Waffle\", 155.24, \"Waffles\"], [\"Chocolate Overload Dark Waffle\", 155.24, \"Waffles\"], [\"Dark & White Fantasy Waffle\", 155.24, \"Waffles\"], [\"Triple Chocolate Waffle\", 165.71, \"Waffles\"], [\"Biscoff Milkyway Waffle\", 155.24, \"Waffles\"], [\"Kiki And Oreo Cream Waffle\", 145.71, \"Waffles\"], [\"Red Velvet Waffle\", 155.24, \"Waffles\"], [\"Pink Almond Crunch Waffle\", 145.71, \"Waffles\"], [\"Cashewnut Butter Waffle\", 165.71, \"Waffles\"], [\"Almond Cocoa Butter Waffle\", 165.71, \"Waffles\"], [\"Peanut Butter Waffle\", 145.71, \"Waffles\"], [\"Ice Cream And Fudge Chocolate Waffle\", 165.71, \"Waffles\"], [\"Triple Cookie Waffle\", 195.24, \"Waffles\"], [\"Ice Cream And Fudge Vanilla Waffle\", 165.71, \"Waffles\"], [\"Rocky Road Waffle\", 184.76, \"Waffles\"], [\"Chocolate Mini Waffle Combo Pack of 4\", 309.52, \"Mini Waffles\"], [\"Assorted Mini Waffle Combo Pack of 4\", 301.9, \"Mini Waffles\"], [\"Chocolate Mini Waffle Combo Pack of 6\", 456.19, \"Mini Waffles\"], [\"Assorted Mini Waffle Combo Pack of 6\", 439.05, \"Mini Waffles\"], [\"Honey Butter Pancakes (8 Pcs)\", 88.57, \"Mini Pancakes\"], [\"Maple Butter Pancakes (8 Pcs)\", 88.57, \"Mini Pancakes\"], [\"Strawberry Creamcheese Pancakes (8 Pcs)\", 135.24, \"Mini Pancakes\"], [\"Blueberry Creamcheese Pancakes (8 Pcs)\", 145.71, \"Mini Pancakes\"], [\"Belgian Chocolate - Milk Pancakes (8 Pcs)\", 116.19, \"Mini Pancakes\"], [\"Belgian Chocolate - Dark Pancakes (8 Pcs)\", 116.19, \"Mini Pancakes\"], [\"Butterscotch Crunch Pancakes (8 Pcs)\", 108.57, \"Mini Pancakes\"], [\"Coffee Mocha Pancakes (8 Pcs)\", 116.19, \"Mini Pancakes\"], [\"Naked Nutella Pancakes (8 Pcs)\", 156.19, \"Mini Pancakes\"], [\"Kitkat Pancakes (8 Pcs)\", 125.71, \"Mini Pancakes\"], [\"Chocolate Overload- Milk Pancakes (8 Pcs)\", 125.71, \"Mini Pancakes\"], [\"Chocolate Overload - Dark Pancakes (8 Pcs)\", 125.71, \"Mini Pancakes\"], [\"Dark & White Fantasy Pancakes (8 Pcs)\", 125.71, \"Mini Pancakes\"], [\"Triple Chocolate Pancakes (8 Pcs)\", 136.19, \"Mini Pancakes\"], [\"Kiki And Oreo Cream Pancakes (8 Pcs)\", 116.19, \"Mini Pancakes\"], [\"Biscoff Milkyway Pancake (8Pcs)\", 124.76, \"Mini Pancakes\"], [\"Red Velvet Pancakes (8 Pcs)\", 125.71, \"Mini Pancakes\"], [\"Pink Almond Crunch Pancake (8 Pcs)\", 125.71, \"Mini Pancakes\"], [\"Cashewnut Butter Pancake (8 Pcs)\", 145.71, \"Mini Pancakes\"], [\"Almond Cocoa Butter Pancakes (8 Pcs)\", 136.19, \"Mini Pancakes\"], [\"Peanut Butter Pancake (8 Pcs)\", 125.71, \"Mini Pancakes\"], [\"Ice Cream And Fudge Chocolate Pancakes (8Pcs)\", 125.71, \"Mini Pancakes\"], [\"Rocky Road Pancakes (8Pcs)\", 156.19, \"Mini Pancakes\"], [\"Ice Cream And Fudge Vanilla Pancakes (8Pcs)\", 125.71, \"Mini Pancakes\"], [\"Triple Cookie Mini Pancake\", 165.71, \"Mini Pancakes\"], [\"67% Less Sugar Belgian Chocolate Milk Waffle\", 155.24, \"Less Sugar Waffles And Pancakes\"], [\"67% Less Sugar Belgian Chocolate Dark Waffle\", 155.24, \"Less Sugar Waffles And Pancakes\"], [\"67% Less Sugar Chocolate Overload Milk Waffle\", 165.71, \"Less Sugar Waffles And Pancakes\"], [\"67% Less Sugar Chocolate Overload Dark Waffle\", 165.71, \"Less Sugar Waffles And Pancakes\"], [\"67% Less Sugar Belgian Chocolate Milk Pancakes (8 Pcs)\", 125.71, \"Less Sugar Waffles And Pancakes\"], [\"67% Less Sugar Belgian Chocolate Dark Pancakes (8 Pcs)\", 125.71, \"Less Sugar Waffles And Pancakes\"], [\"67% Less Sugar Chocolate Overload Milk Pancakes (8 Pcs)\", 136.19, \"Less Sugar Waffles And Pancakes\"], [\"67% Less Sugar Chocolate Overload Dark Pancakes (8 Pcs)\", 136.19, \"Less Sugar Waffles And Pancakes\"], [\"Death By Chocolate Waffle Cake(Single Layer)\", 330.48, \"Waffle Cakes\"], [\"Death By Chocolate Waffle Cake(Double Layer)\", 529.52, \"Waffle Cakes\"], [\"Red Velvet Waffle Cake(Single Layer)\", 330.48, \"Waffle Cakes\"], [\"Red Velvet Waffle Cake(Double Layer)\", 529.52, \"Waffle Cakes\"], [\"Kiki And Oreo Cream Waffle Cake (Single Layer)\", 330.48, \"Waffle Cakes\"], [\"Kiki And Oreo Cream Waffle Cake (Double Layer)\", 529.52, \"Waffle Cakes\"], [\"Oreo Shake\", 160.95, \"Beverages\"], [\"Belgian Chocolate Shake\", 160.95, \"Beverages\"], [\"Banana Peanut Butter\", 180.95, \"Beverages\"], [\"Kitkat Shake\", 180.0, \"Beverages\"], [\"Blueberry White Chocolate\", 180.0, \"Beverages\"], [\"Nutella Shake\", 219.05, \"Beverages\"], [\"Signature Cold Coffee\", 130.48, \"Beverages\"], [\"Peach Iced Tea\", 103.81, \"Beverages\"], [\"Lemon Iced Tea\", 103.81, \"Beverages\"], [\"Berry Lemonade\", 130.48, \"Beverages\"], [\"Stroopwafel Box Of 6- Chocolate  \", 533.0, \"Christmas Specials\"], [\"Stroopwafel Box Of 6- Assorted  \", 514.0, \"Christmas Specials\"], [\"Happiness In Mini Version + 1 Free Delight\", 456.0, \"Christmas Specials\"], [\"Keep Cake & Celebrate + 1 Free Delight        \", 529.52, \"Christmas Specials\"], [\"3 Belgian Chocolate Milk Waffle + 1 Free Delight         \", 437.14, \"Christmas Specials\"], [\"3 Belgian Chocolate Dark Waffle + 1 Free Delight                \", 437.14, \"Christmas Specials\"], [\"Triple Flavour Festivities + 1 Free Delight\", 466.67, \"Christmas Specials\"], [\"Signature Waffles + 1 FREE Delight\", 447.0, \"Christmas Specials\"], [\"Triple Chocolate Waffle + Belgian Chocolate Shake\", 326.67, \"BWC Specials\"], [\"Naked Nutella Waffle + Naked Nutella Pancake  \", 328.57, \"BWC Specials\"], [\"Chocolate Trio Combo Of 3                           \", 425.71, \"BWC Specials\"], [\"Nutella Fix - Combo of 3\", 547.62, \"BWC Specials\"], [\"Triple Batter Bliss (Combo of 3)\", 446.67, \"BWC Specials\"], [\"Chocomania Club - Combo of 4\", 665.71, \"BWC Specials\"]], \"hovertemplate\": \"=%{customdata[0]}<br>Item Price (INR)=%{customdata[1]}<br>item_category=%{customdata[2]}<br>bestseller_tag=%{marker.color}<extra></extra>\", \"legendgroup\": \"\", \"marker\": {\"color\": [0, 0, 0, 0, 0, 0, 0, 1, 1, 1, 0, 1, 1, 0, 0, 0, 1, 0, 0, 0, 0, 0, 0, 0, 0, 0, 0, 0, 0, 0, 0, 0, 0, 0, 0, 0, 0, 0, 0, 0, 0, 0, 0, 0, 0, 0, 0, 0, 1, 0, 0, 1, 0, 0, 1, 1, 1, 0, 0, 0, 1, 0, 1, 1, 0, 0, 0, 0, 0, 0, 0, 0, 1, 0, 0, 0, 0, 0, 0, 0, 1, 0, 0, 0, 0, 0, 0, 0, 0, 0, 0, 0, 0, 0, 0, 0, 0, 0, 0, 0, 0, 0, 0, 0, 0, 0, 0, 0, 0, 0, 0, 0, 0, 0, 0, 0, 0, 0, 0, 0, 0, 0, 0, 0, 0, 0, 0, 0, 0, 0, 0, 0, 0, 0, 0, 0, 0, 0, 0], \"coloraxis\": \"coloraxis\"}, \"name\": \"\", \"offsetgroup\": \"\", \"orientation\": \"v\", \"showlegend\": false, \"textposition\": \"auto\", \"type\": \"bar\", \"x\": [\"Yaaro Ka Waffle Combo\", \"Ek Main Hu Aur Ekk Tu Combo\", \"Keep Cake & Celebrate Valentines + 1 Free Delight\", \"Chocolate Oats Pancake & Waffle Mix\", \"Milk Chocolate Spread\", \"Chocolate Waffle Crisps\", \"Stroopwafel x 4\", \"Belgian Chocolate Milk Waffle\", \"Naked Nutella Waffle\", \"Kitkat Waffle\", \"Dark & White Fantasy Waffle\", \"Triple Chocolate Waffle\", \"Red Velvet Waffle\", \"Pink Almond Crunch Waffle\", \"Cashewnut Butter Waffle\", \"Rocky Road Waffle\", \"Chocolate Mini Waffle Combo Pack of 4\", \"Assorted Mini Waffle Combo Pack of 6\", \"Triple Chocolate Pancakes (8 Pcs)\", \"Ice Cream And Fudge Chocolate Pancakes (8Pcs)\", \"Ice Cream And Fudge Vanilla Pancakes (8Pcs)\", \"Triple Cookie Mini Pancake\", \"Death By Chocolate Waffle Cake(Double Layer)\", \"Red Velvet Waffle Cake(Single Layer)\", \"Belgian Chocolate Shake\", \"Signature Cold Coffee\", \"Stroopwafel Box Of 6- Chocolate  \", \"Stroopwafel Box Of 6- Assorted  \", \"Happiness In Mini Version + 1 Free Delight\", \"Keep Cake & Celebrate + 1 Free Delight        \", \"3 Belgian Chocolate Milk Waffle + 1 Free Delight         \", \"3 Belgian Chocolate Dark Waffle + 1 Free Delight                \", \"Triple Flavour Festivities + 1 Free Delight\", \"Signature Waffles + 1 FREE Delight\", \"Triple Chocolate Waffle + Belgian Chocolate Shake\", \"Nutella Fix - Combo of 3\", \"Yaaro Ka Waffle Combo\", \"Ek Main Hu Aur Ekk Tu Combo\", \"Keep Cake & Celebrate Valentines + 1 Free Delight\", \"Chocolate Oats Pancake & Waffle Mix\", \"Milk Chocolate Spread\", \"Dark Chocolate Spread\", \"Kiki & Cream Spread\", \"Chocolate Waffle Crisps\", \"Double Chocolate Waffle Crisps\", \"Stroopwafel x 2\", \"Stroopwafel x 4\", \"Honey Butter Waffle\", \"Maple Butter Waffle\", \"Strawberry Creamcheese Waffle\", \"Blueberry Creamcheese Waffle\", \"Belgian Chocolate Milk Waffle\", \"Belgian Chocolate Dark Waffle\", \"Butterscotch Crunch Waffle\", \"Coffee Mocha Waffle\", \"Naked Nutella Waffle\", \"Kitkat Waffle\", \"Chocolate Overload Milk Waffle\", \"Chocolate Overload Dark Waffle\", \"Dark & White Fantasy Waffle\", \"Triple Chocolate Waffle\", \"Biscoff Milkyway Waffle\", \"Kiki And Oreo Cream Waffle\", \"Red Velvet Waffle\", \"Pink Almond Crunch Waffle\", \"Cashewnut Butter Waffle\", \"Almond Cocoa Butter Waffle\", \"Peanut Butter Waffle\", \"Ice Cream And Fudge Chocolate Waffle\", \"Triple Cookie Waffle\", \"Ice Cream And Fudge Vanilla Waffle\", \"Rocky Road Waffle\", \"Chocolate Mini Waffle Combo Pack of 4\", \"Assorted Mini Waffle Combo Pack of 4\", \"Chocolate Mini Waffle Combo Pack of 6\", \"Assorted Mini Waffle Combo Pack of 6\", \"Honey Butter Pancakes (8 Pcs)\", \"Maple Butter Pancakes (8 Pcs)\", \"Strawberry Creamcheese Pancakes (8 Pcs)\", \"Blueberry Creamcheese Pancakes (8 Pcs)\", \"Belgian Chocolate - Milk Pancakes (8 Pcs)\", \"Belgian Chocolate - Dark Pancakes (8 Pcs)\", \"Butterscotch Crunch Pancakes (8 Pcs)\", \"Coffee Mocha Pancakes (8 Pcs)\", \"Naked Nutella Pancakes (8 Pcs)\", \"Kitkat Pancakes (8 Pcs)\", \"Chocolate Overload- Milk Pancakes (8 Pcs)\", \"Chocolate Overload - Dark Pancakes (8 Pcs)\", \"Dark & White Fantasy Pancakes (8 Pcs)\", \"Triple Chocolate Pancakes (8 Pcs)\", \"Kiki And Oreo Cream Pancakes (8 Pcs)\", \"Biscoff Milkyway Pancake (8Pcs)\", \"Red Velvet Pancakes (8 Pcs)\", \"Pink Almond Crunch Pancake (8 Pcs)\", \"Cashewnut Butter Pancake (8 Pcs)\", \"Almond Cocoa Butter Pancakes (8 Pcs)\", \"Peanut Butter Pancake (8 Pcs)\", \"Ice Cream And Fudge Chocolate Pancakes (8Pcs)\", \"Rocky Road Pancakes (8Pcs)\", \"Ice Cream And Fudge Vanilla Pancakes (8Pcs)\", \"Triple Cookie Mini Pancake\", \"67% Less Sugar Belgian Chocolate Milk Waffle\", \"67% Less Sugar Belgian Chocolate Dark Waffle\", \"67% Less Sugar Chocolate Overload Milk Waffle\", \"67% Less Sugar Chocolate Overload Dark Waffle\", \"67% Less Sugar Belgian Chocolate Milk Pancakes (8 Pcs)\", \"67% Less Sugar Belgian Chocolate Dark Pancakes (8 Pcs)\", \"67% Less Sugar Chocolate Overload Milk Pancakes (8 Pcs)\", \"67% Less Sugar Chocolate Overload Dark Pancakes (8 Pcs)\", \"Death By Chocolate Waffle Cake(Single Layer)\", \"Death By Chocolate Waffle Cake(Double Layer)\", \"Red Velvet Waffle Cake(Single Layer)\", \"Red Velvet Waffle Cake(Double Layer)\", \"Kiki And Oreo Cream Waffle Cake (Single Layer)\", \"Kiki And Oreo Cream Waffle Cake (Double Layer)\", \"Oreo Shake\", \"Belgian Chocolate Shake\", \"Banana Peanut Butter\", \"Kitkat Shake\", \"Blueberry White Chocolate\", \"Nutella Shake\", \"Signature Cold Coffee\", \"Peach Iced Tea\", \"Lemon Iced Tea\", \"Berry Lemonade\", \"Stroopwafel Box Of 6- Chocolate  \", \"Stroopwafel Box Of 6- Assorted  \", \"Happiness In Mini Version + 1 Free Delight\", \"Keep Cake & Celebrate + 1 Free Delight        \", \"3 Belgian Chocolate Milk Waffle + 1 Free Delight         \", \"3 Belgian Chocolate Dark Waffle + 1 Free Delight                \", \"Triple Flavour Festivities + 1 Free Delight\", \"Signature Waffles + 1 FREE Delight\", \"Triple Chocolate Waffle + Belgian Chocolate Shake\", \"Naked Nutella Waffle + Naked Nutella Pancake  \", \"Chocolate Trio Combo Of 3                           \", \"Nutella Fix - Combo of 3\", \"Triple Batter Bliss (Combo of 3)\", \"Chocomania Club - Combo of 4\"], \"xaxis\": \"x\", \"y\": [449.0, 349.0, 530.0, 214.0, 236.55, 114.28, 350.4, 145.71, 172.38, 155.24, 155.24, 165.71, 155.24, 145.71, 165.71, 184.76, 309.52, 439.05, 136.19, 125.71, 125.71, 165.71, 529.52, 330.48, 160.95, 130.48, 533.0, 514.0, 456.0, 529.52, 437.14, 437.14, 466.67, 447.0, 326.67, 547.62, 449.0, 349.0, 530.0, 214.0, 236.55, 236.55, 236.55, 114.28, 114.28, 175.0, 350.4, 107.62, 107.62, 155.24, 164.76, 145.71, 145.71, 135.24, 145.71, 172.38, 155.24, 155.24, 155.24, 155.24, 165.71, 155.24, 145.71, 155.24, 145.71, 165.71, 165.71, 145.71, 165.71, 195.24, 165.71, 184.76, 309.52, 301.9, 456.19, 439.05, 88.57, 88.57, 135.24, 145.71, 116.19, 116.19, 108.57, 116.19, 156.19, 125.71, 125.71, 125.71, 125.71, 136.19, 116.19, 124.76, 125.71, 125.71, 145.71, 136.19, 125.71, 125.71, 156.19, 125.71, 165.71, 155.24, 155.24, 165.71, 165.71, 125.71, 125.71, 136.19, 136.19, 330.48, 529.52, 330.48, 529.52, 330.48, 529.52, 160.95, 160.95, 180.95, 180.0, 180.0, 219.05, 130.48, 103.81, 103.81, 130.48, 533.0, 514.0, 456.0, 529.52, 437.14, 437.14, 466.67, 447.0, 326.67, 328.57, 425.71, 547.62, 446.67, 665.71], \"yaxis\": \"y\"}],\n",
       "                        {\"barmode\": \"relative\", \"coloraxis\": {\"colorbar\": {\"title\": {\"text\": \"bestseller_tag\"}}, \"colorscale\": [[0.0, \"#0d0887\"], [0.1111111111111111, \"#46039f\"], [0.2222222222222222, \"#7201a8\"], [0.3333333333333333, \"#9c179e\"], [0.4444444444444444, \"#bd3786\"], [0.5555555555555556, \"#d8576b\"], [0.6666666666666666, \"#ed7953\"], [0.7777777777777778, \"#fb9f3a\"], [0.8888888888888888, \"#fdca26\"], [1.0, \"#f0f921\"]]}, \"height\": 400, \"legend\": {\"tracegroupgap\": 0}, \"template\": {\"data\": {\"bar\": [{\"error_x\": {\"color\": \"#2a3f5f\"}, \"error_y\": {\"color\": \"#2a3f5f\"}, \"marker\": {\"line\": {\"color\": \"#E5ECF6\", \"width\": 0.5}}, \"type\": \"bar\"}], \"barpolar\": [{\"marker\": {\"line\": {\"color\": \"#E5ECF6\", \"width\": 0.5}}, \"type\": \"barpolar\"}], \"carpet\": [{\"aaxis\": {\"endlinecolor\": \"#2a3f5f\", \"gridcolor\": \"white\", \"linecolor\": \"white\", \"minorgridcolor\": \"white\", \"startlinecolor\": \"#2a3f5f\"}, \"baxis\": {\"endlinecolor\": \"#2a3f5f\", \"gridcolor\": \"white\", \"linecolor\": \"white\", \"minorgridcolor\": \"white\", \"startlinecolor\": \"#2a3f5f\"}, \"type\": \"carpet\"}], \"choropleth\": [{\"colorbar\": {\"outlinewidth\": 0, \"ticks\": \"\"}, \"type\": \"choropleth\"}], \"contour\": [{\"colorbar\": {\"outlinewidth\": 0, \"ticks\": \"\"}, \"colorscale\": [[0.0, \"#0d0887\"], [0.1111111111111111, \"#46039f\"], [0.2222222222222222, \"#7201a8\"], [0.3333333333333333, \"#9c179e\"], [0.4444444444444444, \"#bd3786\"], [0.5555555555555556, \"#d8576b\"], [0.6666666666666666, \"#ed7953\"], [0.7777777777777778, \"#fb9f3a\"], [0.8888888888888888, \"#fdca26\"], [1.0, \"#f0f921\"]], \"type\": \"contour\"}], \"contourcarpet\": [{\"colorbar\": {\"outlinewidth\": 0, \"ticks\": \"\"}, \"type\": \"contourcarpet\"}], \"heatmap\": [{\"colorbar\": {\"outlinewidth\": 0, \"ticks\": \"\"}, \"colorscale\": [[0.0, \"#0d0887\"], [0.1111111111111111, \"#46039f\"], [0.2222222222222222, \"#7201a8\"], [0.3333333333333333, \"#9c179e\"], [0.4444444444444444, \"#bd3786\"], [0.5555555555555556, \"#d8576b\"], [0.6666666666666666, \"#ed7953\"], [0.7777777777777778, \"#fb9f3a\"], [0.8888888888888888, \"#fdca26\"], [1.0, \"#f0f921\"]], \"type\": \"heatmap\"}], \"heatmapgl\": [{\"colorbar\": {\"outlinewidth\": 0, \"ticks\": \"\"}, \"colorscale\": [[0.0, \"#0d0887\"], [0.1111111111111111, \"#46039f\"], [0.2222222222222222, \"#7201a8\"], [0.3333333333333333, \"#9c179e\"], [0.4444444444444444, \"#bd3786\"], [0.5555555555555556, \"#d8576b\"], [0.6666666666666666, \"#ed7953\"], [0.7777777777777778, \"#fb9f3a\"], [0.8888888888888888, \"#fdca26\"], [1.0, \"#f0f921\"]], \"type\": \"heatmapgl\"}], \"histogram\": [{\"marker\": {\"colorbar\": {\"outlinewidth\": 0, \"ticks\": \"\"}}, \"type\": \"histogram\"}], \"histogram2d\": [{\"colorbar\": {\"outlinewidth\": 0, \"ticks\": \"\"}, \"colorscale\": [[0.0, \"#0d0887\"], [0.1111111111111111, \"#46039f\"], [0.2222222222222222, \"#7201a8\"], [0.3333333333333333, \"#9c179e\"], [0.4444444444444444, \"#bd3786\"], [0.5555555555555556, \"#d8576b\"], [0.6666666666666666, \"#ed7953\"], [0.7777777777777778, \"#fb9f3a\"], [0.8888888888888888, \"#fdca26\"], [1.0, \"#f0f921\"]], \"type\": \"histogram2d\"}], \"histogram2dcontour\": [{\"colorbar\": {\"outlinewidth\": 0, \"ticks\": \"\"}, \"colorscale\": [[0.0, \"#0d0887\"], [0.1111111111111111, \"#46039f\"], [0.2222222222222222, \"#7201a8\"], [0.3333333333333333, \"#9c179e\"], [0.4444444444444444, \"#bd3786\"], [0.5555555555555556, \"#d8576b\"], [0.6666666666666666, \"#ed7953\"], [0.7777777777777778, \"#fb9f3a\"], [0.8888888888888888, \"#fdca26\"], [1.0, \"#f0f921\"]], \"type\": \"histogram2dcontour\"}], \"mesh3d\": [{\"colorbar\": {\"outlinewidth\": 0, \"ticks\": \"\"}, \"type\": \"mesh3d\"}], \"parcoords\": [{\"line\": {\"colorbar\": {\"outlinewidth\": 0, \"ticks\": \"\"}}, \"type\": \"parcoords\"}], \"pie\": [{\"automargin\": true, \"type\": \"pie\"}], \"scatter\": [{\"marker\": {\"colorbar\": {\"outlinewidth\": 0, \"ticks\": \"\"}}, \"type\": \"scatter\"}], \"scatter3d\": [{\"line\": {\"colorbar\": {\"outlinewidth\": 0, \"ticks\": \"\"}}, \"marker\": {\"colorbar\": {\"outlinewidth\": 0, \"ticks\": \"\"}}, \"type\": \"scatter3d\"}], \"scattercarpet\": [{\"marker\": {\"colorbar\": {\"outlinewidth\": 0, \"ticks\": \"\"}}, \"type\": \"scattercarpet\"}], \"scattergeo\": [{\"marker\": {\"colorbar\": {\"outlinewidth\": 0, \"ticks\": \"\"}}, \"type\": \"scattergeo\"}], \"scattergl\": [{\"marker\": {\"colorbar\": {\"outlinewidth\": 0, \"ticks\": \"\"}}, \"type\": \"scattergl\"}], \"scattermapbox\": [{\"marker\": {\"colorbar\": {\"outlinewidth\": 0, \"ticks\": \"\"}}, \"type\": \"scattermapbox\"}], \"scatterpolar\": [{\"marker\": {\"colorbar\": {\"outlinewidth\": 0, \"ticks\": \"\"}}, \"type\": \"scatterpolar\"}], \"scatterpolargl\": [{\"marker\": {\"colorbar\": {\"outlinewidth\": 0, \"ticks\": \"\"}}, \"type\": \"scatterpolargl\"}], \"scatterternary\": [{\"marker\": {\"colorbar\": {\"outlinewidth\": 0, \"ticks\": \"\"}}, \"type\": \"scatterternary\"}], \"surface\": [{\"colorbar\": {\"outlinewidth\": 0, \"ticks\": \"\"}, \"colorscale\": [[0.0, \"#0d0887\"], [0.1111111111111111, \"#46039f\"], [0.2222222222222222, \"#7201a8\"], [0.3333333333333333, \"#9c179e\"], [0.4444444444444444, \"#bd3786\"], [0.5555555555555556, \"#d8576b\"], [0.6666666666666666, \"#ed7953\"], [0.7777777777777778, \"#fb9f3a\"], [0.8888888888888888, \"#fdca26\"], [1.0, \"#f0f921\"]], \"type\": \"surface\"}], \"table\": [{\"cells\": {\"fill\": {\"color\": \"#EBF0F8\"}, \"line\": {\"color\": \"white\"}}, \"header\": {\"fill\": {\"color\": \"#C8D4E3\"}, \"line\": {\"color\": \"white\"}}, \"type\": \"table\"}]}, \"layout\": {\"annotationdefaults\": {\"arrowcolor\": \"#2a3f5f\", \"arrowhead\": 0, \"arrowwidth\": 1}, \"coloraxis\": {\"colorbar\": {\"outlinewidth\": 0, \"ticks\": \"\"}}, \"colorscale\": {\"diverging\": [[0, \"#8e0152\"], [0.1, \"#c51b7d\"], [0.2, \"#de77ae\"], [0.3, \"#f1b6da\"], [0.4, \"#fde0ef\"], [0.5, \"#f7f7f7\"], [0.6, \"#e6f5d0\"], [0.7, \"#b8e186\"], [0.8, \"#7fbc41\"], [0.9, \"#4d9221\"], [1, \"#276419\"]], \"sequential\": [[0.0, \"#0d0887\"], [0.1111111111111111, \"#46039f\"], [0.2222222222222222, \"#7201a8\"], [0.3333333333333333, \"#9c179e\"], [0.4444444444444444, \"#bd3786\"], [0.5555555555555556, \"#d8576b\"], [0.6666666666666666, \"#ed7953\"], [0.7777777777777778, \"#fb9f3a\"], [0.8888888888888888, \"#fdca26\"], [1.0, \"#f0f921\"]], \"sequentialminus\": [[0.0, \"#0d0887\"], [0.1111111111111111, \"#46039f\"], [0.2222222222222222, \"#7201a8\"], [0.3333333333333333, \"#9c179e\"], [0.4444444444444444, \"#bd3786\"], [0.5555555555555556, \"#d8576b\"], [0.6666666666666666, \"#ed7953\"], [0.7777777777777778, \"#fb9f3a\"], [0.8888888888888888, \"#fdca26\"], [1.0, \"#f0f921\"]]}, \"colorway\": [\"#636efa\", \"#EF553B\", \"#00cc96\", \"#ab63fa\", \"#FFA15A\", \"#19d3f3\", \"#FF6692\", \"#B6E880\", \"#FF97FF\", \"#FECB52\"], \"font\": {\"color\": \"#2a3f5f\"}, \"geo\": {\"bgcolor\": \"white\", \"lakecolor\": \"white\", \"landcolor\": \"#E5ECF6\", \"showlakes\": true, \"showland\": true, \"subunitcolor\": \"white\"}, \"hoverlabel\": {\"align\": \"left\"}, \"hovermode\": \"closest\", \"mapbox\": {\"style\": \"light\"}, \"paper_bgcolor\": \"white\", \"plot_bgcolor\": \"#E5ECF6\", \"polar\": {\"angularaxis\": {\"gridcolor\": \"white\", \"linecolor\": \"white\", \"ticks\": \"\"}, \"bgcolor\": \"#E5ECF6\", \"radialaxis\": {\"gridcolor\": \"white\", \"linecolor\": \"white\", \"ticks\": \"\"}}, \"scene\": {\"xaxis\": {\"backgroundcolor\": \"#E5ECF6\", \"gridcolor\": \"white\", \"gridwidth\": 2, \"linecolor\": \"white\", \"showbackground\": true, \"ticks\": \"\", \"zerolinecolor\": \"white\"}, \"yaxis\": {\"backgroundcolor\": \"#E5ECF6\", \"gridcolor\": \"white\", \"gridwidth\": 2, \"linecolor\": \"white\", \"showbackground\": true, \"ticks\": \"\", \"zerolinecolor\": \"white\"}, \"zaxis\": {\"backgroundcolor\": \"#E5ECF6\", \"gridcolor\": \"white\", \"gridwidth\": 2, \"linecolor\": \"white\", \"showbackground\": true, \"ticks\": \"\", \"zerolinecolor\": \"white\"}}, \"shapedefaults\": {\"line\": {\"color\": \"#2a3f5f\"}}, \"ternary\": {\"aaxis\": {\"gridcolor\": \"white\", \"linecolor\": \"white\", \"ticks\": \"\"}, \"baxis\": {\"gridcolor\": \"white\", \"linecolor\": \"white\", \"ticks\": \"\"}, \"bgcolor\": \"#E5ECF6\", \"caxis\": {\"gridcolor\": \"white\", \"linecolor\": \"white\", \"ticks\": \"\"}}, \"title\": {\"x\": 0.05}, \"xaxis\": {\"automargin\": true, \"gridcolor\": \"white\", \"linecolor\": \"white\", \"ticks\": \"\", \"title\": {\"standoff\": 15}, \"zerolinecolor\": \"white\", \"zerolinewidth\": 2}, \"yaxis\": {\"automargin\": true, \"gridcolor\": \"white\", \"linecolor\": \"white\", \"ticks\": \"\", \"title\": {\"standoff\": 15}, \"zerolinecolor\": \"white\", \"zerolinewidth\": 2}}}, \"title\": {\"text\": \"The Belgian Waffle Co. Food item with price and bestseller\"}, \"xaxis\": {\"anchor\": \"y\", \"domain\": [0.0, 1.0], \"title\": {\"text\": \"\"}}, \"yaxis\": {\"anchor\": \"x\", \"domain\": [0.0, 1.0], \"title\": {\"text\": \"Item Price (INR)\"}}},\n",
       "                        {\"responsive\": true}\n",
       "                    ).then(function(){\n",
       "                            \n",
       "var gd = document.getElementById('6b70931b-4594-4772-9e2e-de3c1258412f');\n",
       "var x = new MutationObserver(function (mutations, observer) {{\n",
       "        var display = window.getComputedStyle(gd).display;\n",
       "        if (!display || display === 'none') {{\n",
       "            console.log([gd, 'removed!']);\n",
       "            Plotly.purge(gd);\n",
       "            observer.disconnect();\n",
       "        }}\n",
       "}});\n",
       "\n",
       "// Listen for the removal of the full notebook cells\n",
       "var notebookContainer = gd.closest('#notebook-container');\n",
       "if (notebookContainer) {{\n",
       "    x.observe(notebookContainer, {childList: true});\n",
       "}}\n",
       "\n",
       "// Listen for the clearing of the current output cell\n",
       "var outputEl = gd.closest('.output');\n",
       "if (outputEl) {{\n",
       "    x.observe(outputEl, {childList: true});\n",
       "}}\n",
       "\n",
       "                        })\n",
       "                };\n",
       "                });\n",
       "            </script>\n",
       "        </div>"
      ]
     },
     "metadata": {},
     "output_type": "display_data"
    }
   ],
   "source": [
    "r3 = df.groupby(by='restaurant_name').get_group('The Belgian Waffle Co.')\n",
    "fig = px.bar(r3, x='item_name', y='item_price',\n",
    "             hover_data=['item_name', 'item_price', 'item_category'], color='bestseller_tag', \n",
    "             title=\"The Belgian Waffle Co. Food item with price and bestseller\",\n",
    "             labels=dict(item_price=\"Item Price (INR)\", item_name=\"\"),\n",
    "             height=400)\n",
    "fig.show()"
   ]
  },
  {
   "cell_type": "markdown",
   "metadata": {},
   "source": [
    "#### Bestseller items range from 108 INR to 310 INR"
   ]
  },
  {
   "cell_type": "markdown",
   "metadata": {},
   "source": [
    "#### Note --------"
   ]
  },
  {
   "cell_type": "markdown",
   "metadata": {},
   "source": [
    "People prefer the range to buy from\n",
    "\n",
    "* Burger King: ₹80 to ₹179\n",
    "* Polar Bear: ₹165 to ₹297\n",
    "* The Belgian Waffle Co.: ₹108 to ₹310\n",
    "\n",
    "\n",
    "Items people are buying:\n",
    "\n",
    "* Burger King: \n",
    "    - King Egg Double patty burger (₹80)\n",
    "    - Fiery Chicken Burger (₹179)\n",
    "    - Chicken Whopper (₹179)\n",
    "    - Crispy Veg Burger (₹55)\n",
    "    - Crispy chicken burger (₹80)\n",
    "    - Crispy chicken double patty burger (₹119)\n",
    "    - Crispy veg double patty burger (₹75)\n",
    "    - Chicken Fries 5 pcs (₹75)\n",
    "    - Medium Fries (₹85)\n",
    "    - Medium peri peri fries (₹105)\n",
    "    \n",
    "* Polar Bear:\n",
    "    - Death by chocolate (₹210)\n",
    "    - Gudbud (₹165)\n",
    "    - Sundae Tub Tiramisu Grande (₹297)\n",
    "    \n",
    "* The Belgian Waffle Co.:\n",
    "    - Naked Nutella Waffle (₹142.71)\n",
    "    - Belgian Chocolate Milk Waffle (₹172.38)\n",
    "    - KitKat Waffle (₹155.24)\n",
    "    - Triple chocolate Waffle (₹165.24)\n",
    "    - Red Velvet Waffle (₹155.24)\n",
    "    - Chocolate Mini Waffle combo pack of 4 (₹309.52)\n",
    "    - Maple Butter Waffle (₹107.62)\n",
    "    - Coffee Mocha Waffle (₹145.71)\n",
    "    - Kiki and Orea cream waffle (₹145.71)\n",
    "    - Belgian Chocolate Milk Pancake 8 pcs (₹116.19)   "
   ]
  },
  {
   "cell_type": "markdown",
   "metadata": {},
   "source": [
    " "
   ]
  },
  {
   "cell_type": "markdown",
   "metadata": {},
   "source": [
    "## Which category are people buying from?"
   ]
  },
  {
   "cell_type": "code",
   "execution_count": null,
   "metadata": {},
   "outputs": [],
   "source": []
  }
 ],
 "metadata": {
  "kernelspec": {
   "display_name": "Python 3",
   "language": "python",
   "name": "python3"
  },
  "language_info": {
   "codemirror_mode": {
    "name": "ipython",
    "version": 3
   },
   "file_extension": ".py",
   "mimetype": "text/x-python",
   "name": "python",
   "nbconvert_exporter": "python",
   "pygments_lexer": "ipython3",
   "version": "3.8.1"
  }
 },
 "nbformat": 4,
 "nbformat_minor": 4
}
